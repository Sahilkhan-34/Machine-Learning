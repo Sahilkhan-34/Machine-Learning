{
 "cells": [
  {
   "cell_type": "code",
   "execution_count": 1,
   "metadata": {},
   "outputs": [],
   "source": [
    "import pandas as pd\n",
    "import numpy as np\n",
    "import matplotlib.pyplot as plt\n",
    "from sklearn.model_selection import train_test_split\n",
    "from sklearn.metrics import r2_score, mean_squared_error, roc_auc_score, accuracy_score,precision_score, recall_score,f1_score\n",
    "from sklearn.metrics import confusion_matrix, ConfusionMatrixDisplay,roc_curve"
   ]
  },
  {
   "cell_type": "code",
   "execution_count": 2,
   "metadata": {},
   "outputs": [],
   "source": [
    "df = pd.read_csv(r\"C:\\Users\\sahil\\OneDrive\\Python Self\\EDA\\Telecom_Customer_Churn\\Preprocessed_Telecom_data.csv\")"
   ]
  },
  {
   "cell_type": "code",
   "execution_count": 3,
   "metadata": {},
   "outputs": [
    {
     "data": {
      "text/html": [
       "<div>\n",
       "<style scoped>\n",
       "    .dataframe tbody tr th:only-of-type {\n",
       "        vertical-align: middle;\n",
       "    }\n",
       "\n",
       "    .dataframe tbody tr th {\n",
       "        vertical-align: top;\n",
       "    }\n",
       "\n",
       "    .dataframe thead th {\n",
       "        text-align: right;\n",
       "    }\n",
       "</style>\n",
       "<table border=\"1\" class=\"dataframe\">\n",
       "  <thead>\n",
       "    <tr style=\"text-align: right;\">\n",
       "      <th></th>\n",
       "      <th>Gender</th>\n",
       "      <th>Age</th>\n",
       "      <th>Married</th>\n",
       "      <th>Number of Dependents</th>\n",
       "      <th>Latitude</th>\n",
       "      <th>Longitude</th>\n",
       "      <th>Number of Referrals</th>\n",
       "      <th>Tenure in Months</th>\n",
       "      <th>Offer</th>\n",
       "      <th>Avg Monthly Long Distance Charges</th>\n",
       "      <th>...</th>\n",
       "      <th>Contract</th>\n",
       "      <th>Paperless Billing</th>\n",
       "      <th>Payment Method</th>\n",
       "      <th>Monthly Charge</th>\n",
       "      <th>Total Charges</th>\n",
       "      <th>Total Refunds</th>\n",
       "      <th>Total Extra Data Charges</th>\n",
       "      <th>Total Long Distance Charges</th>\n",
       "      <th>Total Revenue</th>\n",
       "      <th>Customer Status</th>\n",
       "    </tr>\n",
       "  </thead>\n",
       "  <tbody>\n",
       "    <tr>\n",
       "      <th>0</th>\n",
       "      <td>0</td>\n",
       "      <td>37</td>\n",
       "      <td>1</td>\n",
       "      <td>0</td>\n",
       "      <td>34.827662</td>\n",
       "      <td>-118.999073</td>\n",
       "      <td>2</td>\n",
       "      <td>9</td>\n",
       "      <td>0</td>\n",
       "      <td>42.39</td>\n",
       "      <td>...</td>\n",
       "      <td>1</td>\n",
       "      <td>1</td>\n",
       "      <td>1</td>\n",
       "      <td>65.6</td>\n",
       "      <td>593.30</td>\n",
       "      <td>0.00</td>\n",
       "      <td>0</td>\n",
       "      <td>381.51</td>\n",
       "      <td>974.81</td>\n",
       "      <td>1</td>\n",
       "    </tr>\n",
       "    <tr>\n",
       "      <th>1</th>\n",
       "      <td>1</td>\n",
       "      <td>46</td>\n",
       "      <td>0</td>\n",
       "      <td>0</td>\n",
       "      <td>34.162515</td>\n",
       "      <td>-118.203869</td>\n",
       "      <td>0</td>\n",
       "      <td>9</td>\n",
       "      <td>0</td>\n",
       "      <td>10.69</td>\n",
       "      <td>...</td>\n",
       "      <td>0</td>\n",
       "      <td>0</td>\n",
       "      <td>1</td>\n",
       "      <td>-4.0</td>\n",
       "      <td>542.40</td>\n",
       "      <td>38.33</td>\n",
       "      <td>10</td>\n",
       "      <td>96.21</td>\n",
       "      <td>610.28</td>\n",
       "      <td>1</td>\n",
       "    </tr>\n",
       "    <tr>\n",
       "      <th>2</th>\n",
       "      <td>1</td>\n",
       "      <td>50</td>\n",
       "      <td>0</td>\n",
       "      <td>0</td>\n",
       "      <td>33.645672</td>\n",
       "      <td>-117.922613</td>\n",
       "      <td>0</td>\n",
       "      <td>4</td>\n",
       "      <td>5</td>\n",
       "      <td>33.65</td>\n",
       "      <td>...</td>\n",
       "      <td>0</td>\n",
       "      <td>1</td>\n",
       "      <td>0</td>\n",
       "      <td>73.9</td>\n",
       "      <td>280.85</td>\n",
       "      <td>0.00</td>\n",
       "      <td>0</td>\n",
       "      <td>134.60</td>\n",
       "      <td>415.45</td>\n",
       "      <td>0</td>\n",
       "    </tr>\n",
       "    <tr>\n",
       "      <th>3</th>\n",
       "      <td>1</td>\n",
       "      <td>78</td>\n",
       "      <td>1</td>\n",
       "      <td>0</td>\n",
       "      <td>38.014457</td>\n",
       "      <td>-122.115432</td>\n",
       "      <td>1</td>\n",
       "      <td>13</td>\n",
       "      <td>4</td>\n",
       "      <td>27.82</td>\n",
       "      <td>...</td>\n",
       "      <td>0</td>\n",
       "      <td>1</td>\n",
       "      <td>0</td>\n",
       "      <td>98.0</td>\n",
       "      <td>1237.85</td>\n",
       "      <td>0.00</td>\n",
       "      <td>0</td>\n",
       "      <td>361.66</td>\n",
       "      <td>1599.51</td>\n",
       "      <td>0</td>\n",
       "    </tr>\n",
       "    <tr>\n",
       "      <th>4</th>\n",
       "      <td>0</td>\n",
       "      <td>75</td>\n",
       "      <td>1</td>\n",
       "      <td>0</td>\n",
       "      <td>34.227846</td>\n",
       "      <td>-119.079903</td>\n",
       "      <td>3</td>\n",
       "      <td>3</td>\n",
       "      <td>0</td>\n",
       "      <td>7.38</td>\n",
       "      <td>...</td>\n",
       "      <td>0</td>\n",
       "      <td>1</td>\n",
       "      <td>1</td>\n",
       "      <td>83.9</td>\n",
       "      <td>267.40</td>\n",
       "      <td>0.00</td>\n",
       "      <td>0</td>\n",
       "      <td>22.14</td>\n",
       "      <td>289.54</td>\n",
       "      <td>0</td>\n",
       "    </tr>\n",
       "  </tbody>\n",
       "</table>\n",
       "<p>5 rows × 31 columns</p>\n",
       "</div>"
      ],
      "text/plain": [
       "   Gender  Age  Married  Number of Dependents   Latitude   Longitude  \\\n",
       "0       0   37        1                     0  34.827662 -118.999073   \n",
       "1       1   46        0                     0  34.162515 -118.203869   \n",
       "2       1   50        0                     0  33.645672 -117.922613   \n",
       "3       1   78        1                     0  38.014457 -122.115432   \n",
       "4       0   75        1                     0  34.227846 -119.079903   \n",
       "\n",
       "   Number of Referrals  Tenure in Months  Offer  \\\n",
       "0                    2                 9      0   \n",
       "1                    0                 9      0   \n",
       "2                    0                 4      5   \n",
       "3                    1                13      4   \n",
       "4                    3                 3      0   \n",
       "\n",
       "   Avg Monthly Long Distance Charges  ...  Contract  Paperless Billing  \\\n",
       "0                              42.39  ...         1                  1   \n",
       "1                              10.69  ...         0                  0   \n",
       "2                              33.65  ...         0                  1   \n",
       "3                              27.82  ...         0                  1   \n",
       "4                               7.38  ...         0                  1   \n",
       "\n",
       "   Payment Method  Monthly Charge  Total Charges  Total Refunds  \\\n",
       "0               1            65.6         593.30           0.00   \n",
       "1               1            -4.0         542.40          38.33   \n",
       "2               0            73.9         280.85           0.00   \n",
       "3               0            98.0        1237.85           0.00   \n",
       "4               1            83.9         267.40           0.00   \n",
       "\n",
       "   Total Extra Data Charges  Total Long Distance Charges  Total Revenue  \\\n",
       "0                         0                       381.51         974.81   \n",
       "1                        10                        96.21         610.28   \n",
       "2                         0                       134.60         415.45   \n",
       "3                         0                       361.66        1599.51   \n",
       "4                         0                        22.14         289.54   \n",
       "\n",
       "   Customer Status  \n",
       "0                1  \n",
       "1                1  \n",
       "2                0  \n",
       "3                0  \n",
       "4                0  \n",
       "\n",
       "[5 rows x 31 columns]"
      ]
     },
     "execution_count": 3,
     "metadata": {},
     "output_type": "execute_result"
    }
   ],
   "source": [
    "df.head()"
   ]
  },
  {
   "cell_type": "code",
   "execution_count": 4,
   "metadata": {},
   "outputs": [],
   "source": [
    "x = df.drop('Customer Status', axis=1)\n",
    "y = df['Customer Status']"
   ]
  },
  {
   "cell_type": "code",
   "execution_count": 5,
   "metadata": {},
   "outputs": [
    {
     "name": "stdout",
     "output_type": "stream",
     "text": [
      "(3868, 30)\n",
      "(967, 30)\n",
      "(3868,)\n",
      "(967,)\n"
     ]
    }
   ],
   "source": [
    "# train test split\n",
    "x_train,x_test,y_train,y_test = train_test_split(x,y,test_size=0.2,random_state=42)\n",
    "print(x_train.shape)\n",
    "print(x_test.shape)\n",
    "print(y_train.shape)\n",
    "print(y_test.shape)"
   ]
  },
  {
   "cell_type": "code",
   "execution_count": 6,
   "metadata": {},
   "outputs": [],
   "source": [
    "# outlier removal\n",
    "from scipy import stats\n",
    "\n",
    "# Define the columns for which you want to remove outliers\n",
    "selected_columns = ['Number of Dependents', 'Avg Monthly GB Download', 'Total Refunds',\n",
    "                    'Total Extra Data Charges', 'Total Long Distance Charges', 'Total Revenue']\n",
    "\n",
    "# Calculate the Z-scores for the selected columns in the training data\n",
    "z_scores = np.abs(stats.zscore(x_train[selected_columns]))\n",
    "\n",
    "# Set a threshold value for outlier detection (e.g., 3)\n",
    "threshold = 3\n",
    "\n",
    "# Find the indices of outliers based on the threshold\n",
    "outlier_indices = np.where(z_scores > threshold)[0]\n",
    "\n",
    "# Remove the outliers from the training data\n",
    "x_train = x_train.drop(x_train.index[outlier_indices])\n",
    "y_train = y_train.drop(y_train.index[outlier_indices])"
   ]
  },
  {
   "cell_type": "code",
   "execution_count": 7,
   "metadata": {},
   "outputs": [],
   "source": [
    "from sklearn.tree import DecisionTreeClassifier"
   ]
  },
  {
   "cell_type": "code",
   "execution_count": 8,
   "metadata": {},
   "outputs": [
    {
     "data": {
      "text/html": [
       "<style>#sk-container-id-1 {color: black;}#sk-container-id-1 pre{padding: 0;}#sk-container-id-1 div.sk-toggleable {background-color: white;}#sk-container-id-1 label.sk-toggleable__label {cursor: pointer;display: block;width: 100%;margin-bottom: 0;padding: 0.3em;box-sizing: border-box;text-align: center;}#sk-container-id-1 label.sk-toggleable__label-arrow:before {content: \"▸\";float: left;margin-right: 0.25em;color: #696969;}#sk-container-id-1 label.sk-toggleable__label-arrow:hover:before {color: black;}#sk-container-id-1 div.sk-estimator:hover label.sk-toggleable__label-arrow:before {color: black;}#sk-container-id-1 div.sk-toggleable__content {max-height: 0;max-width: 0;overflow: hidden;text-align: left;background-color: #f0f8ff;}#sk-container-id-1 div.sk-toggleable__content pre {margin: 0.2em;color: black;border-radius: 0.25em;background-color: #f0f8ff;}#sk-container-id-1 input.sk-toggleable__control:checked~div.sk-toggleable__content {max-height: 200px;max-width: 100%;overflow: auto;}#sk-container-id-1 input.sk-toggleable__control:checked~label.sk-toggleable__label-arrow:before {content: \"▾\";}#sk-container-id-1 div.sk-estimator input.sk-toggleable__control:checked~label.sk-toggleable__label {background-color: #d4ebff;}#sk-container-id-1 div.sk-label input.sk-toggleable__control:checked~label.sk-toggleable__label {background-color: #d4ebff;}#sk-container-id-1 input.sk-hidden--visually {border: 0;clip: rect(1px 1px 1px 1px);clip: rect(1px, 1px, 1px, 1px);height: 1px;margin: -1px;overflow: hidden;padding: 0;position: absolute;width: 1px;}#sk-container-id-1 div.sk-estimator {font-family: monospace;background-color: #f0f8ff;border: 1px dotted black;border-radius: 0.25em;box-sizing: border-box;margin-bottom: 0.5em;}#sk-container-id-1 div.sk-estimator:hover {background-color: #d4ebff;}#sk-container-id-1 div.sk-parallel-item::after {content: \"\";width: 100%;border-bottom: 1px solid gray;flex-grow: 1;}#sk-container-id-1 div.sk-label:hover label.sk-toggleable__label {background-color: #d4ebff;}#sk-container-id-1 div.sk-serial::before {content: \"\";position: absolute;border-left: 1px solid gray;box-sizing: border-box;top: 0;bottom: 0;left: 50%;z-index: 0;}#sk-container-id-1 div.sk-serial {display: flex;flex-direction: column;align-items: center;background-color: white;padding-right: 0.2em;padding-left: 0.2em;position: relative;}#sk-container-id-1 div.sk-item {position: relative;z-index: 1;}#sk-container-id-1 div.sk-parallel {display: flex;align-items: stretch;justify-content: center;background-color: white;position: relative;}#sk-container-id-1 div.sk-item::before, #sk-container-id-1 div.sk-parallel-item::before {content: \"\";position: absolute;border-left: 1px solid gray;box-sizing: border-box;top: 0;bottom: 0;left: 50%;z-index: -1;}#sk-container-id-1 div.sk-parallel-item {display: flex;flex-direction: column;z-index: 1;position: relative;background-color: white;}#sk-container-id-1 div.sk-parallel-item:first-child::after {align-self: flex-end;width: 50%;}#sk-container-id-1 div.sk-parallel-item:last-child::after {align-self: flex-start;width: 50%;}#sk-container-id-1 div.sk-parallel-item:only-child::after {width: 0;}#sk-container-id-1 div.sk-dashed-wrapped {border: 1px dashed gray;margin: 0 0.4em 0.5em 0.4em;box-sizing: border-box;padding-bottom: 0.4em;background-color: white;}#sk-container-id-1 div.sk-label label {font-family: monospace;font-weight: bold;display: inline-block;line-height: 1.2em;}#sk-container-id-1 div.sk-label-container {text-align: center;}#sk-container-id-1 div.sk-container {/* jupyter's `normalize.less` sets `[hidden] { display: none; }` but bootstrap.min.css set `[hidden] { display: none !important; }` so we also need the `!important` here to be able to override the default hidden behavior on the sphinx rendered scikit-learn.org. See: https://github.com/scikit-learn/scikit-learn/issues/21755 */display: inline-block !important;position: relative;}#sk-container-id-1 div.sk-text-repr-fallback {display: none;}</style><div id=\"sk-container-id-1\" class=\"sk-top-container\"><div class=\"sk-text-repr-fallback\"><pre>DecisionTreeClassifier()</pre><b>In a Jupyter environment, please rerun this cell to show the HTML representation or trust the notebook. <br />On GitHub, the HTML representation is unable to render, please try loading this page with nbviewer.org.</b></div><div class=\"sk-container\" hidden><div class=\"sk-item\"><div class=\"sk-estimator sk-toggleable\"><input class=\"sk-toggleable__control sk-hidden--visually\" id=\"sk-estimator-id-1\" type=\"checkbox\" checked><label for=\"sk-estimator-id-1\" class=\"sk-toggleable__label sk-toggleable__label-arrow\">DecisionTreeClassifier</label><div class=\"sk-toggleable__content\"><pre>DecisionTreeClassifier()</pre></div></div></div></div></div>"
      ],
      "text/plain": [
       "DecisionTreeClassifier()"
      ]
     },
     "execution_count": 8,
     "metadata": {},
     "output_type": "execute_result"
    }
   ],
   "source": [
    "DT = DecisionTreeClassifier()\n",
    "DT.fit(x_train,y_train)\n",
    "\n",
    "\n",
    "# the function is empty means \n",
    "# it will take the default argumrnts \n",
    "# with out hyperparameter tuning"
   ]
  },
  {
   "cell_type": "code",
   "execution_count": 9,
   "metadata": {},
   "outputs": [
    {
     "data": {
      "text/plain": [
       "{'ccp_alpha': 0.0,\n",
       " 'class_weight': None,\n",
       " 'criterion': 'gini',\n",
       " 'max_depth': None,\n",
       " 'max_features': None,\n",
       " 'max_leaf_nodes': None,\n",
       " 'min_impurity_decrease': 0.0,\n",
       " 'min_samples_leaf': 1,\n",
       " 'min_samples_split': 2,\n",
       " 'min_weight_fraction_leaf': 0.0,\n",
       " 'random_state': None,\n",
       " 'splitter': 'best'}"
      ]
     },
     "execution_count": 9,
     "metadata": {},
     "output_type": "execute_result"
    }
   ],
   "source": [
    "DT.get_params() # to get all hyperparameter of models"
   ]
  },
  {
   "cell_type": "code",
   "execution_count": 10,
   "metadata": {},
   "outputs": [],
   "source": [
    "# prediction\n",
    "y_prediction = DT.predict(x_test)"
   ]
  },
  {
   "cell_type": "code",
   "execution_count": 11,
   "metadata": {},
   "outputs": [
    {
     "name": "stdout",
     "output_type": "stream",
     "text": [
      "[0 1 1 0 0 0 0 0 0 1 0 1 0 0 1 1 1 0 1 0]\n",
      "[1 0 1 0 1 0 1 1 0 1 0 0 0 0 1 1 1 1 1 0]\n"
     ]
    }
   ],
   "source": [
    "# model evalutation\n",
    "print(y_test.values[:20])\n",
    "print(y_prediction[:20])"
   ]
  },
  {
   "cell_type": "code",
   "execution_count": 12,
   "metadata": {},
   "outputs": [
    {
     "data": {
      "text/plain": [
       "0.7528438469493278"
      ]
     },
     "execution_count": 12,
     "metadata": {},
     "output_type": "execute_result"
    }
   ],
   "source": [
    "DT_accurecy = accuracy_score(y_test,y_prediction)\n",
    "DT_accurecy"
   ]
  },
  {
   "cell_type": "code",
   "execution_count": 13,
   "metadata": {},
   "outputs": [
    {
     "data": {
      "text/plain": [
       "array([[210, 118],\n",
       "       [121, 518]], dtype=int64)"
      ]
     },
     "execution_count": 13,
     "metadata": {},
     "output_type": "execute_result"
    }
   ],
   "source": [
    "confusion_matrix(y_test,y_prediction)"
   ]
  },
  {
   "cell_type": "code",
   "execution_count": 14,
   "metadata": {},
   "outputs": [
    {
     "data": {
      "text/plain": [
       "array([210, 118, 121, 518], dtype=int64)"
      ]
     },
     "execution_count": 14,
     "metadata": {},
     "output_type": "execute_result"
    }
   ],
   "source": [
    "confusion_matrix(y_test,y_prediction).ravel()\n",
    "# TN, FP, FN, TP"
   ]
  },
  {
   "cell_type": "code",
   "execution_count": 15,
   "metadata": {},
   "outputs": [],
   "source": [
    "TN, FP, FN, TP = confusion_matrix(y_test,y_prediction).ravel()"
   ]
  },
  {
   "cell_type": "code",
   "execution_count": 16,
   "metadata": {},
   "outputs": [
    {
     "data": {
      "text/plain": [
       "0.8144654088050315"
      ]
     },
     "execution_count": 16,
     "metadata": {},
     "output_type": "execute_result"
    }
   ],
   "source": [
    "# Precision TP/(TP+FP)\n",
    "precision = TP/(TP+FP)\n",
    "precision"
   ]
  },
  {
   "cell_type": "code",
   "execution_count": 17,
   "metadata": {},
   "outputs": [
    {
     "data": {
      "text/plain": [
       "0.810641627543036"
      ]
     },
     "execution_count": 17,
     "metadata": {},
     "output_type": "execute_result"
    }
   ],
   "source": [
    "# recall TP/(TP+FN)\n",
    "recall = TP / (TP+FN)\n",
    "recall"
   ]
  },
  {
   "cell_type": "code",
   "execution_count": 18,
   "metadata": {},
   "outputs": [
    {
     "data": {
      "text/plain": [
       "0.8125490196078432"
      ]
     },
     "execution_count": 18,
     "metadata": {},
     "output_type": "execute_result"
    }
   ],
   "source": [
    "# F1 Score (2*precision * recall)/ (precision+recall)\n",
    "F1Score = (2*precision*recall) / (precision+recall)\n",
    "F1Score"
   ]
  },
  {
   "cell_type": "code",
   "execution_count": 19,
   "metadata": {},
   "outputs": [
    {
     "name": "stdout",
     "output_type": "stream",
     "text": [
      "0.7528438469493278\n",
      "0.8144654088050315\n",
      "0.810641627543036\n",
      "0.8125490196078432\n"
     ]
    }
   ],
   "source": [
    "acc= accuracy_score(y_test,y_prediction)\n",
    "pre = precision_score(y_test,y_prediction)\n",
    "recl = recall_score(y_test,y_prediction)\n",
    "f1scor = f1_score(y_test,y_prediction)\n",
    "print(acc)\n",
    "print(pre)\n",
    "print(recl)\n",
    "print(f1scor)"
   ]
  },
  {
   "cell_type": "code",
   "execution_count": 20,
   "metadata": {},
   "outputs": [
    {
     "data": {
      "image/png": "[encoded data removed]",
      "text/plain": [
       "<Figure size 640x480 with 2 Axes>"
      ]
     },
     "metadata": {},
     "output_type": "display_data"
    }
   ],
   "source": [
    "cmt = confusion_matrix(y_test,y_prediction)\n",
    "ConfusionMatrixDisplay(cmt).plot()\n",
    "plt.grid(False)"
   ]
  },
  {
   "cell_type": "code",
   "execution_count": 21,
   "metadata": {},
   "outputs": [
    {
     "data": {
      "text/plain": [
       "array([[0., 1.],\n",
       "       [1., 0.],\n",
       "       [0., 1.],\n",
       "       ...,\n",
       "       [0., 1.],\n",
       "       [0., 1.],\n",
       "       [0., 1.]])"
      ]
     },
     "execution_count": 21,
     "metadata": {},
     "output_type": "execute_result"
    }
   ],
   "source": [
    "DT.predict_proba(x_test)\n",
    "# NO   YES\n",
    "# [0    1] == max : 1  === yes : 1\n",
    "# [1    0] == max : 1 ==== no :  0\n",
    "# [0    1] == max : 1  === yes : 1"
   ]
  },
  {
   "cell_type": "code",
   "execution_count": 22,
   "metadata": {},
   "outputs": [],
   "source": [
    "y_predict_probability = DT.predict_proba(x_test)"
   ]
  },
  {
   "cell_type": "markdown",
   "metadata": {},
   "source": [
    "roc auc curve  calculated on probability of prediction \n",
    "\n",
    "roc-auc curve : FPR vs TPR\n",
    "y_predict_probability "
   ]
  },
  {
   "cell_type": "code",
   "execution_count": 23,
   "metadata": {},
   "outputs": [
    {
     "data": {
      "text/plain": [
       "[<matplotlib.lines.Line2D at 0x1eaefec9650>]"
      ]
     },
     "execution_count": 23,
     "metadata": {},
     "output_type": "execute_result"
    },
    {
     "data": {
      "image/png": "[encoded data removed]",
      "text/plain": [
       "<Figure size 640x480 with 1 Axes>"
      ]
     },
     "metadata": {},
     "output_type": "display_data"
    }
   ],
   "source": [
    "fpr, tpr, thershold = roc_curve(y_test,y_predict_probability[:,1])\n",
    "plt.plot(fpr,tpr)"
   ]
  },
  {
   "cell_type": "code",
   "execution_count": 24,
   "metadata": {},
   "outputs": [
    {
     "data": {
      "text/html": [
       "<style>#sk-container-id-2 {color: black;}#sk-container-id-2 pre{padding: 0;}#sk-container-id-2 div.sk-toggleable {background-color: white;}#sk-container-id-2 label.sk-toggleable__label {cursor: pointer;display: block;width: 100%;margin-bottom: 0;padding: 0.3em;box-sizing: border-box;text-align: center;}#sk-container-id-2 label.sk-toggleable__label-arrow:before {content: \"▸\";float: left;margin-right: 0.25em;color: #696969;}#sk-container-id-2 label.sk-toggleable__label-arrow:hover:before {color: black;}#sk-container-id-2 div.sk-estimator:hover label.sk-toggleable__label-arrow:before {color: black;}#sk-container-id-2 div.sk-toggleable__content {max-height: 0;max-width: 0;overflow: hidden;text-align: left;background-color: #f0f8ff;}#sk-container-id-2 div.sk-toggleable__content pre {margin: 0.2em;color: black;border-radius: 0.25em;background-color: #f0f8ff;}#sk-container-id-2 input.sk-toggleable__control:checked~div.sk-toggleable__content {max-height: 200px;max-width: 100%;overflow: auto;}#sk-container-id-2 input.sk-toggleable__control:checked~label.sk-toggleable__label-arrow:before {content: \"▾\";}#sk-container-id-2 div.sk-estimator input.sk-toggleable__control:checked~label.sk-toggleable__label {background-color: #d4ebff;}#sk-container-id-2 div.sk-label input.sk-toggleable__control:checked~label.sk-toggleable__label {background-color: #d4ebff;}#sk-container-id-2 input.sk-hidden--visually {border: 0;clip: rect(1px 1px 1px 1px);clip: rect(1px, 1px, 1px, 1px);height: 1px;margin: -1px;overflow: hidden;padding: 0;position: absolute;width: 1px;}#sk-container-id-2 div.sk-estimator {font-family: monospace;background-color: #f0f8ff;border: 1px dotted black;border-radius: 0.25em;box-sizing: border-box;margin-bottom: 0.5em;}#sk-container-id-2 div.sk-estimator:hover {background-color: #d4ebff;}#sk-container-id-2 div.sk-parallel-item::after {content: \"\";width: 100%;border-bottom: 1px solid gray;flex-grow: 1;}#sk-container-id-2 div.sk-label:hover label.sk-toggleable__label {background-color: #d4ebff;}#sk-container-id-2 div.sk-serial::before {content: \"\";position: absolute;border-left: 1px solid gray;box-sizing: border-box;top: 0;bottom: 0;left: 50%;z-index: 0;}#sk-container-id-2 div.sk-serial {display: flex;flex-direction: column;align-items: center;background-color: white;padding-right: 0.2em;padding-left: 0.2em;position: relative;}#sk-container-id-2 div.sk-item {position: relative;z-index: 1;}#sk-container-id-2 div.sk-parallel {display: flex;align-items: stretch;justify-content: center;background-color: white;position: relative;}#sk-container-id-2 div.sk-item::before, #sk-container-id-2 div.sk-parallel-item::before {content: \"\";position: absolute;border-left: 1px solid gray;box-sizing: border-box;top: 0;bottom: 0;left: 50%;z-index: -1;}#sk-container-id-2 div.sk-parallel-item {display: flex;flex-direction: column;z-index: 1;position: relative;background-color: white;}#sk-container-id-2 div.sk-parallel-item:first-child::after {align-self: flex-end;width: 50%;}#sk-container-id-2 div.sk-parallel-item:last-child::after {align-self: flex-start;width: 50%;}#sk-container-id-2 div.sk-parallel-item:only-child::after {width: 0;}#sk-container-id-2 div.sk-dashed-wrapped {border: 1px dashed gray;margin: 0 0.4em 0.5em 0.4em;box-sizing: border-box;padding-bottom: 0.4em;background-color: white;}#sk-container-id-2 div.sk-label label {font-family: monospace;font-weight: bold;display: inline-block;line-height: 1.2em;}#sk-container-id-2 div.sk-label-container {text-align: center;}#sk-container-id-2 div.sk-container {/* jupyter's `normalize.less` sets `[hidden] { display: none; }` but bootstrap.min.css set `[hidden] { display: none !important; }` so we also need the `!important` here to be able to override the default hidden behavior on the sphinx rendered scikit-learn.org. See: https://github.com/scikit-learn/scikit-learn/issues/21755 */display: inline-block !important;position: relative;}#sk-container-id-2 div.sk-text-repr-fallback {display: none;}</style><div id=\"sk-container-id-2\" class=\"sk-top-container\"><div class=\"sk-text-repr-fallback\"><pre>DecisionTreeClassifier()</pre><b>In a Jupyter environment, please rerun this cell to show the HTML representation or trust the notebook. <br />On GitHub, the HTML representation is unable to render, please try loading this page with nbviewer.org.</b></div><div class=\"sk-container\" hidden><div class=\"sk-item\"><div class=\"sk-estimator sk-toggleable\"><input class=\"sk-toggleable__control sk-hidden--visually\" id=\"sk-estimator-id-2\" type=\"checkbox\" checked><label for=\"sk-estimator-id-2\" class=\"sk-toggleable__label sk-toggleable__label-arrow\">DecisionTreeClassifier</label><div class=\"sk-toggleable__content\"><pre>DecisionTreeClassifier()</pre></div></div></div></div></div>"
      ],
      "text/plain": [
       "DecisionTreeClassifier()"
      ]
     },
     "execution_count": 24,
     "metadata": {},
     "output_type": "execute_result"
    }
   ],
   "source": [
    "# step 1\n",
    "from sklearn.tree import DecisionTreeClassifier\n",
    "DT = DecisionTreeClassifier()\n",
    "DT.fit(x_train,y_train)\n",
    "\n",
    "# step 2\n",
    "\n"
   ]
  },
  {
   "cell_type": "code",
   "execution_count": 25,
   "metadata": {},
   "outputs": [
    {
     "name": "stdout",
     "output_type": "stream",
     "text": [
      "accuray is: 74.46\n",
      "F1 is: 0.81\n",
      "Precision is: 0.83\n",
      "Recall is: 0.79\n"
     ]
    },
    {
     "data": {
      "image/png": "[encoded data removed]",
      "text/plain": [
       "<Figure size 640x480 with 2 Axes>"
      ]
     },
     "metadata": {},
     "output_type": "display_data"
    },
    {
     "name": "stdout",
     "output_type": "stream",
     "text": [
      "True negative: 194\n",
      "False postive: 111\n",
      "False negative: 136\n",
      "True postive: 526\n"
     ]
    },
    {
     "data": {
      "image/png": "[encoded data removed]",
      "text/plain": [
       "<Figure size 640x480 with 2 Axes>"
      ]
     },
     "metadata": {},
     "output_type": "display_data"
    },
    {
     "data": {
      "image/png": "[encoded data removed]",
      "text/plain": [
       "<Figure size 640x480 with 1 Axes>"
      ]
     },
     "metadata": {},
     "output_type": "display_data"
    }
   ],
   "source": [
    "### step-1 divide the data into input and target columns\n",
    "x=df.drop('Customer Status', axis = 1)\n",
    "y=df['Customer Status']\n",
    "\n",
    "### step-2 divide the data into 4 parts\n",
    "x_train, x_test, y_train, y_test = train_test_split(x,y, test_size = 0.2, random_state = 0)\n",
    "\n",
    "### step-3 outlier analysis\n",
    "\n",
    "from scipy import stats\n",
    "selected_columns = ['Number of Dependents', 'Avg Monthly GB Download', 'Total Refunds',\n",
    "                    'Total Extra Data Charges', 'Total Long Distance Charges', 'Total Revenue']\n",
    "z_scores = np.abs(stats.zscore(x_train[selected_columns]))\n",
    "threshold = 3\n",
    "outlier_indices = np.where(z_scores > threshold)[0]\n",
    "x_train = x_train.drop(x_train.index[outlier_indices])\n",
    "y_train = y_train.drop(y_train.index[outlier_indices])\n",
    "\n",
    "### step 4 - train the model\n",
    "\n",
    "from sklearn.tree import DecisionTreeClassifier\n",
    "dtree = DecisionTreeClassifier()\n",
    "dtree.fit(x_train, y_train)\n",
    "\n",
    "### step 5 - Predictions\n",
    "\n",
    "y_pred_dt = dtree.predict(x_test)\n",
    "\n",
    "### step 6-  Metrics\n",
    "\n",
    "from sklearn.metrics import accuracy_score, f1_score, precision_score, recall_score, classification_report\n",
    "acc_dt= round(accuracy_score(y_test,y_pred_dt)*100,2)\n",
    "f1_dt=round(f1_score(y_test,y_pred_dt),2)\n",
    "precision_dt=round(precision_score(y_test,y_pred_dt),2)\n",
    "recall_dt=round(recall_score(y_test,y_pred_dt),2)\n",
    "print(\"accuray is:\",acc_dt)\n",
    "print(\"F1 is:\",f1_dt)\n",
    "print(\"Precision is:\",precision_dt)\n",
    "print(\"Recall is:\",recall_dt)\n",
    "\n",
    "### step 7 - confusion matrix\n",
    "\n",
    "from sklearn.metrics import confusion_matrix, ConfusionMatrixDisplay\n",
    "cmt = confusion_matrix(y_test, y_pred_dt)\n",
    "disp = ConfusionMatrixDisplay(confusion_matrix = cmt, display_labels = [False, True])\n",
    "\n",
    "disp.plot()\n",
    "plt.grid(False)\n",
    "plt.show()\n",
    "\n",
    "tn, fp, fn, tp = confusion_matrix(y_test,y_pred_dt).ravel()\n",
    "print(\"True negative:\",tn)\n",
    "print(\"False postive:\",fp)\n",
    "print(\"False negative:\",fn)\n",
    "print(\"True postive:\",tp)\n",
    "\n",
    "disp.plot()\n",
    "plt.show()\n",
    "#=======================================Step-8: ROC-AUC curve================================================================\n",
    "\n",
    "y_dt_pred_prob=dtree.predict_proba(x_test)[:,1]   # Class-1 probabilities\n",
    "fpr,tpr,threshold=roc_curve(y_test,y_dt_pred_prob) \n",
    "plt.plot(fpr,tpr)\n",
    "plt.show()"
   ]
  },
  {
   "cell_type": "markdown",
   "metadata": {},
   "source": [
    "### Decision Tree \n",
    "**Without hyperparameter Tuning**"
   ]
  },
  {
   "cell_type": "code",
   "execution_count": 26,
   "metadata": {},
   "outputs": [
    {
     "name": "stdout",
     "output_type": "stream",
     "text": [
      "accuracy_score 73.01\n",
      "f1_score 0.79\n",
      "precision_score 0.81\n",
      "recall_score 0.77\n"
     ]
    },
    {
     "data": {
      "image/png": "[encoded data removed]",
      "text/plain": [
       "<Figure size 640x480 with 2 Axes>"
      ]
     },
     "metadata": {},
     "output_type": "display_data"
    },
    {
     "name": "stdout",
     "output_type": "stream",
     "text": [
      "True Negative 214\n",
      "False Positive 116\n",
      "False Negative 145\n",
      "True Positive 492\n"
     ]
    },
    {
     "data": {
      "image/png": "[encoded data removed]",
      "text/plain": [
       "<Figure size 640x480 with 1 Axes>"
      ]
     },
     "metadata": {},
     "output_type": "display_data"
    }
   ],
   "source": [
    "# =======================Divide the data into input and target ===========================\n",
    "\n",
    "x = df.drop('Customer Status', axis=1)\n",
    "y = df['Customer Status']\n",
    "\n",
    "# ========================= Train Test Split ====================================\n",
    "\n",
    "x_train, x_test, y_train, y_test = train_test_split(x, y, test_size=0.2, random_state=123)\n",
    "\n",
    "# ======================== Outlier analysis based on z-score ==========================\n",
    "\n",
    "from scipy import stats\n",
    "selected_columns = ['Number of Dependents', 'Avg Monthly GB Download', 'Total Refunds',\n",
    "                    'Total Extra Data Charges', 'Total Long Distance Charges', 'Total Revenue']\n",
    "\n",
    "z_scores = np.abs(stats.zscore(x_train[selected_columns]))\n",
    "\n",
    "thershold = 3\n",
    "\n",
    "outlier_indices = np.where(z_scores > thershold)[0]\n",
    "\n",
    "x_train = x_train.drop(x_train.index[outlier_indices])\n",
    "y_train = y_train.drop(y_train.index[outlier_indices])\n",
    "\n",
    "# ============================= Train the Model ============================\n",
    "from sklearn.tree import DecisionTreeClassifier\n",
    "\n",
    "DT  = DecisionTreeClassifier()\n",
    "\n",
    "DT.fit(x_train,y_train)\n",
    "\n",
    "# =============================== Prediction ==============================\n",
    "\n",
    "y_pred_dt = DT.predict(x_test)\n",
    "\n",
    "# =============================== Metrics =================================\n",
    "\n",
    "from sklearn.metrics import accuracy_score, f1_score, precision_score, recall_score, classification_report\n",
    "accuracy_score_dt = round(accuracy_score(y_test,y_pred_dt) * 100,2)\n",
    "f1_dt = round(f1_score(y_test, y_pred_dt),2)\n",
    "precision_dt = round(precision_score(y_test, y_pred_dt),2)\n",
    "recall_dt = round(recall_score(y_test,y_pred_dt),2)\n",
    "\n",
    "print('accuracy_score', accuracy_score_dt)\n",
    "print('f1_score', f1_dt)\n",
    "print('precision_score', precision_dt)\n",
    "print('recall_score',recall_dt)\n",
    "\n",
    "# ============================= Confusion Matrics ====================================\n",
    "\n",
    "from sklearn.metrics import confusion_matrix, ConfusionMatrixDisplay\n",
    "\n",
    "cmt = confusion_matrix(y_test,y_pred_dt)\n",
    "\n",
    "cmt_disp = ConfusionMatrixDisplay(confusion_matrix=cmt, display_labels=[False,True])\n",
    "disp.plot()\n",
    "plt.grid(False)\n",
    "plt.show()\n",
    "\n",
    "tn, fp, fn, tp = confusion_matrix(y_test,y_pred_dt).ravel()\n",
    "\n",
    "print('True Negative', tn)\n",
    "print('False Positive', fp)\n",
    "print('False Negative', fn)\n",
    "print('True Positive', tp)\n",
    "\n",
    "# ==================================== ROC-AUC Curve =================================\n",
    "\n",
    "y_pred_dt_prob = DT.predict_proba(x_test)[:,1]\n",
    "\n",
    "fpr, tpr, thershold = roc_curve(y_test, y_pred_dt_prob) # it required y_prediction_probability not just y_prediction\n",
    "plt.plot(fpr,tpr)\n",
    "plt.show()\n"
   ]
  },
  {
   "cell_type": "markdown",
   "metadata": {},
   "source": [
    "### Logistic Regression \n",
    "**Without hyperparameter tuning**"
   ]
  },
  {
   "cell_type": "code",
   "execution_count": 27,
   "metadata": {},
   "outputs": [
    {
     "name": "stderr",
     "output_type": "stream",
     "text": [
      "c:\\Users\\sahil\\anaconda3\\Lib\\site-packages\\sklearn\\linear_model\\_logistic.py:460: ConvergenceWarning: lbfgs failed to converge (status=1):\n",
      "STOP: TOTAL NO. of ITERATIONS REACHED LIMIT.\n",
      "\n",
      "Increase the number of iterations (max_iter) or scale the data as shown in:\n",
      "    https://scikit-learn.org/stable/modules/preprocessing.html\n",
      "Please also refer to the documentation for alternative solver options:\n",
      "    https://scikit-learn.org/stable/modules/linear_model.html#logistic-regression\n",
      "  n_iter_i = _check_optimize_result(\n"
     ]
    },
    {
     "name": "stdout",
     "output_type": "stream",
     "text": [
      "accuracy_score 74.66\n",
      "f1_score 0.81\n",
      "precision_score 0.79\n",
      "recall_score 0.83\n"
     ]
    },
    {
     "data": {
      "image/png": "[encoded data removed]",
      "text/plain": [
       "<Figure size 640x480 with 2 Axes>"
      ]
     },
     "metadata": {},
     "output_type": "display_data"
    },
    {
     "name": "stdout",
     "output_type": "stream",
     "text": [
      "True negative: 192\n",
      "False postive: 138\n",
      "False negative: 107\n",
      "True postive: 530\n"
     ]
    },
    {
     "data": {
      "image/png": "[encoded data removed]",
      "text/plain": [
       "<Figure size 640x480 with 1 Axes>"
      ]
     },
     "metadata": {},
     "output_type": "display_data"
    }
   ],
   "source": [
    "x = df.drop('Customer Status', axis=1)\n",
    "y = df['Customer Status']\n",
    "\n",
    "x_train,x_test,y_train,y_test = train_test_split(x, y, test_size=0.2, random_state=123)\n",
    "\n",
    "from scipy import stats\n",
    "selected_columns = ['Number of Dependents', 'Avg Monthly GB Download', 'Total Refunds',\n",
    "                    'Total Extra Data Charges', 'Total Long Distance Charges', 'Total Revenue']\n",
    "z_scores = np.abs(stats.zscore(x_train[selected_columns]))\n",
    "threshold = 3\n",
    "outlier_indices = np.where(z_scores > threshold)[0]\n",
    "x_train = x_train.drop(x_train.index[outlier_indices])\n",
    "y_train = y_train.drop(y_train.index[outlier_indices])\n",
    "\n",
    "from sklearn.linear_model import LogisticRegression\n",
    "\n",
    "LogR = LogisticRegression()\n",
    "\n",
    "LogR.fit(x_train,y_train)\n",
    "\n",
    "y_pred_logr = LogR.predict(x_test)\n",
    "\n",
    "from sklearn.metrics import accuracy_score, f1_score, precision_score, recall_score\n",
    "\n",
    "acc_LogR = round(accuracy_score(y_test, y_pred_logr)*100,2)\n",
    "f1_LogR = round(f1_score(y_test,y_pred_logr),2)\n",
    "precision_LogR = round(precision_score(y_test, y_pred_logr),2)\n",
    "recall_LogR = round(recall_score(y_test,y_pred_logr),2)\n",
    "\n",
    "print('accuracy_score', acc_LogR)\n",
    "print('f1_score', f1_LogR)\n",
    "print('precision_score', precision_LogR)\n",
    "print('recall_score',recall_LogR)\n",
    "\n",
    "from sklearn.metrics import confusion_matrix,ConfusionMatrixDisplay\n",
    "\n",
    "cmt_LogR = confusion_matrix(y_test, y_pred_logr)\n",
    "\n",
    "cmt_LogR_disp = ConfusionMatrixDisplay(confusion_matrix=cmt_LogR, display_labels=[False, True])\n",
    "\n",
    "cmt_LogR_disp.plot()\n",
    "plt.grid(False)\n",
    "plt.show()\n",
    "\n",
    "tn, fp, fn, tp = confusion_matrix(y_test, y_pred_logr).ravel()\n",
    "print(\"True negative:\",tn)\n",
    "print(\"False postive:\",fp)\n",
    "print(\"False negative:\",fn)\n",
    "print(\"True postive:\",tp)\n",
    "\n",
    "y_pred_LogR_prob = LogR.predict_proba(x_test)[:,1]\n",
    "fpr, tpr, thershold = roc_curve(y_test, y_pred_LogR_prob)\n",
    "plt.plot(fpr,tpr)\n",
    "plt.show()\n",
    "\n"
   ]
  },
  {
   "cell_type": "markdown",
   "metadata": {},
   "source": [
    "### Naive Bayes\n",
    "**Without hyperparameter tuning**"
   ]
  },
  {
   "cell_type": "code",
   "execution_count": 28,
   "metadata": {},
   "outputs": [
    {
     "name": "stdout",
     "output_type": "stream",
     "text": [
      "accuray is: 75.59\n",
      "F1 is: 0.8\n",
      "Precision is: 0.85\n",
      "Recall is: 0.76\n"
     ]
    },
    {
     "data": {
      "image/png": "[encoded data removed]",
      "text/plain": [
       "<Figure size 640x480 with 2 Axes>"
      ]
     },
     "metadata": {},
     "output_type": "display_data"
    },
    {
     "name": "stdout",
     "output_type": "stream",
     "text": [
      "True negative: 245\n",
      "False postive: 85\n",
      "False negative: 151\n",
      "True postive: 486\n"
     ]
    },
    {
     "data": {
      "image/png": "[encoded data removed]",
      "text/plain": [
       "<Figure size 640x480 with 1 Axes>"
      ]
     },
     "metadata": {},
     "output_type": "display_data"
    }
   ],
   "source": [
    "x = df.drop('Customer Status', axis=1)\n",
    "y = df['Customer Status']\n",
    "\n",
    "x_train, x_test, y_train, y_test = train_test_split(x, y, test_size=0.2, random_state=123)\n",
    "\n",
    "from scipy import stats\n",
    "selected_columns = ['Number of Dependents', 'Avg Monthly GB Download', 'Total Refunds',\n",
    "                    'Total Extra Data Charges', 'Total Long Distance Charges', 'Total Revenue']\n",
    "z_scores = np.abs(stats.zscore(x_train[selected_columns]))\n",
    "threshold = 3\n",
    "outlier_indices = np.where(z_scores > threshold)[0]\n",
    "x_train = x_train.drop(x_train.index[outlier_indices])\n",
    "y_train = y_train.drop(y_train.index[outlier_indices])\n",
    "\n",
    "\n",
    "from sklearn.naive_bayes import GaussianNB\n",
    "\n",
    "NB = GaussianNB()\n",
    "NB.fit(x_train,y_train)\n",
    "\n",
    "y_pred_NB = NB.predict(x_test)\n",
    "\n",
    "from sklearn.metrics import accuracy_score, f1_score, precision_score, recall_score\n",
    "\n",
    "acc_NB = round(accuracy_score(y_test,y_pred_NB)*100,2)\n",
    "f1_NB = round(f1_score(y_test, y_pred_NB),2)\n",
    "precision_NB = round(precision_score(y_test,y_pred_NB),2)\n",
    "recall_NB =round(recall_score(y_test, y_pred_NB),2)\n",
    "\n",
    "print(\"accuray is:\",acc_NB)\n",
    "print(\"F1 is:\",f1_NB)\n",
    "print(\"Precision is:\",precision_NB)\n",
    "print(\"Recall is:\",recall_NB)\n",
    "\n",
    "from sklearn.metrics import confusion_matrix, ConfusionMatrixDisplay\n",
    "\n",
    "cmt_NB = confusion_matrix(y_test, y_pred_NB)\n",
    "\n",
    "cmt_NB_disp = ConfusionMatrixDisplay(confusion_matrix=cmt_NB, display_labels=[False,True])\n",
    "\n",
    "cmt_NB_disp.plot()\n",
    "plt.grid()\n",
    "plt.show()\n",
    "\n",
    "tn,fp,fn,tp = confusion_matrix(y_test,y_pred_NB).ravel()\n",
    "print(\"True negative:\",tn)\n",
    "print(\"False postive:\",fp)\n",
    "print(\"False negative:\",fn)\n",
    "print(\"True postive:\",tp)\n",
    "\n",
    "y_pred_NB_prob = NB.predict_proba(x_test)[:,1]\n",
    "\n",
    "fpr, tpr, thershold = roc_curve(y_test, y_pred_NB_prob)\n",
    "plt.plot(fpr,tpr)\n",
    "plt.show()\n",
    "\n"
   ]
  },
  {
   "cell_type": "markdown",
   "metadata": {},
   "source": [
    "### KNN\n",
    "**Without hyperparameter tuning**"
   ]
  },
  {
   "cell_type": "code",
   "execution_count": 29,
   "metadata": {},
   "outputs": [],
   "source": [
    "# pip uninstall scikit-learn\n",
    "# pip install scikit-learn==1.2.2\n"
   ]
  },
  {
   "cell_type": "code",
   "execution_count": 30,
   "metadata": {},
   "outputs": [],
   "source": [
    "# x = df.drop('Customer Status',axis=1)\n",
    "# y = df['Customer Status']\n",
    "\n",
    "# x_train, x_test, y_train, y_test = train_test_split(x, y, test_size=0.2, random_state=123)\n",
    "\n",
    "# from scipy import stats\n",
    "\n",
    "# # Define the columns for which you want to remove outliers\n",
    "# selected_columns = ['Number of Dependents', 'Avg Monthly GB Download', 'Total Refunds',\n",
    "#                     'Total Extra Data Charges', 'Total Long Distance Charges', 'Total Revenue']\n",
    "\n",
    "# # Calculate the Z-scores for the selected columns in the training data\n",
    "# z_scores = np.abs(stats.zscore(x_train[selected_columns]))\n",
    "\n",
    "# # Set a threshold value for outlier detection (e.g., 3)\n",
    "# threshold = 3\n",
    "\n",
    "# # Find the indices of outliers based on the threshold\n",
    "# outlier_indices = np.where(z_scores > threshold)[0]\n",
    "\n",
    "# # Remove the outliers from the training data\n",
    "# x_train = x_train.drop(x_train.index[outlier_indices])\n",
    "# y_train = y_train.drop(y_train.index[outlier_indices])\n",
    "\n",
    "# from sklearn.neighbors import KNeighborsClassifier\n",
    "\n",
    "# KNN = KNeighborsClassifier()\n",
    "# KNN.fit(x_train,y_train)\n",
    "\n",
    "# y_pred_knn = KNN.predict(x_test.values)\n",
    "\n",
    "# from sklearn.metrics import accuracy_score, f1_score, precision_score, recall_score\n",
    "\n",
    "# acc_knn = round(accuracy_score(y_test,y_pred_knn)*100,2)\n",
    "# f1_knn = round(f1_score(y_test, y_pred_knn),2)\n",
    "# precision_knn = round(precision_score(y_test,y_pred_knn),2)\n",
    "# recall_knn =round(recall_score(y_test, y_pred_knn,2))\n",
    "\n",
    "# print(\"accuray is:\",acc_knn)\n",
    "# print(\"F1 is:\",f1_knn)\n",
    "# print(\"Precision is:\",precision_knn)\n",
    "# print(\"Recall is:\",recall_knn)\n",
    "\n",
    "# from sklearn.metrics import confusion_matrix, ConfusionMatrixDisplay\n",
    "\n",
    "# cmt_knn = confusion_matrix(y_test, y_pred_knn)\n",
    "\n",
    "# cmt_knn_disp = ConfusionMatrixDisplay(confusion_matrix=cmt_knn, display_labels=[False,True])\n",
    "\n",
    "# cmt_knn_disp.plot()\n",
    "# plt.grid()\n",
    "# plt.show()\n",
    "\n",
    "# tn,fp,fn,tp = confusion_matrix(y_test,y_pred_knn).ravel()\n",
    "# print(\"True negative:\",tn)\n",
    "# print(\"False postive:\",fp)\n",
    "# print(\"False negative:\",fn)\n",
    "# print(\"True postive:\",tp)\n",
    "\n",
    "# y_pred_knn_prob = KNN.predict_proba(x_test)[:,1]\n",
    "\n",
    "# fpr, tpr, thershold = roc_curve(y_test, y_pred_knn_prob)\n",
    "# plt.plot(fpr,tpr)\n",
    "# plt.show()"
   ]
  },
  {
   "cell_type": "code",
   "execution_count": 31,
   "metadata": {},
   "outputs": [],
   "source": [
    "# X = df.drop('Customer Status', axis=1)\n",
    "# y = df['Customer Status']\n",
    "\n",
    "\n",
    "# # ================================Step-2:  divide data into 4 parts  X_train,X_test,Y_train,Y_test======================\n",
    "\n",
    "# X_train, X_test, y_train, y_test = train_test_split(X,y, test_size=0.2,random_state=0)\n",
    "\n",
    "# # ========================Step-3: Outlier analysis based on z-score========================================\n",
    "\n",
    "# from scipy import stats\n",
    "# selected_columns = ['Number of Dependents', 'Avg Monthly GB Download', 'Total Refunds',\n",
    "#                     'Total Extra Data Charges', 'Total Long Distance Charges', 'Total Revenue']\n",
    "# z_scores = np.abs(stats.zscore(X_train[selected_columns]))\n",
    "# threshold = 3\n",
    "# outlier_indices = np.where(z_scores > threshold)[0]\n",
    "# X_train = X_train.drop(X_train.index[outlier_indices])\n",
    "# y_train = y_train.drop(y_train.index[outlier_indices])\n",
    "\n",
    "# # ===============================Step-4:  Train the Model===================================================\n",
    "\n",
    "# from sklearn.neighbors import KNeighborsClassifier\n",
    "# KN=KNeighborsClassifier()\n",
    "# KN.fit(X_train, y_train)\n",
    "\n",
    "# # =============================Step-5:  Predictions============================================================\n",
    "\n",
    "# y_pred_log=KN.predict(X_test)\n",
    "\n",
    "# # ============================ Step-6: Metrics==================================================================\n",
    "\n",
    "# from sklearn.metrics import accuracy_score, f1_score, precision_score, recall_score, classification_report\n",
    "# acc_log= round(accuracy_score(y_test,y_pred_log)*100,2)\n",
    "# f1_log=round(f1_score(y_test,y_pred_log),2)\n",
    "# precision_log=round(precision_score(y_test,y_pred_log),2)\n",
    "# recall_log=round(recall_score(y_test,y_pred_log),2)\n",
    "# print(\"accuray is:\",acc_log)\n",
    "# print(\"F1 is:\",f1_log)\n",
    "# print(\"Precision is:\",precision_log)\n",
    "# print(\"Recall is:\",recall_log)\n",
    "\n",
    "# # ================================Step-7:Confusion matrix=========================================================================\n",
    "# from sklearn.metrics import confusion_matrix,ConfusionMatrixDisplay\n",
    "# cmt=confusion_matrix(y_test,y_pred_log)\n",
    "\n",
    "# disp=ConfusionMatrixDisplay(confusion_matrix=cmt,\n",
    "#                             display_labels = [False, True])\n",
    "# disp.plot()\n",
    "# plt.grid(False)\n",
    "# plt.show()\n",
    "\n",
    "\n",
    "# tn, fp, fn, tp = confusion_matrix(y_test,y_pred_log).ravel()\n",
    "# print(\"True negative:\",tn)\n",
    "# print(\"False postive:\",fp)\n",
    "# print(\"False negative:\",fn)\n",
    "# print(\"True postive:\",tp)\n",
    "\n",
    "# #=======================================Step-8: ROC-AUC curve================================================================\n",
    "\n",
    "# y_log_pred_prob=KN.predict_proba(X_test)[:,1]   # Class-1 probabilities\n",
    "# fpr,tpr,threshold=roc_curve(y_test,y_log_pred_prob) \n",
    "# plt.plot(fpr,tpr)\n",
    "# plt.show()"
   ]
  },
  {
   "cell_type": "code",
   "execution_count": 32,
   "metadata": {},
   "outputs": [],
   "source": [
    "# # import packages \n",
    "# import pandas as pd\n",
    "# import numpy as np\n",
    "# import matplotlib.pyplot as plt\n",
    "# import seaborn as sns\n",
    "# sns.set_theme(color_codes=True)                   # To get diffent different colors\n",
    "# pd.set_option('display.max_columns', None)       # To display the max columns\n",
    "# from sklearn.model_selection import train_test_split\n",
    "# from sklearn.metrics import accuracy_score,precision_score,recall_score,f1_score,classification_report,roc_auc_score,roc_curve\n",
    "# from sklearn.metrics import confusion_matrix,ConfusionMatrixDisplay\n",
    "\n",
    "# # read\n",
    "# df = pd.read_csv(r'C:\\Users\\sahil\\OneDrive\\Python Self\\EDA\\Telecom_Customer_Churn\\Preprocessed_Telecom_data.csv')\n",
    "\n",
    "# # \n",
    "# X = df.drop('Customer Status', axis=1)\n",
    "# y = df['Customer Status']\n",
    "# ## \n",
    "# X_train,X_test,y_train,y_test = train_test_split(X,y,test_size=0.2,random_state=0)\n",
    "\n",
    "# ## outliers\n",
    "# from scipy import stats\n",
    "\n",
    "# # Define the columns for which you want to remove outliers\n",
    "# selected_columns = ['Number of Dependents', 'Avg Monthly GB Download', 'Total Refunds',\n",
    "#                     'Total Extra Data Charges', 'Total Long Distance Charges', 'Total Revenue']\n",
    "\n",
    "# # Calculate the Z-scores for the selected columns in the training data\n",
    "# z_scores = np.abs(stats.zscore(X_train[selected_columns]))\n",
    "\n",
    "# # Set a threshold value for outlier detection (e.g., 3)\n",
    "# threshold = 3\n",
    "\n",
    "# # Find the indices of outliers based on the threshold\n",
    "# outlier_indices = np.where(z_scores > threshold)[0]\n",
    "\n",
    "# # Remove the outliers from the training data\n",
    "# X_train = X_train.drop(X_train.index[outlier_indices])\n",
    "# y_train = y_train.drop(y_train.index[outlier_indices])\n",
    "\n",
    "# # model\n",
    "# from sklearn.neighbors import KNeighborsClassifier\n",
    "# KNN = KNeighborsClassifier()\n",
    "# KNN.fit(X_train,y_train)\n",
    "\n",
    "# #####################################################################################################3\n",
    "\n",
    "# X_test_array = X_test.to_numpy()\n",
    "# y_predictions = KNN.predict(X_test_array)\n",
    "\n",
    "\n",
    "# #########################################################################################################3\n",
    "# tn,fp,fn,tp=confusion_matrix(y_test,y_predictions).ravel()\n",
    "\n",
    "\n",
    "# acc_knn=round(accuracy_score(y_test,y_predictions)*100,2)\n",
    "# pre_knn=round(precision_score(y_test,y_predictions)*100,2)\n",
    "# rec_knn=round(recall_score(y_test,y_predictions)*100,2)\n",
    "# f1_knn=round(f1_score(y_test,y_predictions)*100,2)\n",
    "\n",
    "# print(\"accuracy is\",acc_knn)\n",
    "# print(\"prescision is\",acc_knn)\n",
    "# print(\"recall is\",acc_knn)\n",
    "# print(\"f1 score is\",acc_knn)\n",
    "\n",
    "# ##################################################################################################################\n",
    "\n",
    "# cmt=confusion_matrix(y_test,y_predictions)\n",
    "# ConfusionMatrixDisplay(cmt).plot()\n",
    "# plt.grid(False)\n",
    "# plt.show()\n",
    "\n",
    "# tn, fp, fn, tp = confusion_matrix(y_test,y_predictions).ravel()\n",
    "# print(\"True negative:\",tn)\n",
    "# print(\"False postive:\",fp)\n",
    "# print(\"False negative:\",fn)\n",
    "# print(\"True postive:\",tp)\n",
    "\n",
    "# ####################################################################################\n",
    "\n",
    "# y_predict_prob = KNN.predict_proba(X_test_array)\n",
    "\n",
    "\n",
    "# #####################################################################################3\n",
    "\n",
    "# fpr, tpr, thresholds = roc_curve(y_test,y_predict_prob[:,1])\n",
    "# plt.plot(fpr,tpr)\n",
    "# plt.show()"
   ]
  },
  {
   "cell_type": "code",
   "execution_count": 33,
   "metadata": {},
   "outputs": [
    {
     "name": "stderr",
     "output_type": "stream",
     "text": [
      "c:\\Users\\sahil\\anaconda3\\Lib\\site-packages\\sklearn\\base.py:464: UserWarning: X does not have valid feature names, but KNeighborsClassifier was fitted with feature names\n",
      "  warnings.warn(\n"
     ]
    },
    {
     "name": "stdout",
     "output_type": "stream",
     "text": [
      "accuracy is 73.73\n",
      "prescision is 0.79\n",
      "recall is 0.84\n",
      "f1 score is 0.81\n"
     ]
    },
    {
     "data": {
      "image/png": "[encoded data removed]",
      "text/plain": [
       "<Figure size 640x480 with 2 Axes>"
      ]
     },
     "metadata": {},
     "output_type": "display_data"
    },
    {
     "name": "stdout",
     "output_type": "stream",
     "text": [
      "True negative: 156\n",
      "False postive: 149\n",
      "False negative: 105\n",
      "True postive: 557\n"
     ]
    },
    {
     "name": "stderr",
     "output_type": "stream",
     "text": [
      "c:\\Users\\sahil\\anaconda3\\Lib\\site-packages\\sklearn\\base.py:464: UserWarning: X does not have valid feature names, but KNeighborsClassifier was fitted with feature names\n",
      "  warnings.warn(\n"
     ]
    },
    {
     "data": {
      "image/png": "[encoded data removed]",
      "text/plain": [
       "<Figure size 640x480 with 1 Axes>"
      ]
     },
     "metadata": {},
     "output_type": "display_data"
    }
   ],
   "source": [
    "# import packages \n",
    "import pandas as pd\n",
    "import numpy as np\n",
    "import matplotlib.pyplot as plt\n",
    "import seaborn as sns\n",
    "\n",
    "sns.set_theme(color_codes=True)                   # To get diffent different colors\n",
    "pd.set_option('display.max_columns', None)       # To display the max columns\n",
    "from sklearn.model_selection import train_test_split\n",
    "from sklearn.metrics import accuracy_score,precision_score,recall_score,f1_score,classification_report,roc_auc_score,roc_curve\n",
    "from sklearn.metrics import confusion_matrix,ConfusionMatrixDisplay\n",
    "\n",
    "# read\n",
    "df = pd.read_csv(r\"C:\\Users\\sahil\\OneDrive\\Python Self\\EDA\\Telecom_Customer_Churn\\Preprocessed_Telecom_data.csv\")\n",
    "\n",
    "# \n",
    "X = df.drop('Customer Status', axis=1)\n",
    "y = df['Customer Status']\n",
    "## \n",
    "X_train,X_test,y_train,y_test = train_test_split(X,y,test_size=0.2,random_state=0)\n",
    "\n",
    "## outliers\n",
    "from scipy import stats\n",
    "\n",
    "# Define the columns for which you want to remove outliers\n",
    "selected_columns = ['Number of Dependents', 'Avg Monthly GB Download', 'Total Refunds',\n",
    "                    'Total Extra Data Charges', 'Total Long Distance Charges', 'Total Revenue']\n",
    "\n",
    "# Calculate the Z-scores for the selected columns in the training data\n",
    "z_scores = np.abs(stats.zscore(X_train[selected_columns]))\n",
    "\n",
    "# Set a threshold value for outlier detection (e.g., 3)\n",
    "threshold = 3\n",
    "\n",
    "# Find the indices of outliers based on the threshold\n",
    "outlier_indices = np.where(z_scores > threshold)[0]\n",
    "\n",
    "# Remove the outliers from the training data\n",
    "X_train = X_train.drop(X_train.index[outlier_indices])\n",
    "y_train = y_train.drop(y_train.index[outlier_indices])\n",
    "\n",
    "# model\n",
    "from sklearn.neighbors import KNeighborsClassifier\n",
    "KNN = KNeighborsClassifier()\n",
    "KNN.fit(X_train,y_train)\n",
    "\n",
    "#####################################################################################################3\n",
    "\n",
    "y_predictions = KNN.predict(X_test.values)\n",
    "\n",
    "#########################################################################################################3\n",
    "tn,fp,fn,tp=confusion_matrix(y_test,y_predictions).ravel()\n",
    "\n",
    "\n",
    "acc_knn=round(accuracy_score(y_test,y_predictions)*100,2)\n",
    "pre_knn=round(precision_score(y_test,y_predictions),2)\n",
    "rec_knn=round(recall_score(y_test,y_predictions),2)\n",
    "f1_knn=round(f1_score(y_test,y_predictions),2)\n",
    "\n",
    "print(\"accuracy is\",acc_knn)\n",
    "print(\"prescision is\",pre_knn)\n",
    "print(\"recall is\",rec_knn)\n",
    "print(\"f1 score is\",f1_knn)\n",
    "\n",
    "##################################################################################################################\n",
    "\n",
    "cmt=confusion_matrix(y_test,y_predictions)\n",
    "ConfusionMatrixDisplay(cmt).plot()\n",
    "plt.grid(False)\n",
    "plt.show()\n",
    "\n",
    "tn, fp, fn, tp = confusion_matrix(y_test,y_predictions).ravel()\n",
    "print(\"True negative:\",tn)\n",
    "print(\"False postive:\",fp)\n",
    "print(\"False negative:\",fn)\n",
    "print(\"True postive:\",tp)\n",
    "\n",
    "####################################################################################\n",
    "\n",
    "y_predict_prob = KNN.predict_proba(X_test.values)\n",
    "\n",
    "\n",
    "#####################################################################################3\n",
    "\n",
    "fpr, tpr, thresholds = roc_curve(y_test,y_predict_prob[:,1])\n",
    "plt.plot(fpr,tpr)\n",
    "plt.show()"
   ]
  },
  {
   "cell_type": "markdown",
   "metadata": {},
   "source": [
    "### Hypereparameter Tuning\n",
    "parameter : it is given by model\n",
    "            in the process of develovement , some parameter will evolve\n",
    "\n",
    "\n",
    "Hyper-Parameter means : Model Function and Arguments"
   ]
  },
  {
   "cell_type": "code",
   "execution_count": 34,
   "metadata": {},
   "outputs": [],
   "source": [
    "import pandas as pd\n",
    "from sklearn.model_selection import GridSearchCV,RandomizedSearchCV, cross_val_score"
   ]
  },
  {
   "cell_type": "code",
   "execution_count": 35,
   "metadata": {},
   "outputs": [
    {
     "data": {
      "text/html": [
       "<div>\n",
       "<style scoped>\n",
       "    .dataframe tbody tr th:only-of-type {\n",
       "        vertical-align: middle;\n",
       "    }\n",
       "\n",
       "    .dataframe tbody tr th {\n",
       "        vertical-align: top;\n",
       "    }\n",
       "\n",
       "    .dataframe thead th {\n",
       "        text-align: right;\n",
       "    }\n",
       "</style>\n",
       "<table border=\"1\" class=\"dataframe\">\n",
       "  <thead>\n",
       "    <tr style=\"text-align: right;\">\n",
       "      <th></th>\n",
       "      <th>Gender</th>\n",
       "      <th>Age</th>\n",
       "      <th>Married</th>\n",
       "      <th>Number of Dependents</th>\n",
       "      <th>Latitude</th>\n",
       "      <th>Longitude</th>\n",
       "      <th>Number of Referrals</th>\n",
       "      <th>Tenure in Months</th>\n",
       "      <th>Offer</th>\n",
       "      <th>Avg Monthly Long Distance Charges</th>\n",
       "      <th>Multiple Lines</th>\n",
       "      <th>Internet Type</th>\n",
       "      <th>Avg Monthly GB Download</th>\n",
       "      <th>Online Security</th>\n",
       "      <th>Online Backup</th>\n",
       "      <th>Device Protection Plan</th>\n",
       "      <th>Premium Tech Support</th>\n",
       "      <th>Streaming TV</th>\n",
       "      <th>Streaming Movies</th>\n",
       "      <th>Streaming Music</th>\n",
       "      <th>Unlimited Data</th>\n",
       "      <th>Contract</th>\n",
       "      <th>Paperless Billing</th>\n",
       "      <th>Payment Method</th>\n",
       "      <th>Monthly Charge</th>\n",
       "      <th>Total Charges</th>\n",
       "      <th>Total Refunds</th>\n",
       "      <th>Total Extra Data Charges</th>\n",
       "      <th>Total Long Distance Charges</th>\n",
       "      <th>Total Revenue</th>\n",
       "      <th>Customer Status</th>\n",
       "    </tr>\n",
       "  </thead>\n",
       "  <tbody>\n",
       "    <tr>\n",
       "      <th>0</th>\n",
       "      <td>0</td>\n",
       "      <td>37</td>\n",
       "      <td>1</td>\n",
       "      <td>0</td>\n",
       "      <td>34.827662</td>\n",
       "      <td>-118.999073</td>\n",
       "      <td>2</td>\n",
       "      <td>9</td>\n",
       "      <td>0</td>\n",
       "      <td>42.39</td>\n",
       "      <td>0</td>\n",
       "      <td>0</td>\n",
       "      <td>16</td>\n",
       "      <td>0</td>\n",
       "      <td>1</td>\n",
       "      <td>0</td>\n",
       "      <td>1</td>\n",
       "      <td>1</td>\n",
       "      <td>0</td>\n",
       "      <td>0</td>\n",
       "      <td>1</td>\n",
       "      <td>1</td>\n",
       "      <td>1</td>\n",
       "      <td>1</td>\n",
       "      <td>65.6</td>\n",
       "      <td>593.30</td>\n",
       "      <td>0.00</td>\n",
       "      <td>0</td>\n",
       "      <td>381.51</td>\n",
       "      <td>974.81</td>\n",
       "      <td>1</td>\n",
       "    </tr>\n",
       "    <tr>\n",
       "      <th>1</th>\n",
       "      <td>1</td>\n",
       "      <td>46</td>\n",
       "      <td>0</td>\n",
       "      <td>0</td>\n",
       "      <td>34.162515</td>\n",
       "      <td>-118.203869</td>\n",
       "      <td>0</td>\n",
       "      <td>9</td>\n",
       "      <td>0</td>\n",
       "      <td>10.69</td>\n",
       "      <td>1</td>\n",
       "      <td>0</td>\n",
       "      <td>10</td>\n",
       "      <td>0</td>\n",
       "      <td>0</td>\n",
       "      <td>0</td>\n",
       "      <td>0</td>\n",
       "      <td>0</td>\n",
       "      <td>1</td>\n",
       "      <td>1</td>\n",
       "      <td>0</td>\n",
       "      <td>0</td>\n",
       "      <td>0</td>\n",
       "      <td>1</td>\n",
       "      <td>-4.0</td>\n",
       "      <td>542.40</td>\n",
       "      <td>38.33</td>\n",
       "      <td>10</td>\n",
       "      <td>96.21</td>\n",
       "      <td>610.28</td>\n",
       "      <td>1</td>\n",
       "    </tr>\n",
       "    <tr>\n",
       "      <th>2</th>\n",
       "      <td>1</td>\n",
       "      <td>50</td>\n",
       "      <td>0</td>\n",
       "      <td>0</td>\n",
       "      <td>33.645672</td>\n",
       "      <td>-117.922613</td>\n",
       "      <td>0</td>\n",
       "      <td>4</td>\n",
       "      <td>5</td>\n",
       "      <td>33.65</td>\n",
       "      <td>0</td>\n",
       "      <td>2</td>\n",
       "      <td>30</td>\n",
       "      <td>0</td>\n",
       "      <td>0</td>\n",
       "      <td>1</td>\n",
       "      <td>0</td>\n",
       "      <td>0</td>\n",
       "      <td>0</td>\n",
       "      <td>0</td>\n",
       "      <td>1</td>\n",
       "      <td>0</td>\n",
       "      <td>1</td>\n",
       "      <td>0</td>\n",
       "      <td>73.9</td>\n",
       "      <td>280.85</td>\n",
       "      <td>0.00</td>\n",
       "      <td>0</td>\n",
       "      <td>134.60</td>\n",
       "      <td>415.45</td>\n",
       "      <td>0</td>\n",
       "    </tr>\n",
       "    <tr>\n",
       "      <th>3</th>\n",
       "      <td>1</td>\n",
       "      <td>78</td>\n",
       "      <td>1</td>\n",
       "      <td>0</td>\n",
       "      <td>38.014457</td>\n",
       "      <td>-122.115432</td>\n",
       "      <td>1</td>\n",
       "      <td>13</td>\n",
       "      <td>4</td>\n",
       "      <td>27.82</td>\n",
       "      <td>0</td>\n",
       "      <td>2</td>\n",
       "      <td>4</td>\n",
       "      <td>0</td>\n",
       "      <td>1</td>\n",
       "      <td>1</td>\n",
       "      <td>0</td>\n",
       "      <td>1</td>\n",
       "      <td>1</td>\n",
       "      <td>0</td>\n",
       "      <td>1</td>\n",
       "      <td>0</td>\n",
       "      <td>1</td>\n",
       "      <td>0</td>\n",
       "      <td>98.0</td>\n",
       "      <td>1237.85</td>\n",
       "      <td>0.00</td>\n",
       "      <td>0</td>\n",
       "      <td>361.66</td>\n",
       "      <td>1599.51</td>\n",
       "      <td>0</td>\n",
       "    </tr>\n",
       "    <tr>\n",
       "      <th>4</th>\n",
       "      <td>0</td>\n",
       "      <td>75</td>\n",
       "      <td>1</td>\n",
       "      <td>0</td>\n",
       "      <td>34.227846</td>\n",
       "      <td>-119.079903</td>\n",
       "      <td>3</td>\n",
       "      <td>3</td>\n",
       "      <td>0</td>\n",
       "      <td>7.38</td>\n",
       "      <td>0</td>\n",
       "      <td>2</td>\n",
       "      <td>11</td>\n",
       "      <td>0</td>\n",
       "      <td>0</td>\n",
       "      <td>0</td>\n",
       "      <td>1</td>\n",
       "      <td>1</td>\n",
       "      <td>0</td>\n",
       "      <td>0</td>\n",
       "      <td>1</td>\n",
       "      <td>0</td>\n",
       "      <td>1</td>\n",
       "      <td>1</td>\n",
       "      <td>83.9</td>\n",
       "      <td>267.40</td>\n",
       "      <td>0.00</td>\n",
       "      <td>0</td>\n",
       "      <td>22.14</td>\n",
       "      <td>289.54</td>\n",
       "      <td>0</td>\n",
       "    </tr>\n",
       "  </tbody>\n",
       "</table>\n",
       "</div>"
      ],
      "text/plain": [
       "   Gender  Age  Married  Number of Dependents   Latitude   Longitude  \\\n",
       "0       0   37        1                     0  34.827662 -118.999073   \n",
       "1       1   46        0                     0  34.162515 -118.203869   \n",
       "2       1   50        0                     0  33.645672 -117.922613   \n",
       "3       1   78        1                     0  38.014457 -122.115432   \n",
       "4       0   75        1                     0  34.227846 -119.079903   \n",
       "\n",
       "   Number of Referrals  Tenure in Months  Offer  \\\n",
       "0                    2                 9      0   \n",
       "1                    0                 9      0   \n",
       "2                    0                 4      5   \n",
       "3                    1                13      4   \n",
       "4                    3                 3      0   \n",
       "\n",
       "   Avg Monthly Long Distance Charges  Multiple Lines  Internet Type  \\\n",
       "0                              42.39               0              0   \n",
       "1                              10.69               1              0   \n",
       "2                              33.65               0              2   \n",
       "3                              27.82               0              2   \n",
       "4                               7.38               0              2   \n",
       "\n",
       "   Avg Monthly GB Download  Online Security  Online Backup  \\\n",
       "0                       16                0              1   \n",
       "1                       10                0              0   \n",
       "2                       30                0              0   \n",
       "3                        4                0              1   \n",
       "4                       11                0              0   \n",
       "\n",
       "   Device Protection Plan  Premium Tech Support  Streaming TV  \\\n",
       "0                       0                     1             1   \n",
       "1                       0                     0             0   \n",
       "2                       1                     0             0   \n",
       "3                       1                     0             1   \n",
       "4                       0                     1             1   \n",
       "\n",
       "   Streaming Movies  Streaming Music  Unlimited Data  Contract  \\\n",
       "0                 0                0               1         1   \n",
       "1                 1                1               0         0   \n",
       "2                 0                0               1         0   \n",
       "3                 1                0               1         0   \n",
       "4                 0                0               1         0   \n",
       "\n",
       "   Paperless Billing  Payment Method  Monthly Charge  Total Charges  \\\n",
       "0                  1               1            65.6         593.30   \n",
       "1                  0               1            -4.0         542.40   \n",
       "2                  1               0            73.9         280.85   \n",
       "3                  1               0            98.0        1237.85   \n",
       "4                  1               1            83.9         267.40   \n",
       "\n",
       "   Total Refunds  Total Extra Data Charges  Total Long Distance Charges  \\\n",
       "0           0.00                         0                       381.51   \n",
       "1          38.33                        10                        96.21   \n",
       "2           0.00                         0                       134.60   \n",
       "3           0.00                         0                       361.66   \n",
       "4           0.00                         0                        22.14   \n",
       "\n",
       "   Total Revenue  Customer Status  \n",
       "0         974.81                1  \n",
       "1         610.28                1  \n",
       "2         415.45                0  \n",
       "3        1599.51                0  \n",
       "4         289.54                0  "
      ]
     },
     "execution_count": 35,
     "metadata": {},
     "output_type": "execute_result"
    }
   ],
   "source": [
    "df.head()"
   ]
  },
  {
   "cell_type": "code",
   "execution_count": 36,
   "metadata": {},
   "outputs": [],
   "source": [
    "x = df.drop('Customer Status', axis=1)\n",
    "y = df['Customer Status'] \n",
    "\n",
    "\n",
    "x_train,x_test,y_train,y_test = train_test_split(x, y, test_size=0.2, random_state=123)"
   ]
  },
  {
   "cell_type": "code",
   "execution_count": 37,
   "metadata": {},
   "outputs": [
    {
     "data": {
      "text/html": [
       "<style>#sk-container-id-3 {color: black;}#sk-container-id-3 pre{padding: 0;}#sk-container-id-3 div.sk-toggleable {background-color: white;}#sk-container-id-3 label.sk-toggleable__label {cursor: pointer;display: block;width: 100%;margin-bottom: 0;padding: 0.3em;box-sizing: border-box;text-align: center;}#sk-container-id-3 label.sk-toggleable__label-arrow:before {content: \"▸\";float: left;margin-right: 0.25em;color: #696969;}#sk-container-id-3 label.sk-toggleable__label-arrow:hover:before {color: black;}#sk-container-id-3 div.sk-estimator:hover label.sk-toggleable__label-arrow:before {color: black;}#sk-container-id-3 div.sk-toggleable__content {max-height: 0;max-width: 0;overflow: hidden;text-align: left;background-color: #f0f8ff;}#sk-container-id-3 div.sk-toggleable__content pre {margin: 0.2em;color: black;border-radius: 0.25em;background-color: #f0f8ff;}#sk-container-id-3 input.sk-toggleable__control:checked~div.sk-toggleable__content {max-height: 200px;max-width: 100%;overflow: auto;}#sk-container-id-3 input.sk-toggleable__control:checked~label.sk-toggleable__label-arrow:before {content: \"▾\";}#sk-container-id-3 div.sk-estimator input.sk-toggleable__control:checked~label.sk-toggleable__label {background-color: #d4ebff;}#sk-container-id-3 div.sk-label input.sk-toggleable__control:checked~label.sk-toggleable__label {background-color: #d4ebff;}#sk-container-id-3 input.sk-hidden--visually {border: 0;clip: rect(1px 1px 1px 1px);clip: rect(1px, 1px, 1px, 1px);height: 1px;margin: -1px;overflow: hidden;padding: 0;position: absolute;width: 1px;}#sk-container-id-3 div.sk-estimator {font-family: monospace;background-color: #f0f8ff;border: 1px dotted black;border-radius: 0.25em;box-sizing: border-box;margin-bottom: 0.5em;}#sk-container-id-3 div.sk-estimator:hover {background-color: #d4ebff;}#sk-container-id-3 div.sk-parallel-item::after {content: \"\";width: 100%;border-bottom: 1px solid gray;flex-grow: 1;}#sk-container-id-3 div.sk-label:hover label.sk-toggleable__label {background-color: #d4ebff;}#sk-container-id-3 div.sk-serial::before {content: \"\";position: absolute;border-left: 1px solid gray;box-sizing: border-box;top: 0;bottom: 0;left: 50%;z-index: 0;}#sk-container-id-3 div.sk-serial {display: flex;flex-direction: column;align-items: center;background-color: white;padding-right: 0.2em;padding-left: 0.2em;position: relative;}#sk-container-id-3 div.sk-item {position: relative;z-index: 1;}#sk-container-id-3 div.sk-parallel {display: flex;align-items: stretch;justify-content: center;background-color: white;position: relative;}#sk-container-id-3 div.sk-item::before, #sk-container-id-3 div.sk-parallel-item::before {content: \"\";position: absolute;border-left: 1px solid gray;box-sizing: border-box;top: 0;bottom: 0;left: 50%;z-index: -1;}#sk-container-id-3 div.sk-parallel-item {display: flex;flex-direction: column;z-index: 1;position: relative;background-color: white;}#sk-container-id-3 div.sk-parallel-item:first-child::after {align-self: flex-end;width: 50%;}#sk-container-id-3 div.sk-parallel-item:last-child::after {align-self: flex-start;width: 50%;}#sk-container-id-3 div.sk-parallel-item:only-child::after {width: 0;}#sk-container-id-3 div.sk-dashed-wrapped {border: 1px dashed gray;margin: 0 0.4em 0.5em 0.4em;box-sizing: border-box;padding-bottom: 0.4em;background-color: white;}#sk-container-id-3 div.sk-label label {font-family: monospace;font-weight: bold;display: inline-block;line-height: 1.2em;}#sk-container-id-3 div.sk-label-container {text-align: center;}#sk-container-id-3 div.sk-container {/* jupyter's `normalize.less` sets `[hidden] { display: none; }` but bootstrap.min.css set `[hidden] { display: none !important; }` so we also need the `!important` here to be able to override the default hidden behavior on the sphinx rendered scikit-learn.org. See: https://github.com/scikit-learn/scikit-learn/issues/21755 */display: inline-block !important;position: relative;}#sk-container-id-3 div.sk-text-repr-fallback {display: none;}</style><div id=\"sk-container-id-3\" class=\"sk-top-container\"><div class=\"sk-text-repr-fallback\"><pre>DecisionTreeClassifier()</pre><b>In a Jupyter environment, please rerun this cell to show the HTML representation or trust the notebook. <br />On GitHub, the HTML representation is unable to render, please try loading this page with nbviewer.org.</b></div><div class=\"sk-container\" hidden><div class=\"sk-item\"><div class=\"sk-estimator sk-toggleable\"><input class=\"sk-toggleable__control sk-hidden--visually\" id=\"sk-estimator-id-3\" type=\"checkbox\" checked><label for=\"sk-estimator-id-3\" class=\"sk-toggleable__label sk-toggleable__label-arrow\">DecisionTreeClassifier</label><div class=\"sk-toggleable__content\"><pre>DecisionTreeClassifier()</pre></div></div></div></div></div>"
      ],
      "text/plain": [
       "DecisionTreeClassifier()"
      ]
     },
     "execution_count": 37,
     "metadata": {},
     "output_type": "execute_result"
    }
   ],
   "source": [
    "from sklearn.tree import DecisionTreeClassifier\n",
    "DT = DecisionTreeClassifier()\n",
    "DT.fit(x_train, y_train)"
   ]
  },
  {
   "cell_type": "code",
   "execution_count": 38,
   "metadata": {},
   "outputs": [
    {
     "data": {
      "text/plain": [
       "{'ccp_alpha': 0.0,\n",
       " 'class_weight': None,\n",
       " 'criterion': 'gini',\n",
       " 'max_depth': None,\n",
       " 'max_features': None,\n",
       " 'max_leaf_nodes': None,\n",
       " 'min_impurity_decrease': 0.0,\n",
       " 'min_samples_leaf': 1,\n",
       " 'min_samples_split': 2,\n",
       " 'min_weight_fraction_leaf': 0.0,\n",
       " 'random_state': None,\n",
       " 'splitter': 'best'}"
      ]
     },
     "execution_count": 38,
     "metadata": {},
     "output_type": "execute_result"
    }
   ],
   "source": [
    "DT.get_params() # this is all the hyperparameter of decision tree"
   ]
  },
  {
   "cell_type": "markdown",
   "metadata": {},
   "source": [
    "- Criterion: Determines the function to measure the quality of a split, such as Gini impurity or entropy.\n",
    "- Max_depth: Controls the maximum depth of the tree to avoid overfitting.\n",
    "- Min_samples_split: Specifies the minimum number of samples required to split an internal node.\n",
    "- Min_samples_leaf: Specifies the minimum number of samples required to be at a leaf node.\n",
    "- Max_features: Determines the number of features to consider when looking for the best split to reduce overfitting.\n",
    "- Min_impurity_decrease: Specifies the minimum impurity decrease required for a split to happen.\n",
    "- Splitter: Specifies the strategy used to choose the split at each node, either \"best\" or \"random\".\n",
    "- ccp_alpha: Cost-Complexity Pruning alpha, used for Minimal Cost-Complexity Pruning to prevent overfitting by adjusting the complexity of the tree.\n",
    "- class_weight: Handles class imbalance by assigning weights to classes, automatically or manually.\n",
    "- max_leaf_nodes: Sets the maximum number of leaf nodes to control overfitting by limiting the size of the tree.\n",
    "- min_weight_fraction_leaf: Specifies the minimum weighted fraction of samples required to be at a leaf node, similar to min_samples_leaf.\n",
    "- random_state: Seed for the random number generator, ensuring reproducibility of results when random processes are involved."
   ]
  },
  {
   "cell_type": "code",
   "execution_count": 39,
   "metadata": {},
   "outputs": [],
   "source": [
    "param_grid = {\n",
    "    'criterion': ['gini', 'entropy'], # 2\n",
    "    'max_depth': [3,4,5,6,7,8], # 6\n",
    "    'min_samples_split': [2,3,4], #3\n",
    "    'min_samples_leaf': [1,2,3,4], # 4\n",
    "    'random_state': [0,42] # 2\n",
    "}\n",
    "# 2*6*3*4*2 = 288"
   ]
  },
  {
   "cell_type": "code",
   "execution_count": 40,
   "metadata": {},
   "outputs": [
    {
     "data": {
      "text/html": [
       "<style>#sk-container-id-4 {color: black;}#sk-container-id-4 pre{padding: 0;}#sk-container-id-4 div.sk-toggleable {background-color: white;}#sk-container-id-4 label.sk-toggleable__label {cursor: pointer;display: block;width: 100%;margin-bottom: 0;padding: 0.3em;box-sizing: border-box;text-align: center;}#sk-container-id-4 label.sk-toggleable__label-arrow:before {content: \"▸\";float: left;margin-right: 0.25em;color: #696969;}#sk-container-id-4 label.sk-toggleable__label-arrow:hover:before {color: black;}#sk-container-id-4 div.sk-estimator:hover label.sk-toggleable__label-arrow:before {color: black;}#sk-container-id-4 div.sk-toggleable__content {max-height: 0;max-width: 0;overflow: hidden;text-align: left;background-color: #f0f8ff;}#sk-container-id-4 div.sk-toggleable__content pre {margin: 0.2em;color: black;border-radius: 0.25em;background-color: #f0f8ff;}#sk-container-id-4 input.sk-toggleable__control:checked~div.sk-toggleable__content {max-height: 200px;max-width: 100%;overflow: auto;}#sk-container-id-4 input.sk-toggleable__control:checked~label.sk-toggleable__label-arrow:before {content: \"▾\";}#sk-container-id-4 div.sk-estimator input.sk-toggleable__control:checked~label.sk-toggleable__label {background-color: #d4ebff;}#sk-container-id-4 div.sk-label input.sk-toggleable__control:checked~label.sk-toggleable__label {background-color: #d4ebff;}#sk-container-id-4 input.sk-hidden--visually {border: 0;clip: rect(1px 1px 1px 1px);clip: rect(1px, 1px, 1px, 1px);height: 1px;margin: -1px;overflow: hidden;padding: 0;position: absolute;width: 1px;}#sk-container-id-4 div.sk-estimator {font-family: monospace;background-color: #f0f8ff;border: 1px dotted black;border-radius: 0.25em;box-sizing: border-box;margin-bottom: 0.5em;}#sk-container-id-4 div.sk-estimator:hover {background-color: #d4ebff;}#sk-container-id-4 div.sk-parallel-item::after {content: \"\";width: 100%;border-bottom: 1px solid gray;flex-grow: 1;}#sk-container-id-4 div.sk-label:hover label.sk-toggleable__label {background-color: #d4ebff;}#sk-container-id-4 div.sk-serial::before {content: \"\";position: absolute;border-left: 1px solid gray;box-sizing: border-box;top: 0;bottom: 0;left: 50%;z-index: 0;}#sk-container-id-4 div.sk-serial {display: flex;flex-direction: column;align-items: center;background-color: white;padding-right: 0.2em;padding-left: 0.2em;position: relative;}#sk-container-id-4 div.sk-item {position: relative;z-index: 1;}#sk-container-id-4 div.sk-parallel {display: flex;align-items: stretch;justify-content: center;background-color: white;position: relative;}#sk-container-id-4 div.sk-item::before, #sk-container-id-4 div.sk-parallel-item::before {content: \"\";position: absolute;border-left: 1px solid gray;box-sizing: border-box;top: 0;bottom: 0;left: 50%;z-index: -1;}#sk-container-id-4 div.sk-parallel-item {display: flex;flex-direction: column;z-index: 1;position: relative;background-color: white;}#sk-container-id-4 div.sk-parallel-item:first-child::after {align-self: flex-end;width: 50%;}#sk-container-id-4 div.sk-parallel-item:last-child::after {align-self: flex-start;width: 50%;}#sk-container-id-4 div.sk-parallel-item:only-child::after {width: 0;}#sk-container-id-4 div.sk-dashed-wrapped {border: 1px dashed gray;margin: 0 0.4em 0.5em 0.4em;box-sizing: border-box;padding-bottom: 0.4em;background-color: white;}#sk-container-id-4 div.sk-label label {font-family: monospace;font-weight: bold;display: inline-block;line-height: 1.2em;}#sk-container-id-4 div.sk-label-container {text-align: center;}#sk-container-id-4 div.sk-container {/* jupyter's `normalize.less` sets `[hidden] { display: none; }` but bootstrap.min.css set `[hidden] { display: none !important; }` so we also need the `!important` here to be able to override the default hidden behavior on the sphinx rendered scikit-learn.org. See: https://github.com/scikit-learn/scikit-learn/issues/21755 */display: inline-block !important;position: relative;}#sk-container-id-4 div.sk-text-repr-fallback {display: none;}</style><div id=\"sk-container-id-4\" class=\"sk-top-container\"><div class=\"sk-text-repr-fallback\"><pre>GridSearchCV(cv=5, estimator=DecisionTreeClassifier(),\n",
       "             param_grid={&#x27;criterion&#x27;: [&#x27;gini&#x27;, &#x27;entropy&#x27;],\n",
       "                         &#x27;max_depth&#x27;: [3, 4, 5, 6, 7, 8],\n",
       "                         &#x27;min_samples_leaf&#x27;: [1, 2, 3, 4],\n",
       "                         &#x27;min_samples_split&#x27;: [2, 3, 4],\n",
       "                         &#x27;random_state&#x27;: [0, 42]},\n",
       "             scoring=&#x27;accuracy&#x27;, verbose=True)</pre><b>In a Jupyter environment, please rerun this cell to show the HTML representation or trust the notebook. <br />On GitHub, the HTML representation is unable to render, please try loading this page with nbviewer.org.</b></div><div class=\"sk-container\" hidden><div class=\"sk-item sk-dashed-wrapped\"><div class=\"sk-label-container\"><div class=\"sk-label sk-toggleable\"><input class=\"sk-toggleable__control sk-hidden--visually\" id=\"sk-estimator-id-4\" type=\"checkbox\" ><label for=\"sk-estimator-id-4\" class=\"sk-toggleable__label sk-toggleable__label-arrow\">GridSearchCV</label><div class=\"sk-toggleable__content\"><pre>GridSearchCV(cv=5, estimator=DecisionTreeClassifier(),\n",
       "             param_grid={&#x27;criterion&#x27;: [&#x27;gini&#x27;, &#x27;entropy&#x27;],\n",
       "                         &#x27;max_depth&#x27;: [3, 4, 5, 6, 7, 8],\n",
       "                         &#x27;min_samples_leaf&#x27;: [1, 2, 3, 4],\n",
       "                         &#x27;min_samples_split&#x27;: [2, 3, 4],\n",
       "                         &#x27;random_state&#x27;: [0, 42]},\n",
       "             scoring=&#x27;accuracy&#x27;, verbose=True)</pre></div></div></div><div class=\"sk-parallel\"><div class=\"sk-parallel-item\"><div class=\"sk-item\"><div class=\"sk-label-container\"><div class=\"sk-label sk-toggleable\"><input class=\"sk-toggleable__control sk-hidden--visually\" id=\"sk-estimator-id-5\" type=\"checkbox\" ><label for=\"sk-estimator-id-5\" class=\"sk-toggleable__label sk-toggleable__label-arrow\">estimator: DecisionTreeClassifier</label><div class=\"sk-toggleable__content\"><pre>DecisionTreeClassifier()</pre></div></div></div><div class=\"sk-serial\"><div class=\"sk-item\"><div class=\"sk-estimator sk-toggleable\"><input class=\"sk-toggleable__control sk-hidden--visually\" id=\"sk-estimator-id-6\" type=\"checkbox\" ><label for=\"sk-estimator-id-6\" class=\"sk-toggleable__label sk-toggleable__label-arrow\">DecisionTreeClassifier</label><div class=\"sk-toggleable__content\"><pre>DecisionTreeClassifier()</pre></div></div></div></div></div></div></div></div></div></div>"
      ],
      "text/plain": [
       "GridSearchCV(cv=5, estimator=DecisionTreeClassifier(),\n",
       "             param_grid={'criterion': ['gini', 'entropy'],\n",
       "                         'max_depth': [3, 4, 5, 6, 7, 8],\n",
       "                         'min_samples_leaf': [1, 2, 3, 4],\n",
       "                         'min_samples_split': [2, 3, 4],\n",
       "                         'random_state': [0, 42]},\n",
       "             scoring='accuracy', verbose=True)"
      ]
     },
     "execution_count": 40,
     "metadata": {},
     "output_type": "execute_result"
    }
   ],
   "source": [
    "grid_search = GridSearchCV(DT, param_grid, scoring='accuracy', cv = 5, verbose=True)\n",
    "grid_search"
   ]
  },
  {
   "cell_type": "code",
   "execution_count": 41,
   "metadata": {},
   "outputs": [
    {
     "name": "stdout",
     "output_type": "stream",
     "text": [
      "Fitting 5 folds for each of 288 candidates, totalling 1440 fits\n",
      "total time taken:  126.47008538246155\n"
     ]
    }
   ],
   "source": [
    "import time\n",
    "start = time.time()\n",
    "grid_search.fit(x_train, y_train) # fit the grid search\n",
    "end= time.time()\n",
    "print(\"total time taken: \", (end-start))"
   ]
  },
  {
   "cell_type": "code",
   "execution_count": 54,
   "metadata": {},
   "outputs": [
    {
     "data": {
      "text/plain": [
       "30"
      ]
     },
     "execution_count": 54,
     "metadata": {},
     "output_type": "execute_result"
    }
   ],
   "source": [
    "# grid_search.<Tab> # explore other methods "
   ]
  },
  {
   "cell_type": "code",
   "execution_count": 42,
   "metadata": {},
   "outputs": [
    {
     "data": {
      "text/html": [
       "<style>#sk-container-id-5 {color: black;}#sk-container-id-5 pre{padding: 0;}#sk-container-id-5 div.sk-toggleable {background-color: white;}#sk-container-id-5 label.sk-toggleable__label {cursor: pointer;display: block;width: 100%;margin-bottom: 0;padding: 0.3em;box-sizing: border-box;text-align: center;}#sk-container-id-5 label.sk-toggleable__label-arrow:before {content: \"▸\";float: left;margin-right: 0.25em;color: #696969;}#sk-container-id-5 label.sk-toggleable__label-arrow:hover:before {color: black;}#sk-container-id-5 div.sk-estimator:hover label.sk-toggleable__label-arrow:before {color: black;}#sk-container-id-5 div.sk-toggleable__content {max-height: 0;max-width: 0;overflow: hidden;text-align: left;background-color: #f0f8ff;}#sk-container-id-5 div.sk-toggleable__content pre {margin: 0.2em;color: black;border-radius: 0.25em;background-color: #f0f8ff;}#sk-container-id-5 input.sk-toggleable__control:checked~div.sk-toggleable__content {max-height: 200px;max-width: 100%;overflow: auto;}#sk-container-id-5 input.sk-toggleable__control:checked~label.sk-toggleable__label-arrow:before {content: \"▾\";}#sk-container-id-5 div.sk-estimator input.sk-toggleable__control:checked~label.sk-toggleable__label {background-color: #d4ebff;}#sk-container-id-5 div.sk-label input.sk-toggleable__control:checked~label.sk-toggleable__label {background-color: #d4ebff;}#sk-container-id-5 input.sk-hidden--visually {border: 0;clip: rect(1px 1px 1px 1px);clip: rect(1px, 1px, 1px, 1px);height: 1px;margin: -1px;overflow: hidden;padding: 0;position: absolute;width: 1px;}#sk-container-id-5 div.sk-estimator {font-family: monospace;background-color: #f0f8ff;border: 1px dotted black;border-radius: 0.25em;box-sizing: border-box;margin-bottom: 0.5em;}#sk-container-id-5 div.sk-estimator:hover {background-color: #d4ebff;}#sk-container-id-5 div.sk-parallel-item::after {content: \"\";width: 100%;border-bottom: 1px solid gray;flex-grow: 1;}#sk-container-id-5 div.sk-label:hover label.sk-toggleable__label {background-color: #d4ebff;}#sk-container-id-5 div.sk-serial::before {content: \"\";position: absolute;border-left: 1px solid gray;box-sizing: border-box;top: 0;bottom: 0;left: 50%;z-index: 0;}#sk-container-id-5 div.sk-serial {display: flex;flex-direction: column;align-items: center;background-color: white;padding-right: 0.2em;padding-left: 0.2em;position: relative;}#sk-container-id-5 div.sk-item {position: relative;z-index: 1;}#sk-container-id-5 div.sk-parallel {display: flex;align-items: stretch;justify-content: center;background-color: white;position: relative;}#sk-container-id-5 div.sk-item::before, #sk-container-id-5 div.sk-parallel-item::before {content: \"\";position: absolute;border-left: 1px solid gray;box-sizing: border-box;top: 0;bottom: 0;left: 50%;z-index: -1;}#sk-container-id-5 div.sk-parallel-item {display: flex;flex-direction: column;z-index: 1;position: relative;background-color: white;}#sk-container-id-5 div.sk-parallel-item:first-child::after {align-self: flex-end;width: 50%;}#sk-container-id-5 div.sk-parallel-item:last-child::after {align-self: flex-start;width: 50%;}#sk-container-id-5 div.sk-parallel-item:only-child::after {width: 0;}#sk-container-id-5 div.sk-dashed-wrapped {border: 1px dashed gray;margin: 0 0.4em 0.5em 0.4em;box-sizing: border-box;padding-bottom: 0.4em;background-color: white;}#sk-container-id-5 div.sk-label label {font-family: monospace;font-weight: bold;display: inline-block;line-height: 1.2em;}#sk-container-id-5 div.sk-label-container {text-align: center;}#sk-container-id-5 div.sk-container {/* jupyter's `normalize.less` sets `[hidden] { display: none; }` but bootstrap.min.css set `[hidden] { display: none !important; }` so we also need the `!important` here to be able to override the default hidden behavior on the sphinx rendered scikit-learn.org. See: https://github.com/scikit-learn/scikit-learn/issues/21755 */display: inline-block !important;position: relative;}#sk-container-id-5 div.sk-text-repr-fallback {display: none;}</style><div id=\"sk-container-id-5\" class=\"sk-top-container\"><div class=\"sk-text-repr-fallback\"><pre>DecisionTreeClassifier(max_depth=7, min_samples_leaf=4, random_state=0)</pre><b>In a Jupyter environment, please rerun this cell to show the HTML representation or trust the notebook. <br />On GitHub, the HTML representation is unable to render, please try loading this page with nbviewer.org.</b></div><div class=\"sk-container\" hidden><div class=\"sk-item\"><div class=\"sk-estimator sk-toggleable\"><input class=\"sk-toggleable__control sk-hidden--visually\" id=\"sk-estimator-id-7\" type=\"checkbox\" checked><label for=\"sk-estimator-id-7\" class=\"sk-toggleable__label sk-toggleable__label-arrow\">DecisionTreeClassifier</label><div class=\"sk-toggleable__content\"><pre>DecisionTreeClassifier(max_depth=7, min_samples_leaf=4, random_state=0)</pre></div></div></div></div></div>"
      ],
      "text/plain": [
       "DecisionTreeClassifier(max_depth=7, min_samples_leaf=4, random_state=0)"
      ]
     },
     "execution_count": 42,
     "metadata": {},
     "output_type": "execute_result"
    }
   ],
   "source": [
    "grid_search.best_estimator_\n",
    "\n",
    "# best estimator is your model \n",
    "# if you "
   ]
  },
  {
   "cell_type": "code",
   "execution_count": 43,
   "metadata": {},
   "outputs": [
    {
     "data": {
      "text/plain": [
       "0.7955076198976437"
      ]
     },
     "execution_count": 43,
     "metadata": {},
     "output_type": "execute_result"
    }
   ],
   "source": [
    "grid_search.best_score_"
   ]
  },
  {
   "cell_type": "code",
   "execution_count": 44,
   "metadata": {},
   "outputs": [
    {
     "data": {
      "text/plain": [
       "{'criterion': 'gini',\n",
       " 'max_depth': 7,\n",
       " 'min_samples_leaf': 4,\n",
       " 'min_samples_split': 2,\n",
       " 'random_state': 0}"
      ]
     },
     "execution_count": 44,
     "metadata": {},
     "output_type": "execute_result"
    }
   ],
   "source": [
    "grid_search.best_params_"
   ]
  },
  {
   "cell_type": "code",
   "execution_count": 45,
   "metadata": {},
   "outputs": [
    {
     "data": {
      "text/plain": [
       "array([0.79844961, 0.78294574, 0.78165375, 0.81630013, 0.79818887])"
      ]
     },
     "execution_count": 45,
     "metadata": {},
     "output_type": "execute_result"
    }
   ],
   "source": [
    "accuracy_list = cross_val_score(grid_search.best_estimator_,\n",
    "                                x_train,\n",
    "                                y_train,\n",
    "                                cv = 5,\n",
    "                                scoring='accuracy')\n",
    "accuracy_list"
   ]
  },
  {
   "cell_type": "code",
   "execution_count": 46,
   "metadata": {},
   "outputs": [
    {
     "data": {
      "text/plain": [
       "0.7955076198976437"
      ]
     },
     "execution_count": 46,
     "metadata": {},
     "output_type": "execute_result"
    }
   ],
   "source": [
    "accuracy_list.mean() # this should be equal to the grid_search.best_estimator_ value\n",
    "\n",
    "# then is consider our "
   ]
  },
  {
   "cell_type": "markdown",
   "metadata": {},
   "source": [
    "- step1: we created a base model\n",
    "       - with default parameters\n",
    "- step2: we created a parameters dicitonary file\n",
    "- step3: we apply GridSearchCV\n",
    "       - we use base model and parameter dictionary file\n",
    "       - Inside the GridSearchCV\n",
    "- step4: we need to pass the data on GridSearchCV\n",
    "- step5: Then after so many combinations check\n",
    "       - best estimators [ best model] \n",
    "       - best score\n",
    "       - best parameters\n",
    "- step6: (optional) cross validation score\n",
    "       - if we pass the best estimator model for cv = 5\n",
    "       - The mean accuracy = Best score"
   ]
  },
  {
   "cell_type": "code",
   "execution_count": 47,
   "metadata": {},
   "outputs": [],
   "source": [
    "# # All in  one shot\n",
    "\n",
    "# # ======================== Step 1 get the best model ===============================================\n",
    "\n",
    "# from sklearn.model_selection import DecisionTreeClassifier\n",
    "\n",
    "# DT = DecisionTreeClassifier()\n",
    "# DT.fit(x_train,y_train)"
   ]
  },
  {
   "cell_type": "markdown",
   "metadata": {},
   "source": [
    "### Now we again develope thne model with the best patameter that we get from the typerparameter tuning \n",
    "- use this code to get the best hyperparameter for the model\n",
    "- then again develope model with these parameter only\n",
    "- grid_search.best_params_"
   ]
  },
  {
   "cell_type": "code",
   "execution_count": 59,
   "metadata": {},
   "outputs": [
    {
     "data": {
      "text/html": [
       "<style>#sk-container-id-8 {color: black;}#sk-container-id-8 pre{padding: 0;}#sk-container-id-8 div.sk-toggleable {background-color: white;}#sk-container-id-8 label.sk-toggleable__label {cursor: pointer;display: block;width: 100%;margin-bottom: 0;padding: 0.3em;box-sizing: border-box;text-align: center;}#sk-container-id-8 label.sk-toggleable__label-arrow:before {content: \"▸\";float: left;margin-right: 0.25em;color: #696969;}#sk-container-id-8 label.sk-toggleable__label-arrow:hover:before {color: black;}#sk-container-id-8 div.sk-estimator:hover label.sk-toggleable__label-arrow:before {color: black;}#sk-container-id-8 div.sk-toggleable__content {max-height: 0;max-width: 0;overflow: hidden;text-align: left;background-color: #f0f8ff;}#sk-container-id-8 div.sk-toggleable__content pre {margin: 0.2em;color: black;border-radius: 0.25em;background-color: #f0f8ff;}#sk-container-id-8 input.sk-toggleable__control:checked~div.sk-toggleable__content {max-height: 200px;max-width: 100%;overflow: auto;}#sk-container-id-8 input.sk-toggleable__control:checked~label.sk-toggleable__label-arrow:before {content: \"▾\";}#sk-container-id-8 div.sk-estimator input.sk-toggleable__control:checked~label.sk-toggleable__label {background-color: #d4ebff;}#sk-container-id-8 div.sk-label input.sk-toggleable__control:checked~label.sk-toggleable__label {background-color: #d4ebff;}#sk-container-id-8 input.sk-hidden--visually {border: 0;clip: rect(1px 1px 1px 1px);clip: rect(1px, 1px, 1px, 1px);height: 1px;margin: -1px;overflow: hidden;padding: 0;position: absolute;width: 1px;}#sk-container-id-8 div.sk-estimator {font-family: monospace;background-color: #f0f8ff;border: 1px dotted black;border-radius: 0.25em;box-sizing: border-box;margin-bottom: 0.5em;}#sk-container-id-8 div.sk-estimator:hover {background-color: #d4ebff;}#sk-container-id-8 div.sk-parallel-item::after {content: \"\";width: 100%;border-bottom: 1px solid gray;flex-grow: 1;}#sk-container-id-8 div.sk-label:hover label.sk-toggleable__label {background-color: #d4ebff;}#sk-container-id-8 div.sk-serial::before {content: \"\";position: absolute;border-left: 1px solid gray;box-sizing: border-box;top: 0;bottom: 0;left: 50%;z-index: 0;}#sk-container-id-8 div.sk-serial {display: flex;flex-direction: column;align-items: center;background-color: white;padding-right: 0.2em;padding-left: 0.2em;position: relative;}#sk-container-id-8 div.sk-item {position: relative;z-index: 1;}#sk-container-id-8 div.sk-parallel {display: flex;align-items: stretch;justify-content: center;background-color: white;position: relative;}#sk-container-id-8 div.sk-item::before, #sk-container-id-8 div.sk-parallel-item::before {content: \"\";position: absolute;border-left: 1px solid gray;box-sizing: border-box;top: 0;bottom: 0;left: 50%;z-index: -1;}#sk-container-id-8 div.sk-parallel-item {display: flex;flex-direction: column;z-index: 1;position: relative;background-color: white;}#sk-container-id-8 div.sk-parallel-item:first-child::after {align-self: flex-end;width: 50%;}#sk-container-id-8 div.sk-parallel-item:last-child::after {align-self: flex-start;width: 50%;}#sk-container-id-8 div.sk-parallel-item:only-child::after {width: 0;}#sk-container-id-8 div.sk-dashed-wrapped {border: 1px dashed gray;margin: 0 0.4em 0.5em 0.4em;box-sizing: border-box;padding-bottom: 0.4em;background-color: white;}#sk-container-id-8 div.sk-label label {font-family: monospace;font-weight: bold;display: inline-block;line-height: 1.2em;}#sk-container-id-8 div.sk-label-container {text-align: center;}#sk-container-id-8 div.sk-container {/* jupyter's `normalize.less` sets `[hidden] { display: none; }` but bootstrap.min.css set `[hidden] { display: none !important; }` so we also need the `!important` here to be able to override the default hidden behavior on the sphinx rendered scikit-learn.org. See: https://github.com/scikit-learn/scikit-learn/issues/21755 */display: inline-block !important;position: relative;}#sk-container-id-8 div.sk-text-repr-fallback {display: none;}</style><div id=\"sk-container-id-8\" class=\"sk-top-container\"><div class=\"sk-text-repr-fallback\"><pre>DecisionTreeClassifier(max_depth=7, min_samples_leaf=4, random_state=0)</pre><b>In a Jupyter environment, please rerun this cell to show the HTML representation or trust the notebook. <br />On GitHub, the HTML representation is unable to render, please try loading this page with nbviewer.org.</b></div><div class=\"sk-container\" hidden><div class=\"sk-item\"><div class=\"sk-estimator sk-toggleable\"><input class=\"sk-toggleable__control sk-hidden--visually\" id=\"sk-estimator-id-10\" type=\"checkbox\" checked><label for=\"sk-estimator-id-10\" class=\"sk-toggleable__label sk-toggleable__label-arrow\">DecisionTreeClassifier</label><div class=\"sk-toggleable__content\"><pre>DecisionTreeClassifier(max_depth=7, min_samples_leaf=4, random_state=0)</pre></div></div></div></div></div>"
      ],
      "text/plain": [
       "DecisionTreeClassifier(max_depth=7, min_samples_leaf=4, random_state=0)"
      ]
     },
     "execution_count": 59,
     "metadata": {},
     "output_type": "execute_result"
    }
   ],
   "source": [
    "from sklearn.tree import DecisionTreeClassifier\n",
    "\n",
    "x = df.drop('Customer Status', axis=1)\n",
    "y = df['Customer Status']\n",
    "\n",
    "x_train, x_test, y_train, y_test = train_test_split(x, y , test_size=0.2, random_state=42)\n",
    "\n",
    "DT = DecisionTreeClassifier(criterion= 'gini', max_depth= 7, min_samples_leaf= 4, min_samples_split= 2, random_state= 0)\n",
    "\n",
    "DT.fit(x_train,y_train)\n",
    "\n"
   ]
  },
  {
   "cell_type": "code",
   "execution_count": 60,
   "metadata": {},
   "outputs": [
    {
     "name": "stdout",
     "output_type": "stream",
     "text": [
      "accuracy is 78.1799379524302\n",
      "prescision is 0.823262839879154\n",
      "recall is 0.8528951486697965\n",
      "f1 score is 0.8378170637970791\n"
     ]
    }
   ],
   "source": [
    "y_pred = DT.predict(x_test)\n",
    "\n",
    "# tn,fp,fn,tp=confusion_matrix(y_test,y_pred).ravel()\n",
    "\n",
    "\n",
    "acc_dt= accuracy_score(y_test,y_pred)*100\n",
    "pre_dt= precision_score(y_test,y_pred)\n",
    "rec_dt= recall_score(y_test,y_pred)\n",
    "f1_dt= f1_score(y_test,y_pred)\n",
    "\n",
    "print(\"accuracy is\",acc_dt)\n",
    "print(\"prescision is\",pre_dt)\n",
    "print(\"recall is\",rec_dt)\n",
    "print(\"f1 score is\",f1_dt)\n"
   ]
  },
  {
   "cell_type": "code",
   "execution_count": 61,
   "metadata": {},
   "outputs": [
    {
     "data": {
      "image/png": "[encoded data removed]",
      "text/plain": [
       "<Figure size 640x480 with 2 Axes>"
      ]
     },
     "metadata": {},
     "output_type": "display_data"
    },
    {
     "name": "stdout",
     "output_type": "stream",
     "text": [
      "True negative: 211\n",
      "False postive: 117\n",
      "False negative: 94\n",
      "True postive: 545\n",
      "y_predict_prob [[0.41624365 0.58375635]\n",
      " [0.         1.        ]\n",
      " [0.5        0.5       ]\n",
      " ...\n",
      " [0.63197026 0.36802974]\n",
      " [0.         1.        ]\n",
      " [0.         1.        ]]\n",
      "FPR [0.         0.28963415 0.31707317 0.32317073 0.33231707 0.33536585\n",
      " 0.3445122  0.3597561  0.42987805 0.48170732 0.4847561  0.48780488\n",
      " 0.5152439  0.51829268 0.53658537 0.53658537 0.53963415 0.55182927\n",
      " 0.55487805 0.55792683 0.55792683 0.56402439 0.66463415 0.72560976\n",
      " 0.74390244 0.75304878 0.75609756 0.76829268 0.77134146 0.82317073\n",
      " 0.82621951 0.85365854 0.86280488 0.89634146 0.92682927 0.93597561\n",
      " 0.97560976 1.        ]\n",
      "TPR [0.         0.31611894 0.32550861 0.34115806 0.35524257 0.36150235\n",
      " 0.36932707 0.38810642 0.42879499 0.47261346 0.47730829 0.48826291\n",
      " 0.52895149 0.53051643 0.53677621 0.54147105 0.54773083 0.56651017\n",
      " 0.57120501 0.57276995 0.57746479 0.58215962 0.67605634 0.71361502\n",
      " 0.71830986 0.73552426 0.74334898 0.74804382 0.75117371 0.82629108\n",
      " 0.82942097 0.86697966 0.89045383 0.91079812 0.95774648 0.96400626\n",
      " 0.99217527 1.        ]\n",
      "thersholds [       inf 1.         0.984375   0.98333333 0.97368421 0.95121951\n",
      " 0.9375     0.90322581 0.89795918 0.89361702 0.88235294 0.85185185\n",
      " 0.80597015 0.8        0.75       0.73076923 0.72727273 0.72222222\n",
      " 0.71428571 0.66666667 0.625      0.58823529 0.58375635 0.58\n",
      " 0.5        0.44927536 0.44827586 0.43478261 0.4        0.36802974\n",
      " 0.23809524 0.22556391 0.16923077 0.125      0.09917355 0.04545455\n",
      " 0.03703704 0.        ]\n"
     ]
    },
    {
     "data": {
      "image/png": "[encoded data removed]",
      "text/plain": [
       "<Figure size 640x480 with 1 Axes>"
      ]
     },
     "metadata": {},
     "output_type": "display_data"
    }
   ],
   "source": [
    "cmt=confusion_matrix(y_test,y_pred)\n",
    "dist = ConfusionMatrixDisplay(cmt) #display_labels=[False,True])\n",
    "dist.plot()\n",
    "plt.grid(False)\n",
    "plt.show()\n",
    "\n",
    "tn, fp, fn, tp = confusion_matrix(y_test,y_pred).ravel()\n",
    "print(\"True negative:\",tn)\n",
    "print(\"False postive:\",fp)\n",
    "print(\"False negative:\",fn)\n",
    "print(\"True postive:\",tp)\n",
    "\n",
    "####################################################################################\n",
    "\n",
    "y_predict_prob = DT.predict_proba(X_test)\n",
    "print('y_predict_prob', y_predict_prob)\n",
    "\n",
    "#####################################################################################3\n",
    "\n",
    "fpr, tpr, thershold1 = roc_curve(y_test,y_predict_prob[:,1])\n",
    "print('FPR',fpr)\n",
    "print('TPR',tpr)\n",
    "print('thersholds',thershold1)\n",
    "plt.plot(fpr,tpr)\n",
    "plt.show()"
   ]
  },
  {
   "cell_type": "markdown",
   "metadata": {},
   "source": [
    "### Apply GridSearch Crossvalidation on Naive Bayes"
   ]
  },
  {
   "cell_type": "code",
   "execution_count": 58,
   "metadata": {},
   "outputs": [
    {
     "data": {
      "text/html": [
       "<div>\n",
       "<style scoped>\n",
       "    .dataframe tbody tr th:only-of-type {\n",
       "        vertical-align: middle;\n",
       "    }\n",
       "\n",
       "    .dataframe tbody tr th {\n",
       "        vertical-align: top;\n",
       "    }\n",
       "\n",
       "    .dataframe thead th {\n",
       "        text-align: right;\n",
       "    }\n",
       "</style>\n",
       "<table border=\"1\" class=\"dataframe\">\n",
       "  <thead>\n",
       "    <tr style=\"text-align: right;\">\n",
       "      <th></th>\n",
       "      <th>Gender</th>\n",
       "      <th>Age</th>\n",
       "      <th>Married</th>\n",
       "      <th>Number of Dependents</th>\n",
       "      <th>Latitude</th>\n",
       "      <th>Longitude</th>\n",
       "      <th>Number of Referrals</th>\n",
       "      <th>Tenure in Months</th>\n",
       "      <th>Offer</th>\n",
       "      <th>Avg Monthly Long Distance Charges</th>\n",
       "      <th>Multiple Lines</th>\n",
       "      <th>Internet Type</th>\n",
       "      <th>Avg Monthly GB Download</th>\n",
       "      <th>Online Security</th>\n",
       "      <th>Online Backup</th>\n",
       "      <th>Device Protection Plan</th>\n",
       "      <th>Premium Tech Support</th>\n",
       "      <th>Streaming TV</th>\n",
       "      <th>Streaming Movies</th>\n",
       "      <th>Streaming Music</th>\n",
       "      <th>Unlimited Data</th>\n",
       "      <th>Contract</th>\n",
       "      <th>Paperless Billing</th>\n",
       "      <th>Payment Method</th>\n",
       "      <th>Monthly Charge</th>\n",
       "      <th>Total Charges</th>\n",
       "      <th>Total Refunds</th>\n",
       "      <th>Total Extra Data Charges</th>\n",
       "      <th>Total Long Distance Charges</th>\n",
       "      <th>Total Revenue</th>\n",
       "      <th>Customer Status</th>\n",
       "    </tr>\n",
       "  </thead>\n",
       "  <tbody>\n",
       "    <tr>\n",
       "      <th>0</th>\n",
       "      <td>0</td>\n",
       "      <td>37</td>\n",
       "      <td>1</td>\n",
       "      <td>0</td>\n",
       "      <td>34.827662</td>\n",
       "      <td>-118.999073</td>\n",
       "      <td>2</td>\n",
       "      <td>9</td>\n",
       "      <td>0</td>\n",
       "      <td>42.39</td>\n",
       "      <td>0</td>\n",
       "      <td>0</td>\n",
       "      <td>16</td>\n",
       "      <td>0</td>\n",
       "      <td>1</td>\n",
       "      <td>0</td>\n",
       "      <td>1</td>\n",
       "      <td>1</td>\n",
       "      <td>0</td>\n",
       "      <td>0</td>\n",
       "      <td>1</td>\n",
       "      <td>1</td>\n",
       "      <td>1</td>\n",
       "      <td>1</td>\n",
       "      <td>65.6</td>\n",
       "      <td>593.3</td>\n",
       "      <td>0.0</td>\n",
       "      <td>0</td>\n",
       "      <td>381.51</td>\n",
       "      <td>974.81</td>\n",
       "      <td>1</td>\n",
       "    </tr>\n",
       "  </tbody>\n",
       "</table>\n",
       "</div>"
      ],
      "text/plain": [
       "   Gender  Age  Married  Number of Dependents   Latitude   Longitude  \\\n",
       "0       0   37        1                     0  34.827662 -118.999073   \n",
       "\n",
       "   Number of Referrals  Tenure in Months  Offer  \\\n",
       "0                    2                 9      0   \n",
       "\n",
       "   Avg Monthly Long Distance Charges  Multiple Lines  Internet Type  \\\n",
       "0                              42.39               0              0   \n",
       "\n",
       "   Avg Monthly GB Download  Online Security  Online Backup  \\\n",
       "0                       16                0              1   \n",
       "\n",
       "   Device Protection Plan  Premium Tech Support  Streaming TV  \\\n",
       "0                       0                     1             1   \n",
       "\n",
       "   Streaming Movies  Streaming Music  Unlimited Data  Contract  \\\n",
       "0                 0                0               1         1   \n",
       "\n",
       "   Paperless Billing  Payment Method  Monthly Charge  Total Charges  \\\n",
       "0                  1               1            65.6          593.3   \n",
       "\n",
       "   Total Refunds  Total Extra Data Charges  Total Long Distance Charges  \\\n",
       "0            0.0                         0                       381.51   \n",
       "\n",
       "   Total Revenue  Customer Status  \n",
       "0         974.81                1  "
      ]
     },
     "execution_count": 58,
     "metadata": {},
     "output_type": "execute_result"
    }
   ],
   "source": [
    "df.head(1)"
   ]
  },
  {
   "cell_type": "code",
   "execution_count": 86,
   "metadata": {},
   "outputs": [
    {
     "data": {
      "text/html": [
       "<style>#sk-container-id-17 {color: black;}#sk-container-id-17 pre{padding: 0;}#sk-container-id-17 div.sk-toggleable {background-color: white;}#sk-container-id-17 label.sk-toggleable__label {cursor: pointer;display: block;width: 100%;margin-bottom: 0;padding: 0.3em;box-sizing: border-box;text-align: center;}#sk-container-id-17 label.sk-toggleable__label-arrow:before {content: \"▸\";float: left;margin-right: 0.25em;color: #696969;}#sk-container-id-17 label.sk-toggleable__label-arrow:hover:before {color: black;}#sk-container-id-17 div.sk-estimator:hover label.sk-toggleable__label-arrow:before {color: black;}#sk-container-id-17 div.sk-toggleable__content {max-height: 0;max-width: 0;overflow: hidden;text-align: left;background-color: #f0f8ff;}#sk-container-id-17 div.sk-toggleable__content pre {margin: 0.2em;color: black;border-radius: 0.25em;background-color: #f0f8ff;}#sk-container-id-17 input.sk-toggleable__control:checked~div.sk-toggleable__content {max-height: 200px;max-width: 100%;overflow: auto;}#sk-container-id-17 input.sk-toggleable__control:checked~label.sk-toggleable__label-arrow:before {content: \"▾\";}#sk-container-id-17 div.sk-estimator input.sk-toggleable__control:checked~label.sk-toggleable__label {background-color: #d4ebff;}#sk-container-id-17 div.sk-label input.sk-toggleable__control:checked~label.sk-toggleable__label {background-color: #d4ebff;}#sk-container-id-17 input.sk-hidden--visually {border: 0;clip: rect(1px 1px 1px 1px);clip: rect(1px, 1px, 1px, 1px);height: 1px;margin: -1px;overflow: hidden;padding: 0;position: absolute;width: 1px;}#sk-container-id-17 div.sk-estimator {font-family: monospace;background-color: #f0f8ff;border: 1px dotted black;border-radius: 0.25em;box-sizing: border-box;margin-bottom: 0.5em;}#sk-container-id-17 div.sk-estimator:hover {background-color: #d4ebff;}#sk-container-id-17 div.sk-parallel-item::after {content: \"\";width: 100%;border-bottom: 1px solid gray;flex-grow: 1;}#sk-container-id-17 div.sk-label:hover label.sk-toggleable__label {background-color: #d4ebff;}#sk-container-id-17 div.sk-serial::before {content: \"\";position: absolute;border-left: 1px solid gray;box-sizing: border-box;top: 0;bottom: 0;left: 50%;z-index: 0;}#sk-container-id-17 div.sk-serial {display: flex;flex-direction: column;align-items: center;background-color: white;padding-right: 0.2em;padding-left: 0.2em;position: relative;}#sk-container-id-17 div.sk-item {position: relative;z-index: 1;}#sk-container-id-17 div.sk-parallel {display: flex;align-items: stretch;justify-content: center;background-color: white;position: relative;}#sk-container-id-17 div.sk-item::before, #sk-container-id-17 div.sk-parallel-item::before {content: \"\";position: absolute;border-left: 1px solid gray;box-sizing: border-box;top: 0;bottom: 0;left: 50%;z-index: -1;}#sk-container-id-17 div.sk-parallel-item {display: flex;flex-direction: column;z-index: 1;position: relative;background-color: white;}#sk-container-id-17 div.sk-parallel-item:first-child::after {align-self: flex-end;width: 50%;}#sk-container-id-17 div.sk-parallel-item:last-child::after {align-self: flex-start;width: 50%;}#sk-container-id-17 div.sk-parallel-item:only-child::after {width: 0;}#sk-container-id-17 div.sk-dashed-wrapped {border: 1px dashed gray;margin: 0 0.4em 0.5em 0.4em;box-sizing: border-box;padding-bottom: 0.4em;background-color: white;}#sk-container-id-17 div.sk-label label {font-family: monospace;font-weight: bold;display: inline-block;line-height: 1.2em;}#sk-container-id-17 div.sk-label-container {text-align: center;}#sk-container-id-17 div.sk-container {/* jupyter's `normalize.less` sets `[hidden] { display: none; }` but bootstrap.min.css set `[hidden] { display: none !important; }` so we also need the `!important` here to be able to override the default hidden behavior on the sphinx rendered scikit-learn.org. See: https://github.com/scikit-learn/scikit-learn/issues/21755 */display: inline-block !important;position: relative;}#sk-container-id-17 div.sk-text-repr-fallback {display: none;}</style><div id=\"sk-container-id-17\" class=\"sk-top-container\"><div class=\"sk-text-repr-fallback\"><pre>GaussianNB()</pre><b>In a Jupyter environment, please rerun this cell to show the HTML representation or trust the notebook. <br />On GitHub, the HTML representation is unable to render, please try loading this page with nbviewer.org.</b></div><div class=\"sk-container\" hidden><div class=\"sk-item\"><div class=\"sk-estimator sk-toggleable\"><input class=\"sk-toggleable__control sk-hidden--visually\" id=\"sk-estimator-id-27\" type=\"checkbox\" checked><label for=\"sk-estimator-id-27\" class=\"sk-toggleable__label sk-toggleable__label-arrow\">GaussianNB</label><div class=\"sk-toggleable__content\"><pre>GaussianNB()</pre></div></div></div></div></div>"
      ],
      "text/plain": [
       "GaussianNB()"
      ]
     },
     "execution_count": 86,
     "metadata": {},
     "output_type": "execute_result"
    }
   ],
   "source": [
    "x = df.drop('Customer Status', axis=1)\n",
    "y = df['Customer Status']\n",
    "\n",
    "x_train, x_test, y_train, y_test = train_test_split(x, y , test_size=0.2, random_state=42) \n",
    "\n",
    "from sklearn.naive_bayes import GaussianNB\n",
    "\n",
    "NB = GaussianNB()\n",
    "\n",
    "NB.fit(x_train, y_train)"
   ]
  },
  {
   "cell_type": "code",
   "execution_count": 87,
   "metadata": {},
   "outputs": [
    {
     "data": {
      "text/plain": [
       "{'priors': None, 'var_smoothing': 1e-09}"
      ]
     },
     "execution_count": 87,
     "metadata": {},
     "output_type": "execute_result"
    }
   ],
   "source": [
    "NB.get_params()"
   ]
  },
  {
   "cell_type": "markdown",
   "metadata": {},
   "source": [
    "- Priors: Allows you to specify prior probabilities for the classes, overriding the class prior probabilities learned from the data. For example, if you have a binary classification problem with classes \"0\" and \"1\" and you know that \"0\" occurs twice as frequently as \"1\" in your dataset, you can set priors=[0.67, 0.33] to reflect this prior knowledge.\n",
    "- Var_smoothing: A small positive value added to the variances of all features in Gaussian Naive Bayes to prevent numerical instability and stabilize computation, particularly when dealing with features with zero variance."
   ]
  },
  {
   "cell_type": "code",
   "execution_count": 100,
   "metadata": {},
   "outputs": [],
   "source": [
    "# param_grid = {'priors' : [0.33,0.67]}\n",
    "param_grid = {'priors': [None], 'var_smoothing': [0.000000001]}"
   ]
  },
  {
   "cell_type": "code",
   "execution_count": 101,
   "metadata": {},
   "outputs": [
    {
     "data": {
      "text/html": [
       "<style>#sk-container-id-22 {color: black;}#sk-container-id-22 pre{padding: 0;}#sk-container-id-22 div.sk-toggleable {background-color: white;}#sk-container-id-22 label.sk-toggleable__label {cursor: pointer;display: block;width: 100%;margin-bottom: 0;padding: 0.3em;box-sizing: border-box;text-align: center;}#sk-container-id-22 label.sk-toggleable__label-arrow:before {content: \"▸\";float: left;margin-right: 0.25em;color: #696969;}#sk-container-id-22 label.sk-toggleable__label-arrow:hover:before {color: black;}#sk-container-id-22 div.sk-estimator:hover label.sk-toggleable__label-arrow:before {color: black;}#sk-container-id-22 div.sk-toggleable__content {max-height: 0;max-width: 0;overflow: hidden;text-align: left;background-color: #f0f8ff;}#sk-container-id-22 div.sk-toggleable__content pre {margin: 0.2em;color: black;border-radius: 0.25em;background-color: #f0f8ff;}#sk-container-id-22 input.sk-toggleable__control:checked~div.sk-toggleable__content {max-height: 200px;max-width: 100%;overflow: auto;}#sk-container-id-22 input.sk-toggleable__control:checked~label.sk-toggleable__label-arrow:before {content: \"▾\";}#sk-container-id-22 div.sk-estimator input.sk-toggleable__control:checked~label.sk-toggleable__label {background-color: #d4ebff;}#sk-container-id-22 div.sk-label input.sk-toggleable__control:checked~label.sk-toggleable__label {background-color: #d4ebff;}#sk-container-id-22 input.sk-hidden--visually {border: 0;clip: rect(1px 1px 1px 1px);clip: rect(1px, 1px, 1px, 1px);height: 1px;margin: -1px;overflow: hidden;padding: 0;position: absolute;width: 1px;}#sk-container-id-22 div.sk-estimator {font-family: monospace;background-color: #f0f8ff;border: 1px dotted black;border-radius: 0.25em;box-sizing: border-box;margin-bottom: 0.5em;}#sk-container-id-22 div.sk-estimator:hover {background-color: #d4ebff;}#sk-container-id-22 div.sk-parallel-item::after {content: \"\";width: 100%;border-bottom: 1px solid gray;flex-grow: 1;}#sk-container-id-22 div.sk-label:hover label.sk-toggleable__label {background-color: #d4ebff;}#sk-container-id-22 div.sk-serial::before {content: \"\";position: absolute;border-left: 1px solid gray;box-sizing: border-box;top: 0;bottom: 0;left: 50%;z-index: 0;}#sk-container-id-22 div.sk-serial {display: flex;flex-direction: column;align-items: center;background-color: white;padding-right: 0.2em;padding-left: 0.2em;position: relative;}#sk-container-id-22 div.sk-item {position: relative;z-index: 1;}#sk-container-id-22 div.sk-parallel {display: flex;align-items: stretch;justify-content: center;background-color: white;position: relative;}#sk-container-id-22 div.sk-item::before, #sk-container-id-22 div.sk-parallel-item::before {content: \"\";position: absolute;border-left: 1px solid gray;box-sizing: border-box;top: 0;bottom: 0;left: 50%;z-index: -1;}#sk-container-id-22 div.sk-parallel-item {display: flex;flex-direction: column;z-index: 1;position: relative;background-color: white;}#sk-container-id-22 div.sk-parallel-item:first-child::after {align-self: flex-end;width: 50%;}#sk-container-id-22 div.sk-parallel-item:last-child::after {align-self: flex-start;width: 50%;}#sk-container-id-22 div.sk-parallel-item:only-child::after {width: 0;}#sk-container-id-22 div.sk-dashed-wrapped {border: 1px dashed gray;margin: 0 0.4em 0.5em 0.4em;box-sizing: border-box;padding-bottom: 0.4em;background-color: white;}#sk-container-id-22 div.sk-label label {font-family: monospace;font-weight: bold;display: inline-block;line-height: 1.2em;}#sk-container-id-22 div.sk-label-container {text-align: center;}#sk-container-id-22 div.sk-container {/* jupyter's `normalize.less` sets `[hidden] { display: none; }` but bootstrap.min.css set `[hidden] { display: none !important; }` so we also need the `!important` here to be able to override the default hidden behavior on the sphinx rendered scikit-learn.org. See: https://github.com/scikit-learn/scikit-learn/issues/21755 */display: inline-block !important;position: relative;}#sk-container-id-22 div.sk-text-repr-fallback {display: none;}</style><div id=\"sk-container-id-22\" class=\"sk-top-container\"><div class=\"sk-text-repr-fallback\"><pre>GridSearchCV(cv=5, estimator=GaussianNB(),\n",
       "             param_grid={&#x27;priors&#x27;: [None], &#x27;var_smoothing&#x27;: [1e-09]},\n",
       "             refit=&#x27;accuracy&#x27;,\n",
       "             scoring={&#x27;accuracy&#x27;: make_scorer(accuracy_score),\n",
       "                      &#x27;f1_score&#x27;: make_scorer(f1_score),\n",
       "                      &#x27;precision&#x27;: make_scorer(precision_score),\n",
       "                      &#x27;recall&#x27;: make_scorer(recall_score)},\n",
       "             verbose=True)</pre><b>In a Jupyter environment, please rerun this cell to show the HTML representation or trust the notebook. <br />On GitHub, the HTML representation is unable to render, please try loading this page with nbviewer.org.</b></div><div class=\"sk-container\" hidden><div class=\"sk-item sk-dashed-wrapped\"><div class=\"sk-label-container\"><div class=\"sk-label sk-toggleable\"><input class=\"sk-toggleable__control sk-hidden--visually\" id=\"sk-estimator-id-40\" type=\"checkbox\" ><label for=\"sk-estimator-id-40\" class=\"sk-toggleable__label sk-toggleable__label-arrow\">GridSearchCV</label><div class=\"sk-toggleable__content\"><pre>GridSearchCV(cv=5, estimator=GaussianNB(),\n",
       "             param_grid={&#x27;priors&#x27;: [None], &#x27;var_smoothing&#x27;: [1e-09]},\n",
       "             refit=&#x27;accuracy&#x27;,\n",
       "             scoring={&#x27;accuracy&#x27;: make_scorer(accuracy_score),\n",
       "                      &#x27;f1_score&#x27;: make_scorer(f1_score),\n",
       "                      &#x27;precision&#x27;: make_scorer(precision_score),\n",
       "                      &#x27;recall&#x27;: make_scorer(recall_score)},\n",
       "             verbose=True)</pre></div></div></div><div class=\"sk-parallel\"><div class=\"sk-parallel-item\"><div class=\"sk-item\"><div class=\"sk-label-container\"><div class=\"sk-label sk-toggleable\"><input class=\"sk-toggleable__control sk-hidden--visually\" id=\"sk-estimator-id-41\" type=\"checkbox\" ><label for=\"sk-estimator-id-41\" class=\"sk-toggleable__label sk-toggleable__label-arrow\">estimator: GaussianNB</label><div class=\"sk-toggleable__content\"><pre>GaussianNB()</pre></div></div></div><div class=\"sk-serial\"><div class=\"sk-item\"><div class=\"sk-estimator sk-toggleable\"><input class=\"sk-toggleable__control sk-hidden--visually\" id=\"sk-estimator-id-42\" type=\"checkbox\" ><label for=\"sk-estimator-id-42\" class=\"sk-toggleable__label sk-toggleable__label-arrow\">GaussianNB</label><div class=\"sk-toggleable__content\"><pre>GaussianNB()</pre></div></div></div></div></div></div></div></div></div></div>"
      ],
      "text/plain": [
       "GridSearchCV(cv=5, estimator=GaussianNB(),\n",
       "             param_grid={'priors': [None], 'var_smoothing': [1e-09]},\n",
       "             refit='accuracy',\n",
       "             scoring={'accuracy': make_scorer(accuracy_score),\n",
       "                      'f1_score': make_scorer(f1_score),\n",
       "                      'precision': make_scorer(precision_score),\n",
       "                      'recall': make_scorer(recall_score)},\n",
       "             verbose=True)"
      ]
     },
     "execution_count": 101,
     "metadata": {},
     "output_type": "execute_result"
    }
   ],
   "source": [
    "from sklearn.metrics import make_scorer, precision_score, recall_score, f1_score, accuracy_score\n",
    "\n",
    "scorings = {\n",
    "    'precision': make_scorer(precision_score),\n",
    "    'recall': make_scorer(recall_score),\n",
    "    'f1_score': make_scorer(f1_score),\n",
    "    'accuracy': make_scorer(accuracy_score)\n",
    "}\n",
    "\n",
    "refit_metric = 'accuracy'\n",
    "\n",
    "grid_search = GridSearchCV(NB, param_grid, scoring=scorings,refit=refit_metric , cv = 5, verbose=True)\n",
    "grid_search"
   ]
  },
  {
   "cell_type": "code",
   "execution_count": 102,
   "metadata": {},
   "outputs": [
    {
     "name": "stdout",
     "output_type": "stream",
     "text": [
      "Fitting 5 folds for each of 1 candidates, totalling 5 fits\n"
     ]
    },
    {
     "data": {
      "text/html": [
       "<style>#sk-container-id-23 {color: black;}#sk-container-id-23 pre{padding: 0;}#sk-container-id-23 div.sk-toggleable {background-color: white;}#sk-container-id-23 label.sk-toggleable__label {cursor: pointer;display: block;width: 100%;margin-bottom: 0;padding: 0.3em;box-sizing: border-box;text-align: center;}#sk-container-id-23 label.sk-toggleable__label-arrow:before {content: \"▸\";float: left;margin-right: 0.25em;color: #696969;}#sk-container-id-23 label.sk-toggleable__label-arrow:hover:before {color: black;}#sk-container-id-23 div.sk-estimator:hover label.sk-toggleable__label-arrow:before {color: black;}#sk-container-id-23 div.sk-toggleable__content {max-height: 0;max-width: 0;overflow: hidden;text-align: left;background-color: #f0f8ff;}#sk-container-id-23 div.sk-toggleable__content pre {margin: 0.2em;color: black;border-radius: 0.25em;background-color: #f0f8ff;}#sk-container-id-23 input.sk-toggleable__control:checked~div.sk-toggleable__content {max-height: 200px;max-width: 100%;overflow: auto;}#sk-container-id-23 input.sk-toggleable__control:checked~label.sk-toggleable__label-arrow:before {content: \"▾\";}#sk-container-id-23 div.sk-estimator input.sk-toggleable__control:checked~label.sk-toggleable__label {background-color: #d4ebff;}#sk-container-id-23 div.sk-label input.sk-toggleable__control:checked~label.sk-toggleable__label {background-color: #d4ebff;}#sk-container-id-23 input.sk-hidden--visually {border: 0;clip: rect(1px 1px 1px 1px);clip: rect(1px, 1px, 1px, 1px);height: 1px;margin: -1px;overflow: hidden;padding: 0;position: absolute;width: 1px;}#sk-container-id-23 div.sk-estimator {font-family: monospace;background-color: #f0f8ff;border: 1px dotted black;border-radius: 0.25em;box-sizing: border-box;margin-bottom: 0.5em;}#sk-container-id-23 div.sk-estimator:hover {background-color: #d4ebff;}#sk-container-id-23 div.sk-parallel-item::after {content: \"\";width: 100%;border-bottom: 1px solid gray;flex-grow: 1;}#sk-container-id-23 div.sk-label:hover label.sk-toggleable__label {background-color: #d4ebff;}#sk-container-id-23 div.sk-serial::before {content: \"\";position: absolute;border-left: 1px solid gray;box-sizing: border-box;top: 0;bottom: 0;left: 50%;z-index: 0;}#sk-container-id-23 div.sk-serial {display: flex;flex-direction: column;align-items: center;background-color: white;padding-right: 0.2em;padding-left: 0.2em;position: relative;}#sk-container-id-23 div.sk-item {position: relative;z-index: 1;}#sk-container-id-23 div.sk-parallel {display: flex;align-items: stretch;justify-content: center;background-color: white;position: relative;}#sk-container-id-23 div.sk-item::before, #sk-container-id-23 div.sk-parallel-item::before {content: \"\";position: absolute;border-left: 1px solid gray;box-sizing: border-box;top: 0;bottom: 0;left: 50%;z-index: -1;}#sk-container-id-23 div.sk-parallel-item {display: flex;flex-direction: column;z-index: 1;position: relative;background-color: white;}#sk-container-id-23 div.sk-parallel-item:first-child::after {align-self: flex-end;width: 50%;}#sk-container-id-23 div.sk-parallel-item:last-child::after {align-self: flex-start;width: 50%;}#sk-container-id-23 div.sk-parallel-item:only-child::after {width: 0;}#sk-container-id-23 div.sk-dashed-wrapped {border: 1px dashed gray;margin: 0 0.4em 0.5em 0.4em;box-sizing: border-box;padding-bottom: 0.4em;background-color: white;}#sk-container-id-23 div.sk-label label {font-family: monospace;font-weight: bold;display: inline-block;line-height: 1.2em;}#sk-container-id-23 div.sk-label-container {text-align: center;}#sk-container-id-23 div.sk-container {/* jupyter's `normalize.less` sets `[hidden] { display: none; }` but bootstrap.min.css set `[hidden] { display: none !important; }` so we also need the `!important` here to be able to override the default hidden behavior on the sphinx rendered scikit-learn.org. See: https://github.com/scikit-learn/scikit-learn/issues/21755 */display: inline-block !important;position: relative;}#sk-container-id-23 div.sk-text-repr-fallback {display: none;}</style><div id=\"sk-container-id-23\" class=\"sk-top-container\"><div class=\"sk-text-repr-fallback\"><pre>GridSearchCV(cv=5, estimator=GaussianNB(),\n",
       "             param_grid={&#x27;priors&#x27;: [None], &#x27;var_smoothing&#x27;: [1e-09]},\n",
       "             refit=&#x27;accuracy&#x27;,\n",
       "             scoring={&#x27;accuracy&#x27;: make_scorer(accuracy_score),\n",
       "                      &#x27;f1_score&#x27;: make_scorer(f1_score),\n",
       "                      &#x27;precision&#x27;: make_scorer(precision_score),\n",
       "                      &#x27;recall&#x27;: make_scorer(recall_score)},\n",
       "             verbose=True)</pre><b>In a Jupyter environment, please rerun this cell to show the HTML representation or trust the notebook. <br />On GitHub, the HTML representation is unable to render, please try loading this page with nbviewer.org.</b></div><div class=\"sk-container\" hidden><div class=\"sk-item sk-dashed-wrapped\"><div class=\"sk-label-container\"><div class=\"sk-label sk-toggleable\"><input class=\"sk-toggleable__control sk-hidden--visually\" id=\"sk-estimator-id-43\" type=\"checkbox\" ><label for=\"sk-estimator-id-43\" class=\"sk-toggleable__label sk-toggleable__label-arrow\">GridSearchCV</label><div class=\"sk-toggleable__content\"><pre>GridSearchCV(cv=5, estimator=GaussianNB(),\n",
       "             param_grid={&#x27;priors&#x27;: [None], &#x27;var_smoothing&#x27;: [1e-09]},\n",
       "             refit=&#x27;accuracy&#x27;,\n",
       "             scoring={&#x27;accuracy&#x27;: make_scorer(accuracy_score),\n",
       "                      &#x27;f1_score&#x27;: make_scorer(f1_score),\n",
       "                      &#x27;precision&#x27;: make_scorer(precision_score),\n",
       "                      &#x27;recall&#x27;: make_scorer(recall_score)},\n",
       "             verbose=True)</pre></div></div></div><div class=\"sk-parallel\"><div class=\"sk-parallel-item\"><div class=\"sk-item\"><div class=\"sk-label-container\"><div class=\"sk-label sk-toggleable\"><input class=\"sk-toggleable__control sk-hidden--visually\" id=\"sk-estimator-id-44\" type=\"checkbox\" ><label for=\"sk-estimator-id-44\" class=\"sk-toggleable__label sk-toggleable__label-arrow\">estimator: GaussianNB</label><div class=\"sk-toggleable__content\"><pre>GaussianNB()</pre></div></div></div><div class=\"sk-serial\"><div class=\"sk-item\"><div class=\"sk-estimator sk-toggleable\"><input class=\"sk-toggleable__control sk-hidden--visually\" id=\"sk-estimator-id-45\" type=\"checkbox\" ><label for=\"sk-estimator-id-45\" class=\"sk-toggleable__label sk-toggleable__label-arrow\">GaussianNB</label><div class=\"sk-toggleable__content\"><pre>GaussianNB()</pre></div></div></div></div></div></div></div></div></div></div>"
      ],
      "text/plain": [
       "GridSearchCV(cv=5, estimator=GaussianNB(),\n",
       "             param_grid={'priors': [None], 'var_smoothing': [1e-09]},\n",
       "             refit='accuracy',\n",
       "             scoring={'accuracy': make_scorer(accuracy_score),\n",
       "                      'f1_score': make_scorer(f1_score),\n",
       "                      'precision': make_scorer(precision_score),\n",
       "                      'recall': make_scorer(recall_score)},\n",
       "             verbose=True)"
      ]
     },
     "execution_count": 102,
     "metadata": {},
     "output_type": "execute_result"
    }
   ],
   "source": [
    "grid_search.fit(x_train, y_train)"
   ]
  },
  {
   "cell_type": "code",
   "execution_count": 103,
   "metadata": {},
   "outputs": [
    {
     "data": {
      "text/html": [
       "<style>#sk-container-id-24 {color: black;}#sk-container-id-24 pre{padding: 0;}#sk-container-id-24 div.sk-toggleable {background-color: white;}#sk-container-id-24 label.sk-toggleable__label {cursor: pointer;display: block;width: 100%;margin-bottom: 0;padding: 0.3em;box-sizing: border-box;text-align: center;}#sk-container-id-24 label.sk-toggleable__label-arrow:before {content: \"▸\";float: left;margin-right: 0.25em;color: #696969;}#sk-container-id-24 label.sk-toggleable__label-arrow:hover:before {color: black;}#sk-container-id-24 div.sk-estimator:hover label.sk-toggleable__label-arrow:before {color: black;}#sk-container-id-24 div.sk-toggleable__content {max-height: 0;max-width: 0;overflow: hidden;text-align: left;background-color: #f0f8ff;}#sk-container-id-24 div.sk-toggleable__content pre {margin: 0.2em;color: black;border-radius: 0.25em;background-color: #f0f8ff;}#sk-container-id-24 input.sk-toggleable__control:checked~div.sk-toggleable__content {max-height: 200px;max-width: 100%;overflow: auto;}#sk-container-id-24 input.sk-toggleable__control:checked~label.sk-toggleable__label-arrow:before {content: \"▾\";}#sk-container-id-24 div.sk-estimator input.sk-toggleable__control:checked~label.sk-toggleable__label {background-color: #d4ebff;}#sk-container-id-24 div.sk-label input.sk-toggleable__control:checked~label.sk-toggleable__label {background-color: #d4ebff;}#sk-container-id-24 input.sk-hidden--visually {border: 0;clip: rect(1px 1px 1px 1px);clip: rect(1px, 1px, 1px, 1px);height: 1px;margin: -1px;overflow: hidden;padding: 0;position: absolute;width: 1px;}#sk-container-id-24 div.sk-estimator {font-family: monospace;background-color: #f0f8ff;border: 1px dotted black;border-radius: 0.25em;box-sizing: border-box;margin-bottom: 0.5em;}#sk-container-id-24 div.sk-estimator:hover {background-color: #d4ebff;}#sk-container-id-24 div.sk-parallel-item::after {content: \"\";width: 100%;border-bottom: 1px solid gray;flex-grow: 1;}#sk-container-id-24 div.sk-label:hover label.sk-toggleable__label {background-color: #d4ebff;}#sk-container-id-24 div.sk-serial::before {content: \"\";position: absolute;border-left: 1px solid gray;box-sizing: border-box;top: 0;bottom: 0;left: 50%;z-index: 0;}#sk-container-id-24 div.sk-serial {display: flex;flex-direction: column;align-items: center;background-color: white;padding-right: 0.2em;padding-left: 0.2em;position: relative;}#sk-container-id-24 div.sk-item {position: relative;z-index: 1;}#sk-container-id-24 div.sk-parallel {display: flex;align-items: stretch;justify-content: center;background-color: white;position: relative;}#sk-container-id-24 div.sk-item::before, #sk-container-id-24 div.sk-parallel-item::before {content: \"\";position: absolute;border-left: 1px solid gray;box-sizing: border-box;top: 0;bottom: 0;left: 50%;z-index: -1;}#sk-container-id-24 div.sk-parallel-item {display: flex;flex-direction: column;z-index: 1;position: relative;background-color: white;}#sk-container-id-24 div.sk-parallel-item:first-child::after {align-self: flex-end;width: 50%;}#sk-container-id-24 div.sk-parallel-item:last-child::after {align-self: flex-start;width: 50%;}#sk-container-id-24 div.sk-parallel-item:only-child::after {width: 0;}#sk-container-id-24 div.sk-dashed-wrapped {border: 1px dashed gray;margin: 0 0.4em 0.5em 0.4em;box-sizing: border-box;padding-bottom: 0.4em;background-color: white;}#sk-container-id-24 div.sk-label label {font-family: monospace;font-weight: bold;display: inline-block;line-height: 1.2em;}#sk-container-id-24 div.sk-label-container {text-align: center;}#sk-container-id-24 div.sk-container {/* jupyter's `normalize.less` sets `[hidden] { display: none; }` but bootstrap.min.css set `[hidden] { display: none !important; }` so we also need the `!important` here to be able to override the default hidden behavior on the sphinx rendered scikit-learn.org. See: https://github.com/scikit-learn/scikit-learn/issues/21755 */display: inline-block !important;position: relative;}#sk-container-id-24 div.sk-text-repr-fallback {display: none;}</style><div id=\"sk-container-id-24\" class=\"sk-top-container\"><div class=\"sk-text-repr-fallback\"><pre>GaussianNB()</pre><b>In a Jupyter environment, please rerun this cell to show the HTML representation or trust the notebook. <br />On GitHub, the HTML representation is unable to render, please try loading this page with nbviewer.org.</b></div><div class=\"sk-container\" hidden><div class=\"sk-item\"><div class=\"sk-estimator sk-toggleable\"><input class=\"sk-toggleable__control sk-hidden--visually\" id=\"sk-estimator-id-46\" type=\"checkbox\" checked><label for=\"sk-estimator-id-46\" class=\"sk-toggleable__label sk-toggleable__label-arrow\">GaussianNB</label><div class=\"sk-toggleable__content\"><pre>GaussianNB()</pre></div></div></div></div></div>"
      ],
      "text/plain": [
       "GaussianNB()"
      ]
     },
     "execution_count": 103,
     "metadata": {},
     "output_type": "execute_result"
    }
   ],
   "source": [
    "grid_search.best_estimator_"
   ]
  },
  {
   "cell_type": "code",
   "execution_count": 104,
   "metadata": {},
   "outputs": [
    {
     "data": {
      "text/plain": [
       "0.7425096356020873"
      ]
     },
     "execution_count": 104,
     "metadata": {},
     "output_type": "execute_result"
    }
   ],
   "source": [
    "grid_search.best_score_"
   ]
  },
  {
   "cell_type": "code",
   "execution_count": 105,
   "metadata": {},
   "outputs": [
    {
     "data": {
      "text/plain": [
       "{'priors': None, 'var_smoothing': 1e-09}"
      ]
     },
     "execution_count": 105,
     "metadata": {},
     "output_type": "execute_result"
    }
   ],
   "source": [
    "grid_search.best_params_  # {'priors': [None], 'var_smoothing': [0.000000001]}"
   ]
  },
  {
   "cell_type": "code",
   "execution_count": 106,
   "metadata": {},
   "outputs": [
    {
     "data": {
      "text/plain": [
       "array([0.74289406, 0.71576227, 0.74160207, 0.76843467, 0.74385511])"
      ]
     },
     "execution_count": 106,
     "metadata": {},
     "output_type": "execute_result"
    }
   ],
   "source": [
    "accuracy_list = cross_val_score(grid_search.best_estimator_,\n",
    "                                x_train,\n",
    "                                y_train,\n",
    "                                cv = 5,\n",
    "                                scoring='accuracy')\n",
    "accuracy_list"
   ]
  },
  {
   "cell_type": "code",
   "execution_count": 107,
   "metadata": {},
   "outputs": [
    {
     "data": {
      "text/plain": [
       "0.7425096356020873"
      ]
     },
     "execution_count": 107,
     "metadata": {},
     "output_type": "execute_result"
    }
   ],
   "source": [
    "accuracy_list.mean()"
   ]
  },
  {
   "cell_type": "markdown",
   "metadata": {},
   "source": [
    "### Naive Bayes on best hyperparametre"
   ]
  },
  {
   "cell_type": "code",
   "execution_count": 108,
   "metadata": {},
   "outputs": [
    {
     "data": {
      "text/html": [
       "<style>#sk-container-id-25 {color: black;}#sk-container-id-25 pre{padding: 0;}#sk-container-id-25 div.sk-toggleable {background-color: white;}#sk-container-id-25 label.sk-toggleable__label {cursor: pointer;display: block;width: 100%;margin-bottom: 0;padding: 0.3em;box-sizing: border-box;text-align: center;}#sk-container-id-25 label.sk-toggleable__label-arrow:before {content: \"▸\";float: left;margin-right: 0.25em;color: #696969;}#sk-container-id-25 label.sk-toggleable__label-arrow:hover:before {color: black;}#sk-container-id-25 div.sk-estimator:hover label.sk-toggleable__label-arrow:before {color: black;}#sk-container-id-25 div.sk-toggleable__content {max-height: 0;max-width: 0;overflow: hidden;text-align: left;background-color: #f0f8ff;}#sk-container-id-25 div.sk-toggleable__content pre {margin: 0.2em;color: black;border-radius: 0.25em;background-color: #f0f8ff;}#sk-container-id-25 input.sk-toggleable__control:checked~div.sk-toggleable__content {max-height: 200px;max-width: 100%;overflow: auto;}#sk-container-id-25 input.sk-toggleable__control:checked~label.sk-toggleable__label-arrow:before {content: \"▾\";}#sk-container-id-25 div.sk-estimator input.sk-toggleable__control:checked~label.sk-toggleable__label {background-color: #d4ebff;}#sk-container-id-25 div.sk-label input.sk-toggleable__control:checked~label.sk-toggleable__label {background-color: #d4ebff;}#sk-container-id-25 input.sk-hidden--visually {border: 0;clip: rect(1px 1px 1px 1px);clip: rect(1px, 1px, 1px, 1px);height: 1px;margin: -1px;overflow: hidden;padding: 0;position: absolute;width: 1px;}#sk-container-id-25 div.sk-estimator {font-family: monospace;background-color: #f0f8ff;border: 1px dotted black;border-radius: 0.25em;box-sizing: border-box;margin-bottom: 0.5em;}#sk-container-id-25 div.sk-estimator:hover {background-color: #d4ebff;}#sk-container-id-25 div.sk-parallel-item::after {content: \"\";width: 100%;border-bottom: 1px solid gray;flex-grow: 1;}#sk-container-id-25 div.sk-label:hover label.sk-toggleable__label {background-color: #d4ebff;}#sk-container-id-25 div.sk-serial::before {content: \"\";position: absolute;border-left: 1px solid gray;box-sizing: border-box;top: 0;bottom: 0;left: 50%;z-index: 0;}#sk-container-id-25 div.sk-serial {display: flex;flex-direction: column;align-items: center;background-color: white;padding-right: 0.2em;padding-left: 0.2em;position: relative;}#sk-container-id-25 div.sk-item {position: relative;z-index: 1;}#sk-container-id-25 div.sk-parallel {display: flex;align-items: stretch;justify-content: center;background-color: white;position: relative;}#sk-container-id-25 div.sk-item::before, #sk-container-id-25 div.sk-parallel-item::before {content: \"\";position: absolute;border-left: 1px solid gray;box-sizing: border-box;top: 0;bottom: 0;left: 50%;z-index: -1;}#sk-container-id-25 div.sk-parallel-item {display: flex;flex-direction: column;z-index: 1;position: relative;background-color: white;}#sk-container-id-25 div.sk-parallel-item:first-child::after {align-self: flex-end;width: 50%;}#sk-container-id-25 div.sk-parallel-item:last-child::after {align-self: flex-start;width: 50%;}#sk-container-id-25 div.sk-parallel-item:only-child::after {width: 0;}#sk-container-id-25 div.sk-dashed-wrapped {border: 1px dashed gray;margin: 0 0.4em 0.5em 0.4em;box-sizing: border-box;padding-bottom: 0.4em;background-color: white;}#sk-container-id-25 div.sk-label label {font-family: monospace;font-weight: bold;display: inline-block;line-height: 1.2em;}#sk-container-id-25 div.sk-label-container {text-align: center;}#sk-container-id-25 div.sk-container {/* jupyter's `normalize.less` sets `[hidden] { display: none; }` but bootstrap.min.css set `[hidden] { display: none !important; }` so we also need the `!important` here to be able to override the default hidden behavior on the sphinx rendered scikit-learn.org. See: https://github.com/scikit-learn/scikit-learn/issues/21755 */display: inline-block !important;position: relative;}#sk-container-id-25 div.sk-text-repr-fallback {display: none;}</style><div id=\"sk-container-id-25\" class=\"sk-top-container\"><div class=\"sk-text-repr-fallback\"><pre>GaussianNB()</pre><b>In a Jupyter environment, please rerun this cell to show the HTML representation or trust the notebook. <br />On GitHub, the HTML representation is unable to render, please try loading this page with nbviewer.org.</b></div><div class=\"sk-container\" hidden><div class=\"sk-item\"><div class=\"sk-estimator sk-toggleable\"><input class=\"sk-toggleable__control sk-hidden--visually\" id=\"sk-estimator-id-47\" type=\"checkbox\" checked><label for=\"sk-estimator-id-47\" class=\"sk-toggleable__label sk-toggleable__label-arrow\">GaussianNB</label><div class=\"sk-toggleable__content\"><pre>GaussianNB()</pre></div></div></div></div></div>"
      ],
      "text/plain": [
       "GaussianNB()"
      ]
     },
     "execution_count": 108,
     "metadata": {},
     "output_type": "execute_result"
    }
   ],
   "source": [
    "x = df.drop('Customer Status', axis=1)\n",
    "y = df['Customer Status']\n",
    "\n",
    "x_train, x_test, y_train, y_test = train_test_split(x, y , test_size=0.2, random_state=42)\n",
    "\n",
    "from sklearn.naive_bayes import GaussianNB\n",
    "\n",
    "NB = GaussianNB( priors=None, var_smoothing=0.000000001)\n",
    "\n",
    "NB.fit(x_train,y_train)"
   ]
  },
  {
   "cell_type": "code",
   "execution_count": 109,
   "metadata": {},
   "outputs": [
    {
     "name": "stdout",
     "output_type": "stream",
     "text": [
      "accuracy is 74.04343329886245\n",
      "prescision is 0.8745173745173745\n",
      "recall is 0.7089201877934272\n",
      "f1 score is 0.7830596369922211\n"
     ]
    }
   ],
   "source": [
    "\n",
    "y_pred = NB.predict(x_test)\n",
    "\n",
    "acc_dt= accuracy_score(y_test,y_pred)*100\n",
    "pre_dt= precision_score(y_test,y_pred)\n",
    "rec_dt= recall_score(y_test,y_pred)\n",
    "f1_dt= f1_score(y_test,y_pred)\n",
    "\n",
    "print(\"accuracy is\",acc_dt)\n",
    "print(\"prescision is\",pre_dt)\n",
    "print(\"recall is\",rec_dt)\n",
    "print(\"f1 score is\",f1_dt)"
   ]
  },
  {
   "cell_type": "code",
   "execution_count": 110,
   "metadata": {},
   "outputs": [
    {
     "data": {
      "image/png": "[encoded data removed]",
      "text/plain": [
       "<Figure size 640x480 with 2 Axes>"
      ]
     },
     "metadata": {},
     "output_type": "display_data"
    },
    {
     "name": "stdout",
     "output_type": "stream",
     "text": [
      "True negative: 263\n",
      "False postive: 65\n",
      "False negative: 186\n",
      "True postive: 453\n",
      "y_predict_prob [[9.90685261e-01 9.31473871e-03]\n",
      " [3.21864342e-09 9.99999997e-01]\n",
      " [1.12083097e-05 9.99988792e-01]\n",
      " ...\n",
      " [9.99974436e-01 2.55640945e-05]\n",
      " [6.53046069e-01 3.46953931e-01]\n",
      " [8.19823608e-20 1.00000000e+00]]\n",
      "FPR [0.         0.07926829 0.07926829 0.07926829 0.08231707 0.08536585\n",
      " 0.08536585 0.08841463 0.08841463 0.08841463 0.0945122  0.10060976\n",
      " 0.10060976 0.10365854 0.10365854 0.1097561  0.1097561  0.11280488\n",
      " 0.11280488 0.11890244 0.11890244 0.125      0.125      0.13109756\n",
      " 0.13109756 0.13414634 0.13414634 0.1402439  0.1402439  0.14329268\n",
      " 0.14329268 0.14634146 0.14634146 0.14939024 0.14939024 0.1554878\n",
      " 0.1554878  0.15853659 0.15853659 0.16463415 0.16463415 0.16768293\n",
      " 0.16768293 0.17987805 0.17987805 0.18597561 0.18597561 0.19207317\n",
      " 0.19207317 0.19512195 0.19512195 0.20121951 0.20121951 0.20426829\n",
      " 0.20426829 0.20731707 0.20731707 0.21036585 0.21036585 0.22256098\n",
      " 0.22256098 0.22560976 0.22560976 0.22865854 0.22865854 0.23170732\n",
      " 0.23170732 0.23780488 0.23780488 0.24390244 0.24390244 0.24695122\n",
      " 0.24695122 0.25609756 0.25609756 0.25914634 0.25914634 0.26219512\n",
      " 0.26219512 0.2652439  0.2652439  0.26829268 0.26829268 0.27134146\n",
      " 0.27134146 0.28658537 0.28658537 0.28963415 0.28963415 0.29573171\n",
      " 0.29573171 0.29878049 0.29878049 0.30487805 0.30487805 0.30792683\n",
      " 0.30792683 0.31097561 0.31097561 0.31402439 0.31402439 0.32012195\n",
      " 0.32012195 0.32317073 0.32317073 0.32621951 0.32621951 0.32926829\n",
      " 0.32926829 0.33231707 0.33231707 0.33841463 0.33841463 0.3445122\n",
      " 0.3445122  0.35060976 0.35060976 0.35365854 0.35365854 0.35670732\n",
      " 0.35670732 0.3597561  0.3597561  0.36890244 0.36890244 0.37195122\n",
      " 0.37195122 0.375      0.375      0.38109756 0.38109756 0.38414634\n",
      " 0.38414634 0.38719512 0.38719512 0.3902439  0.3902439  0.39634146\n",
      " 0.39634146 0.39939024 0.39939024 0.4054878  0.4054878  0.40853659\n",
      " 0.40853659 0.41463415 0.41463415 0.42073171 0.42073171 0.42378049\n",
      " 0.42378049 0.42682927 0.42682927 0.42987805 0.42987805 0.43292683\n",
      " 0.43292683 0.43902439 0.43902439 0.44207317 0.44207317 0.45121951\n",
      " 0.45121951 0.45426829 0.45426829 0.46036585 0.46036585 0.47256098\n",
      " 0.47256098 0.48170732 0.48170732 0.48780488 0.48780488 0.49085366\n",
      " 0.49085366 0.49390244 0.49390244 0.50304878 0.50304878 0.50609756\n",
      " 0.50609756 0.52134146 0.52134146 0.52439024 0.52439024 0.52743902\n",
      " 0.52743902 0.5304878  0.5304878  0.53353659 0.53353659 0.54268293\n",
      " 0.54268293 0.54573171 0.54573171 0.55182927 0.55182927 0.56097561\n",
      " 0.56097561 0.56707317 0.56707317 0.57012195 0.57012195 0.57317073\n",
      " 0.57317073 0.57621951 0.57621951 0.57926829 0.57926829 0.58231707\n",
      " 0.58231707 0.58841463 0.58841463 0.59146341 0.59146341 0.5945122\n",
      " 0.5945122  0.59756098 0.59756098 0.60060976 0.60060976 0.60365854\n",
      " 0.60365854 0.6097561  0.6097561  0.62195122 0.62195122 0.62804878\n",
      " 0.62804878 0.63414634 0.63414634 0.63719512 0.63719512 0.6402439\n",
      " 0.6402439  0.64939024 0.64939024 0.65243902 0.65243902 0.65853659\n",
      " 0.65853659 0.66158537 0.66158537 0.66768293 0.66768293 0.67073171\n",
      " 0.67073171 0.67378049 0.67378049 0.67987805 0.67987805 0.68597561\n",
      " 0.68597561 0.68902439 0.68902439 0.69207317 0.69207317 0.69512195\n",
      " 0.69512195 0.71341463 0.71341463 0.71646341 0.71646341 0.7195122\n",
      " 0.7195122  0.72865854 0.72865854 0.7347561  0.7347561  0.74085366\n",
      " 0.74085366 0.74390244 0.74390244 0.75       0.75       0.75609756\n",
      " 0.75609756 0.75914634 0.75914634 0.7652439  0.7652439  0.77439024\n",
      " 0.77439024 0.77743902 0.77743902 0.7804878  0.7804878  0.78353659\n",
      " 0.78353659 0.78658537 0.78658537 0.78963415 0.78963415 0.79268293\n",
      " 0.79268293 0.79573171 0.79573171 0.80182927 0.80182927 0.80487805\n",
      " 0.80487805 0.80792683 0.80792683 0.81707317 0.81707317 0.82012195\n",
      " 0.82012195 0.82317073 0.82317073 0.82926829 0.82926829 0.83231707\n",
      " 0.83231707 0.83536585 0.83536585 0.83841463 0.83841463 0.84146341\n",
      " 0.84146341 0.84756098 0.84756098 0.85670732 0.85670732 0.8597561\n",
      " 0.8597561  0.86585366 0.86585366 0.875      0.875      0.87804878\n",
      " 0.87804878 0.88109756 0.88109756 0.88414634 0.88414634 0.88719512\n",
      " 0.88719512 0.89329268 0.89329268 0.89634146 0.89634146 0.89939024\n",
      " 0.89939024 0.90853659 0.90853659 0.91463415 0.91463415 0.92073171\n",
      " 0.92073171 0.92682927 0.92682927 0.92987805 0.92987805 0.93292683\n",
      " 0.93292683 0.93597561 0.93597561 0.93902439 0.93902439 0.94512195\n",
      " 0.94512195 0.94817073 0.94817073 0.95426829 0.95426829 0.95731707\n",
      " 0.95731707 0.96036585 0.96036585 0.97256098 0.97256098 0.97560976\n",
      " 0.97560976 0.97865854 0.97865854 0.98170732 0.98170732 0.9847561\n",
      " 0.9847561  0.99085366 0.99085366 0.99695122 0.99695122 1.\n",
      " 1.        ]\n",
      "TPR [0.         0.08137715 0.09233177 0.0970266  0.10015649 0.10015649\n",
      " 0.10485133 0.10641628 0.11111111 0.114241   0.114241   0.11580595\n",
      " 0.12519562 0.12519562 0.12989045 0.12989045 0.1314554  0.1314554\n",
      " 0.13458529 0.13458529 0.14084507 0.14084507 0.14241002 0.14241002\n",
      " 0.14710485 0.14710485 0.1486698  0.1486698  0.15179969 0.15179969\n",
      " 0.15492958 0.15492958 0.1627543  0.1627543  0.16431925 0.16431925\n",
      " 0.17214397 0.17214397 0.17527387 0.17527387 0.18153365 0.18153365\n",
      " 0.18466354 0.18466354 0.18935837 0.18935837 0.19248826 0.19248826\n",
      " 0.19874804 0.19874804 0.20031299 0.20031299 0.20344288 0.20344288\n",
      " 0.20970266 0.20970266 0.21126761 0.21126761 0.21596244 0.21596244\n",
      " 0.21909233 0.21909233 0.22065728 0.22065728 0.22222222 0.22222222\n",
      " 0.228482   0.228482   0.23630673 0.23630673 0.24100156 0.24100156\n",
      " 0.2456964  0.2456964  0.25039124 0.25039124 0.25508607 0.25508607\n",
      " 0.27073552 0.27073552 0.27699531 0.27699531 0.27856025 0.27856025\n",
      " 0.28794992 0.28794992 0.28951487 0.28951487 0.2942097  0.2942097\n",
      " 0.29890454 0.29890454 0.30203443 0.30203443 0.30359937 0.30359937\n",
      " 0.30516432 0.30516432 0.30672926 0.30672926 0.30829421 0.30829421\n",
      " 0.31611894 0.31611894 0.31768388 0.31768388 0.31924883 0.31924883\n",
      " 0.32550861 0.32550861 0.33176839 0.33176839 0.34115806 0.34115806\n",
      " 0.34428795 0.34428795 0.3458529  0.3458529  0.34898279 0.34898279\n",
      " 0.35524257 0.35524257 0.36619718 0.36619718 0.37089202 0.37089202\n",
      " 0.3771518  0.3771518  0.37871674 0.37871674 0.38654147 0.38654147\n",
      " 0.38810642 0.38810642 0.38967136 0.38967136 0.39280125 0.39280125\n",
      " 0.3943662  0.3943662  0.4256651  0.4256651  0.43035994 0.43035994\n",
      " 0.43192488 0.43192488 0.43348983 0.43348983 0.44757433 0.44757433\n",
      " 0.44913928 0.44913928 0.45070423 0.45070423 0.45383412 0.45383412\n",
      " 0.4600939  0.4600939  0.46478873 0.46478873 0.46948357 0.46948357\n",
      " 0.47104851 0.47104851 0.4741784  0.4741784  0.47574335 0.47574335\n",
      " 0.4913928  0.4913928  0.49295775 0.49295775 0.49452269 0.49452269\n",
      " 0.50704225 0.50704225 0.51017214 0.51017214 0.51173709 0.51173709\n",
      " 0.51330203 0.51330203 0.52895149 0.52895149 0.53051643 0.53051643\n",
      " 0.53834116 0.53834116 0.5399061  0.5399061  0.54773083 0.54773083\n",
      " 0.54929577 0.54929577 0.55242567 0.55242567 0.55555556 0.55555556\n",
      " 0.56494523 0.56494523 0.56651017 0.56651017 0.57589984 0.57589984\n",
      " 0.5915493  0.5915493  0.59311424 0.59311424 0.59467919 0.59467919\n",
      " 0.59937402 0.59937402 0.60093897 0.60093897 0.60406886 0.60406886\n",
      " 0.60719875 0.60719875 0.60876369 0.60876369 0.61815336 0.61815336\n",
      " 0.62128326 0.62128326 0.62597809 0.62597809 0.63223787 0.63223787\n",
      " 0.63380282 0.63380282 0.64319249 0.64319249 0.64475743 0.64475743\n",
      " 0.6541471  0.6541471  0.65571205 0.65571205 0.65884194 0.65884194\n",
      " 0.66040689 0.66040689 0.66197183 0.66197183 0.66353678 0.66353678\n",
      " 0.66666667 0.66666667 0.66979656 0.66979656 0.6713615  0.6713615\n",
      " 0.67605634 0.67605634 0.68388106 0.68388106 0.68701095 0.68701095\n",
      " 0.69014085 0.69014085 0.69170579 0.69170579 0.69640063 0.69640063\n",
      " 0.69796557 0.69796557 0.7057903  0.7057903  0.71048513 0.71048513\n",
      " 0.71361502 0.71361502 0.71674491 0.71674491 0.71830986 0.71830986\n",
      " 0.72456964 0.72456964 0.72926448 0.72926448 0.73239437 0.73239437\n",
      " 0.73395931 0.73395931 0.74491393 0.74491393 0.74960876 0.74960876\n",
      " 0.75273865 0.75273865 0.76056338 0.76056338 0.76212833 0.76212833\n",
      " 0.76995305 0.76995305 0.77621283 0.77621283 0.7856025  0.7856025\n",
      " 0.78716745 0.78716745 0.79029734 0.79029734 0.8028169  0.8028169\n",
      " 0.80438185 0.80438185 0.80594679 0.80594679 0.80751174 0.80751174\n",
      " 0.80907668 0.80907668 0.8200313  0.8200313  0.82316119 0.82316119\n",
      " 0.83255086 0.83255086 0.83568075 0.83568075 0.84194053 0.84194053\n",
      " 0.84507042 0.84507042 0.84663537 0.84663537 0.86384977 0.86384977\n",
      " 0.87793427 0.87793427 0.87949922 0.87949922 0.88262911 0.88262911\n",
      " 0.88888889 0.88888889 0.89514867 0.89514867 0.89671362 0.89671362\n",
      " 0.89827856 0.89827856 0.89984351 0.89984351 0.90140845 0.90140845\n",
      " 0.9029734  0.9029734  0.90453834 0.90453834 0.9170579  0.9170579\n",
      " 0.91862285 0.91862285 0.92175274 0.92175274 0.92957746 0.92957746\n",
      " 0.93270736 0.93270736 0.9342723  0.9342723  0.93583725 0.93583725\n",
      " 0.93740219 0.93740219 0.93896714 0.93896714 0.94679186 0.94679186\n",
      " 0.9514867  0.9514867  0.95931142 0.95931142 0.96400626 0.96400626\n",
      " 0.96557121 0.96557121 0.96713615 0.96713615 0.9687011  0.9687011\n",
      " 1.        ]\n",
      "thersholds [           inf 1.00000000e+00 1.00000000e+00 1.00000000e+00\n",
      " 1.00000000e+00 1.00000000e+00 1.00000000e+00 1.00000000e+00\n",
      " 1.00000000e+00 1.00000000e+00 1.00000000e+00 1.00000000e+00\n",
      " 1.00000000e+00 1.00000000e+00 1.00000000e+00 1.00000000e+00\n",
      " 1.00000000e+00 1.00000000e+00 1.00000000e+00 1.00000000e+00\n",
      " 1.00000000e+00 1.00000000e+00 1.00000000e+00 1.00000000e+00\n",
      " 1.00000000e+00 1.00000000e+00 1.00000000e+00 1.00000000e+00\n",
      " 1.00000000e+00 1.00000000e+00 1.00000000e+00 1.00000000e+00\n",
      " 1.00000000e+00 1.00000000e+00 1.00000000e+00 1.00000000e+00\n",
      " 1.00000000e+00 1.00000000e+00 1.00000000e+00 1.00000000e+00\n",
      " 9.99999999e-01 9.99999999e-01 9.99999999e-01 9.99999999e-01\n",
      " 9.99999999e-01 9.99999999e-01 9.99999998e-01 9.99999998e-01\n",
      " 9.99999996e-01 9.99999996e-01 9.99999996e-01 9.99999996e-01\n",
      " 9.99999995e-01 9.99999994e-01 9.99999993e-01 9.99999993e-01\n",
      " 9.99999993e-01 9.99999993e-01 9.99999990e-01 9.99999989e-01\n",
      " 9.99999982e-01 9.99999981e-01 9.99999981e-01 9.99999977e-01\n",
      " 9.99999974e-01 9.99999973e-01 9.99999963e-01 9.99999961e-01\n",
      " 9.99999945e-01 9.99999936e-01 9.99999929e-01 9.99999925e-01\n",
      " 9.99999910e-01 9.99999901e-01 9.99999885e-01 9.99999876e-01\n",
      " 9.99999868e-01 9.99999864e-01 9.99999733e-01 9.99999713e-01\n",
      " 9.99999565e-01 9.99999556e-01 9.99999542e-01 9.99999539e-01\n",
      " 9.99999257e-01 9.99998782e-01 9.99998754e-01 9.99998631e-01\n",
      " 9.99998234e-01 9.99997572e-01 9.99997222e-01 9.99997191e-01\n",
      " 9.99996612e-01 9.99996424e-01 9.99996110e-01 9.99996065e-01\n",
      " 9.99995999e-01 9.99995805e-01 9.99995750e-01 9.99995678e-01\n",
      " 9.99995034e-01 9.99994788e-01 9.99992732e-01 9.99992269e-01\n",
      " 9.99991857e-01 9.99991270e-01 9.99990386e-01 9.99988971e-01\n",
      " 9.99985492e-01 9.99984263e-01 9.99983277e-01 9.99981535e-01\n",
      " 9.99970944e-01 9.99966943e-01 9.99966233e-01 9.99964800e-01\n",
      " 9.99962515e-01 9.99954257e-01 9.99948960e-01 9.99948239e-01\n",
      " 9.99937638e-01 9.99936908e-01 9.99877372e-01 9.99854110e-01\n",
      " 9.99808427e-01 9.99773978e-01 9.99753772e-01 9.99712781e-01\n",
      " 9.99709385e-01 9.99688016e-01 9.99630381e-01 9.99613185e-01\n",
      " 9.99598189e-01 9.99583182e-01 9.99534586e-01 9.99524377e-01\n",
      " 9.99503203e-01 9.99487677e-01 9.99453079e-01 9.99444995e-01\n",
      " 9.98442408e-01 9.98413971e-01 9.98161822e-01 9.98133756e-01\n",
      " 9.97954024e-01 9.97834880e-01 9.97552899e-01 9.97330375e-01\n",
      " 9.95821467e-01 9.95573261e-01 9.95515431e-01 9.95125844e-01\n",
      " 9.94760061e-01 9.94588414e-01 9.94497199e-01 9.94454281e-01\n",
      " 9.92523703e-01 9.92370604e-01 9.91891253e-01 9.91885176e-01\n",
      " 9.91487473e-01 9.90242079e-01 9.89428856e-01 9.88411777e-01\n",
      " 9.86324832e-01 9.82745554e-01 9.81293214e-01 9.77410191e-01\n",
      " 9.54392710e-01 9.49102582e-01 9.48653886e-01 9.47120257e-01\n",
      " 9.45752120e-01 9.42526930e-01 9.13671386e-01 9.09450524e-01\n",
      " 9.05908403e-01 8.83788710e-01 8.81427151e-01 8.73580918e-01\n",
      " 8.73464961e-01 8.54790803e-01 7.91943649e-01 7.85678900e-01\n",
      " 7.79888243e-01 7.75009353e-01 7.29836016e-01 7.29368330e-01\n",
      " 7.12462048e-01 7.10408693e-01 6.72778729e-01 6.33683546e-01\n",
      " 6.23030995e-01 6.13409772e-01 5.95762835e-01 5.68413061e-01\n",
      " 5.59455639e-01 5.43253915e-01 4.85000363e-01 4.75554015e-01\n",
      " 4.57037000e-01 4.56938783e-01 4.07111840e-01 3.86978971e-01\n",
      " 2.65850759e-01 2.61309731e-01 2.54212630e-01 2.53908544e-01\n",
      " 2.45010498e-01 2.38272644e-01 2.16991816e-01 1.88096051e-01\n",
      " 1.79389232e-01 1.72120534e-01 1.49423797e-01 1.42238103e-01\n",
      " 1.38396981e-01 1.38297200e-01 1.29285599e-01 1.27898853e-01\n",
      " 1.14104032e-01 1.12101326e-01 1.09125308e-01 1.01112177e-01\n",
      " 9.28632559e-02 6.60980300e-02 6.26424518e-02 5.99539446e-02\n",
      " 5.87582727e-02 5.77971797e-02 3.89841440e-02 3.80276730e-02\n",
      " 3.68765623e-02 3.68619005e-02 3.10921272e-02 2.76057952e-02\n",
      " 2.74887096e-02 2.74522218e-02 2.66353158e-02 2.64258521e-02\n",
      " 2.51489905e-02 2.34274150e-02 2.32583053e-02 2.15381389e-02\n",
      " 2.05085418e-02 2.02440623e-02 1.92775243e-02 1.87334207e-02\n",
      " 1.81384922e-02 1.76770593e-02 1.75373271e-02 1.70047597e-02\n",
      " 1.57395717e-02 1.56020916e-02 1.41487017e-02 1.36799195e-02\n",
      " 1.30939459e-02 1.30920291e-02 1.26124104e-02 1.09660425e-02\n",
      " 1.08970309e-02 1.02387228e-02 9.85151086e-03 9.68304553e-03\n",
      " 9.47792244e-03 8.65190524e-03 7.35012010e-03 6.86506426e-03\n",
      " 6.31964654e-03 6.11217283e-03 5.79666277e-03 5.75039819e-03\n",
      " 5.42784486e-03 5.28190427e-03 4.89031160e-03 4.59560929e-03\n",
      " 4.07280063e-03 3.82180205e-03 3.70372983e-03 3.46729577e-03\n",
      " 3.34924607e-03 3.24680790e-03 3.24046168e-03 3.23764966e-03\n",
      " 2.72053005e-03 2.63912106e-03 2.37946025e-03 2.32349335e-03\n",
      " 2.25350078e-03 2.24510194e-03 2.02719939e-03 1.98912730e-03\n",
      " 1.97235155e-03 1.91955578e-03 1.76136105e-03 1.68791048e-03\n",
      " 1.56708371e-03 1.48013910e-03 1.29032936e-03 1.24898526e-03\n",
      " 1.19936694e-03 1.19925936e-03 1.17077345e-03 1.08813681e-03\n",
      " 1.01829901e-03 1.00599890e-03 9.48472108e-04 9.03054741e-04\n",
      " 8.94503392e-04 8.77220524e-04 8.73791434e-04 8.71542792e-04\n",
      " 8.63962573e-04 8.63313548e-04 7.91066125e-04 7.79276518e-04\n",
      " 7.64029834e-04 7.63955993e-04 6.78219952e-04 6.62885589e-04\n",
      " 6.45436072e-04 6.06511404e-04 5.91424240e-04 5.79247145e-04\n",
      " 5.64121873e-04 5.43031311e-04 5.22389768e-04 5.03128540e-04\n",
      " 3.86394104e-04 3.84370216e-04 3.37299924e-04 3.25856515e-04\n",
      " 3.21794624e-04 3.11806759e-04 3.00120798e-04 2.98664194e-04\n",
      " 2.84099923e-04 2.80941749e-04 2.61223562e-04 2.59230421e-04\n",
      " 2.58861866e-04 2.49905965e-04 2.49585392e-04 2.43332706e-04\n",
      " 2.39109757e-04 1.98473495e-04 1.98403339e-04 1.84675909e-04\n",
      " 1.83490587e-04 1.76764907e-04 1.76623542e-04 1.72373548e-04\n",
      " 1.50913428e-04 1.45274039e-04 1.41865756e-04 1.41413825e-04\n",
      " 1.40222021e-04 1.38720891e-04 1.32078907e-04 1.26801030e-04\n",
      " 1.21553064e-04 1.20067810e-04 1.15216760e-04 1.11125589e-04\n",
      " 9.81833809e-05 9.80099626e-05 9.70208995e-05 9.56509498e-05\n",
      " 9.54008943e-05 8.04337315e-05 7.19181829e-05 7.04010153e-05\n",
      " 6.51145311e-05 6.34712299e-05 5.94250495e-05 5.78733138e-05\n",
      " 5.52202614e-05 5.43301667e-05 5.42898504e-05 5.21721853e-05\n",
      " 5.19205697e-05 4.75681995e-05 4.46044056e-05 4.09608264e-05\n",
      " 1.00936018e-05]\n"
     ]
    },
    {
     "data": {
      "image/png": "[encoded data removed]",
      "text/plain": [
       "<Figure size 640x480 with 1 Axes>"
      ]
     },
     "metadata": {},
     "output_type": "display_data"
    }
   ],
   "source": [
    "cmt=confusion_matrix(y_test,y_pred)\n",
    "dist = ConfusionMatrixDisplay(cmt) #display_labels=[False,True])\n",
    "dist.plot()\n",
    "plt.grid(False)\n",
    "plt.show()\n",
    "\n",
    "tn, fp, fn, tp = confusion_matrix(y_test,y_pred).ravel()\n",
    "print(\"True negative:\",tn)\n",
    "print(\"False postive:\",fp)\n",
    "print(\"False negative:\",fn)\n",
    "print(\"True postive:\",tp)\n",
    "\n",
    "####################################################################################\n",
    "\n",
    "y_predict_prob = NB.predict_proba(X_test)\n",
    "print('y_predict_prob', y_predict_prob)\n",
    "\n",
    "#####################################################################################3\n",
    "\n",
    "fpr, tpr, thershold1 = roc_curve(y_test,y_predict_prob[:,1])\n",
    "print('FPR',fpr)\n",
    "print('TPR',tpr)\n",
    "print('thersholds',thershold1)\n",
    "plt.plot(fpr,tpr)\n",
    "plt.show()"
   ]
  },
  {
   "cell_type": "code",
   "execution_count": null,
   "metadata": {},
   "outputs": [],
   "source": []
  }
 ],
 "metadata": {
  "kernelspec": {
   "display_name": "Python 3 (ipykernel)",
   "language": "python",
   "name": "python3"
  },
  "language_info": {
   "codemirror_mode": {
    "name": "ipython",
    "version": 3
   },
   "file_extension": ".py",
   "mimetype": "text/x-python",
   "name": "python",
   "nbconvert_exporter": "python",
   "pygments_lexer": "ipython3",
   "version": "3.11.5"
  }
 },
 "nbformat": 4,
 "nbformat_minor": 2
}
