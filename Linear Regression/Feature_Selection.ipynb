{
 "cells": [
  {
   "cell_type": "markdown",
   "metadata": {},
   "source": [
    "### Feature Selection\n",
    "- Droping the coinstant fearure  (Regression and Classification)\n",
    "- Information gain (Classification)\n",
    "- p-value (Regression)\n",
    "- VIF (Regressiom)\n",
    "- Forward selection and Backword (Regression and Classification)\n",
    "- Correlation  with target column (Regression and Classsification)\n"
   ]
  },
  {
   "cell_type": "markdown",
   "metadata": {},
   "source": [
    "#### Varience Thershold\n",
    "- based on variance we can decide the data is constant or varying\n",
    "- Data is not varying much means, data has unique values\n",
    "- For example we have seen in loan dataset, Loan term: 360\n",
    "- Python by default will use variance = , it will drop those features which are having variance = 0\n",
    "- variance threshold is hyper parameter, we can keep threshold as any value.\n",
    "- based on internal team discussion\n",
    "- we will drop those feature which are having <= threshold value"
   ]
  },
  {
   "cell_type": "markdown",
   "metadata": {},
   "source": [
    "#### P-value\n",
    "- H0: there is no relation x and y\n",
    "- H1: there is relation x and y\n",
    "- p < 0.05\n",
    "    - Reject the null hypothesis\n",
    "- p > 0.05\n",
    "    - Not reject the null hypothesis : **which means include the variable**"
   ]
  },
  {
   "cell_type": "markdown",
   "metadata": {},
   "source": [
    "#### Mutual Info classify (infornation gain)\n",
    "- KNN and Entropy \n",
    "- it will give the relation between input and  output will pick which are having more relation\n",
    "- input vs output\n",
    "    - Entropy \n",
    "    - KNN\n",
    "    - R-Square : explanability about the y based on x\n",
    "    "
   ]
  },
  {
   "cell_type": "markdown",
   "metadata": {},
   "source": [
    "#### Forword selection and Backword selection\n",
    "**Forward selection method**\n",
    "- Start with empty set of feature\n",
    "- Iterate through each feature and select the one feature that improves model performance \n",
    "- Continue adding features one by one till we meet our creteria\n",
    "\n",
    "**Backword selection method**\n",
    "- Start with full  set of feature \n",
    "- iterate through each feature by removing the feature which is having less impact on the model\n",
    "- continue the process till you performance is stable\n",
    "\n",
    "**both forward selection and backward selection methods are complex in nature**\n",
    "\n",
    "**More time taken, will avoid in generally**"
   ]
  },
  {
   "cell_type": "markdown",
   "metadata": {},
   "source": [
    "**VIF(Variance Inflation Factor)**\n",
    "- VIF will give the analysis of multicollinearity\n",
    "- In VIF will find the r-square value of each input feature wrt to other feature\n",
    "- will keep on feature as input and other feature are consider as output in Regression equation\n",
    "- This will keep on iterate through all features \n",
    "- every feature behave as input as well as output\n",
    "- As we know every Regression line give Rsquare value from that value will find VIF\n",
    "- will drop the feature which are having VIF > 5 or VIF > 10 based on internal team discussion"
   ]
  },
  {
   "cell_type": "code",
   "execution_count": null,
   "metadata": {},
   "outputs": [],
   "source": []
  },
  {
   "cell_type": "code",
   "execution_count": 1,
   "metadata": {},
   "outputs": [
    {
     "name": "stdout",
     "output_type": "stream",
     "text": [
      "hello word\n"
     ]
    }
   ],
   "source": []
  },
  {
   "cell_type": "code",
   "execution_count": null,
   "metadata": {},
   "outputs": [],
   "source": []
  }
 ],
 "metadata": {
  "kernelspec": {
   "display_name": "base",
   "language": "python",
   "name": "python3"
  },
  "language_info": {
   "codemirror_mode": {
    "name": "ipython",
    "version": 3
   },
   "file_extension": ".py",
   "mimetype": "text/x-python",
   "name": "python",
   "nbconvert_exporter": "python",
   "pygments_lexer": "ipython3",
   "version": "3.11.5"
  }
 },
 "nbformat": 4,
 "nbformat_minor": 2
}
