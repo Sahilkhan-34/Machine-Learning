{
 "cells": [
  {
   "cell_type": "markdown",
   "metadata": {},
   "source": [
    "### Import Library"
   ]
  },
  {
   "cell_type": "code",
   "execution_count": 2,
   "metadata": {},
   "outputs": [],
   "source": [
    "import numpy as np\n",
    "import pandas as pd\n",
    "import matplotlib.pyplot as plt\n",
    "import seaborn as sns\n",
    "import warnings \n",
    "warnings.filterwarnings('ignore')"
   ]
  },
  {
   "cell_type": "markdown",
   "metadata": {},
   "source": [
    "### Read Data File & create Data Frame"
   ]
  },
  {
   "cell_type": "code",
   "execution_count": 4,
   "metadata": {},
   "outputs": [],
   "source": [
    "df = pd.read_csv(r\"C:\\Users\\sahil\\OneDrive\\Naresh IT Class\\Data Files\\winequality_red.csv\")"
   ]
  },
  {
   "cell_type": "code",
   "execution_count": 5,
   "metadata": {},
   "outputs": [
    {
     "data": {
      "text/html": [
       "<div>\n",
       "<style scoped>\n",
       "    .dataframe tbody tr th:only-of-type {\n",
       "        vertical-align: middle;\n",
       "    }\n",
       "\n",
       "    .dataframe tbody tr th {\n",
       "        vertical-align: top;\n",
       "    }\n",
       "\n",
       "    .dataframe thead th {\n",
       "        text-align: right;\n",
       "    }\n",
       "</style>\n",
       "<table border=\"1\" class=\"dataframe\">\n",
       "  <thead>\n",
       "    <tr style=\"text-align: right;\">\n",
       "      <th></th>\n",
       "      <th>fixed acidity</th>\n",
       "      <th>volatile acidity</th>\n",
       "      <th>citric acid</th>\n",
       "      <th>residual sugar</th>\n",
       "      <th>chlorides</th>\n",
       "      <th>free sulfur dioxide</th>\n",
       "      <th>total sulfur dioxide</th>\n",
       "      <th>density</th>\n",
       "      <th>pH</th>\n",
       "      <th>sulphates</th>\n",
       "      <th>alcohol</th>\n",
       "      <th>quality</th>\n",
       "    </tr>\n",
       "  </thead>\n",
       "  <tbody>\n",
       "    <tr>\n",
       "      <th>0</th>\n",
       "      <td>7.4</td>\n",
       "      <td>0.70</td>\n",
       "      <td>0.00</td>\n",
       "      <td>1.9</td>\n",
       "      <td>0.076</td>\n",
       "      <td>11.0</td>\n",
       "      <td>34.0</td>\n",
       "      <td>0.9978</td>\n",
       "      <td>3.51</td>\n",
       "      <td>0.56</td>\n",
       "      <td>9.4</td>\n",
       "      <td>5</td>\n",
       "    </tr>\n",
       "    <tr>\n",
       "      <th>1</th>\n",
       "      <td>7.8</td>\n",
       "      <td>0.88</td>\n",
       "      <td>0.00</td>\n",
       "      <td>2.6</td>\n",
       "      <td>0.098</td>\n",
       "      <td>25.0</td>\n",
       "      <td>67.0</td>\n",
       "      <td>0.9968</td>\n",
       "      <td>3.20</td>\n",
       "      <td>0.68</td>\n",
       "      <td>9.8</td>\n",
       "      <td>5</td>\n",
       "    </tr>\n",
       "    <tr>\n",
       "      <th>2</th>\n",
       "      <td>7.8</td>\n",
       "      <td>0.76</td>\n",
       "      <td>0.04</td>\n",
       "      <td>2.3</td>\n",
       "      <td>0.092</td>\n",
       "      <td>15.0</td>\n",
       "      <td>54.0</td>\n",
       "      <td>0.9970</td>\n",
       "      <td>3.26</td>\n",
       "      <td>0.65</td>\n",
       "      <td>9.8</td>\n",
       "      <td>5</td>\n",
       "    </tr>\n",
       "    <tr>\n",
       "      <th>3</th>\n",
       "      <td>11.2</td>\n",
       "      <td>0.28</td>\n",
       "      <td>0.56</td>\n",
       "      <td>1.9</td>\n",
       "      <td>0.075</td>\n",
       "      <td>17.0</td>\n",
       "      <td>60.0</td>\n",
       "      <td>0.9980</td>\n",
       "      <td>3.16</td>\n",
       "      <td>0.58</td>\n",
       "      <td>9.8</td>\n",
       "      <td>6</td>\n",
       "    </tr>\n",
       "    <tr>\n",
       "      <th>4</th>\n",
       "      <td>7.4</td>\n",
       "      <td>0.70</td>\n",
       "      <td>0.00</td>\n",
       "      <td>1.9</td>\n",
       "      <td>0.076</td>\n",
       "      <td>11.0</td>\n",
       "      <td>34.0</td>\n",
       "      <td>0.9978</td>\n",
       "      <td>3.51</td>\n",
       "      <td>0.56</td>\n",
       "      <td>9.4</td>\n",
       "      <td>5</td>\n",
       "    </tr>\n",
       "  </tbody>\n",
       "</table>\n",
       "</div>"
      ],
      "text/plain": [
       "   fixed acidity  volatile acidity  citric acid  residual sugar  chlorides  \\\n",
       "0            7.4              0.70         0.00             1.9      0.076   \n",
       "1            7.8              0.88         0.00             2.6      0.098   \n",
       "2            7.8              0.76         0.04             2.3      0.092   \n",
       "3           11.2              0.28         0.56             1.9      0.075   \n",
       "4            7.4              0.70         0.00             1.9      0.076   \n",
       "\n",
       "   free sulfur dioxide  total sulfur dioxide  density    pH  sulphates  \\\n",
       "0                 11.0                  34.0   0.9978  3.51       0.56   \n",
       "1                 25.0                  67.0   0.9968  3.20       0.68   \n",
       "2                 15.0                  54.0   0.9970  3.26       0.65   \n",
       "3                 17.0                  60.0   0.9980  3.16       0.58   \n",
       "4                 11.0                  34.0   0.9978  3.51       0.56   \n",
       "\n",
       "   alcohol  quality  \n",
       "0      9.4        5  \n",
       "1      9.8        5  \n",
       "2      9.8        5  \n",
       "3      9.8        6  \n",
       "4      9.4        5  "
      ]
     },
     "execution_count": 5,
     "metadata": {},
     "output_type": "execute_result"
    }
   ],
   "source": [
    "df.head()"
   ]
  },
  {
   "cell_type": "code",
   "execution_count": 6,
   "metadata": {},
   "outputs": [
    {
     "data": {
      "text/plain": [
       "(1599, 12)"
      ]
     },
     "execution_count": 6,
     "metadata": {},
     "output_type": "execute_result"
    }
   ],
   "source": [
    "df.shape"
   ]
  },
  {
   "cell_type": "code",
   "execution_count": 7,
   "metadata": {},
   "outputs": [
    {
     "data": {
      "text/plain": [
       "Index(['fixed acidity', 'volatile acidity', 'citric acid', 'residual sugar',\n",
       "       'chlorides', 'free sulfur dioxide', 'total sulfur dioxide', 'density',\n",
       "       'pH', 'sulphates', 'alcohol', 'quality'],\n",
       "      dtype='object')"
      ]
     },
     "execution_count": 7,
     "metadata": {},
     "output_type": "execute_result"
    }
   ],
   "source": [
    "df.columns"
   ]
  },
  {
   "cell_type": "code",
   "execution_count": 8,
   "metadata": {},
   "outputs": [
    {
     "data": {
      "text/plain": [
       "fixed acidity           0\n",
       "volatile acidity        0\n",
       "citric acid             0\n",
       "residual sugar          0\n",
       "chlorides               0\n",
       "free sulfur dioxide     0\n",
       "total sulfur dioxide    0\n",
       "density                 0\n",
       "pH                      0\n",
       "sulphates               0\n",
       "alcohol                 0\n",
       "quality                 0\n",
       "dtype: int64"
      ]
     },
     "execution_count": 8,
     "metadata": {},
     "output_type": "execute_result"
    }
   ],
   "source": [
    "df.isnull().sum()"
   ]
  },
  {
   "cell_type": "code",
   "execution_count": 9,
   "metadata": {},
   "outputs": [
    {
     "data": {
      "text/plain": [
       "fixed acidity           float64\n",
       "volatile acidity        float64\n",
       "citric acid             float64\n",
       "residual sugar          float64\n",
       "chlorides               float64\n",
       "free sulfur dioxide     float64\n",
       "total sulfur dioxide    float64\n",
       "density                 float64\n",
       "pH                      float64\n",
       "sulphates               float64\n",
       "alcohol                 float64\n",
       "quality                   int64\n",
       "dtype: object"
      ]
     },
     "execution_count": 9,
     "metadata": {},
     "output_type": "execute_result"
    }
   ],
   "source": [
    "df.dtypes"
   ]
  },
  {
   "cell_type": "markdown",
   "metadata": {},
   "source": [
    "### Data Prepration for Machine Learning\n",
    "- we divided  the data into 2 parts input data & output data\n",
    "- input data = x & output data = y\n",
    "- again we divide input data into two parts x_train & x_test\n",
    "- again we divide output data into two parts y_train & y_test\n",
    "- model developement heppen on x_train & y_train\n",
    "- Model is will make prediction by taking x_test data and this called y_prediction\n",
    "- y_prediction is now compaired with y_test\n"
   ]
  },
  {
   "cell_type": "code",
   "execution_count": 10,
   "metadata": {},
   "outputs": [],
   "source": [
    "x = df.drop('quality', axis=1)\n",
    "y = df['quality']"
   ]
  },
  {
   "cell_type": "markdown",
   "metadata": {},
   "source": [
    "we use train test split from model selection\n",
    "it will take follwing parameter\n",
    "    - x : input data\n",
    "    - y : output data\n",
    "    - test_size : 0.2  20% test data and 80% train data\n",
    "    - by deafault its 25:75\n",
    "    -random_state\n",
    "        - we want to select observation randomly\n",
    "        - many possible combination\n",
    "        - Every possible combination is represent as a number\n",
    "        - 1,2,3,4,5,6,7,8,9,10\n",
    "        - select 5 number randonly : how many combinations 10c5\n",
    "        - random_state = 42 # 42 is number of combination\n"
   ]
  },
  {
   "cell_type": "code",
   "execution_count": 11,
   "metadata": {},
   "outputs": [],
   "source": [
    "from sklearn.model_selection import train_test_split"
   ]
  },
  {
   "cell_type": "code",
   "execution_count": 12,
   "metadata": {},
   "outputs": [],
   "source": [
    "x_train, x_test, y_train, y_test = train_test_split(x,# input data\n",
    "                                                    y,# output data\n",
    "                                                    test_size=0.2, # data split ratio\n",
    "                                                    random_state=1234 ) # which combination id is selected "
   ]
  },
  {
   "cell_type": "code",
   "execution_count": 13,
   "metadata": {},
   "outputs": [
    {
     "data": {
      "text/plain": [
       "((1279, 11), (320, 11))"
      ]
     },
     "execution_count": 13,
     "metadata": {},
     "output_type": "execute_result"
    }
   ],
   "source": [
    "x_train.shape, x_test.shape"
   ]
  },
  {
   "cell_type": "code",
   "execution_count": 14,
   "metadata": {},
   "outputs": [
    {
     "data": {
      "text/plain": [
       "((1279,), (320,))"
      ]
     },
     "execution_count": 14,
     "metadata": {},
     "output_type": "execute_result"
    }
   ],
   "source": [
    "y_train.shape, y_test.shape"
   ]
  },
  {
   "cell_type": "markdown",
   "metadata": {},
   "source": [
    "### check point 1\n",
    "- check the shape"
   ]
  },
  {
   "cell_type": "code",
   "execution_count": 15,
   "metadata": {},
   "outputs": [
    {
     "name": "stdout",
     "output_type": "stream",
     "text": [
      "the shape of data frame (1599, 12)\n",
      "the shape of x_train data  (1279, 11)\n",
      "the shape of x_test data (320, 11)\n",
      "the shape of y_train data (1279,)\n",
      "the shape of y_test data  (320,)\n"
     ]
    }
   ],
   "source": [
    "print(\"the shape of data frame\", df.shape)\n",
    "print(\"the shape of x_train data \", x_train.shape)\n",
    "print(\"the shape of x_test data\", x_test.shape)\n",
    "print(\"the shape of y_train data\", y_train.shape)\n",
    "print(\"the shape of y_test data \", y_test.shape)"
   ]
  },
  {
   "cell_type": "markdown",
   "metadata": {},
   "source": [
    "### check point 2 \n",
    "- Check the observation index of x_train and y_train both should match\n",
    "- simillerly check index for x_test and y_test both also match"
   ]
  },
  {
   "cell_type": "code",
   "execution_count": 16,
   "metadata": {},
   "outputs": [
    {
     "data": {
      "text/html": [
       "<div>\n",
       "<style scoped>\n",
       "    .dataframe tbody tr th:only-of-type {\n",
       "        vertical-align: middle;\n",
       "    }\n",
       "\n",
       "    .dataframe tbody tr th {\n",
       "        vertical-align: top;\n",
       "    }\n",
       "\n",
       "    .dataframe thead th {\n",
       "        text-align: right;\n",
       "    }\n",
       "</style>\n",
       "<table border=\"1\" class=\"dataframe\">\n",
       "  <thead>\n",
       "    <tr style=\"text-align: right;\">\n",
       "      <th></th>\n",
       "      <th>fixed acidity</th>\n",
       "      <th>volatile acidity</th>\n",
       "      <th>citric acid</th>\n",
       "      <th>residual sugar</th>\n",
       "      <th>chlorides</th>\n",
       "      <th>free sulfur dioxide</th>\n",
       "      <th>total sulfur dioxide</th>\n",
       "      <th>density</th>\n",
       "      <th>pH</th>\n",
       "      <th>sulphates</th>\n",
       "      <th>alcohol</th>\n",
       "    </tr>\n",
       "  </thead>\n",
       "  <tbody>\n",
       "    <tr>\n",
       "      <th>441</th>\n",
       "      <td>11.9</td>\n",
       "      <td>0.40</td>\n",
       "      <td>0.65</td>\n",
       "      <td>2.15</td>\n",
       "      <td>0.068</td>\n",
       "      <td>7.0</td>\n",
       "      <td>27.0</td>\n",
       "      <td>0.99880</td>\n",
       "      <td>3.06</td>\n",
       "      <td>0.68</td>\n",
       "      <td>11.3</td>\n",
       "    </tr>\n",
       "    <tr>\n",
       "      <th>227</th>\n",
       "      <td>9.0</td>\n",
       "      <td>0.82</td>\n",
       "      <td>0.14</td>\n",
       "      <td>2.60</td>\n",
       "      <td>0.089</td>\n",
       "      <td>9.0</td>\n",
       "      <td>23.0</td>\n",
       "      <td>0.99840</td>\n",
       "      <td>3.39</td>\n",
       "      <td>0.63</td>\n",
       "      <td>9.8</td>\n",
       "    </tr>\n",
       "    <tr>\n",
       "      <th>1386</th>\n",
       "      <td>7.4</td>\n",
       "      <td>0.64</td>\n",
       "      <td>0.07</td>\n",
       "      <td>1.80</td>\n",
       "      <td>0.100</td>\n",
       "      <td>8.0</td>\n",
       "      <td>23.0</td>\n",
       "      <td>0.99610</td>\n",
       "      <td>3.30</td>\n",
       "      <td>0.58</td>\n",
       "      <td>9.6</td>\n",
       "    </tr>\n",
       "    <tr>\n",
       "      <th>1245</th>\n",
       "      <td>7.4</td>\n",
       "      <td>0.55</td>\n",
       "      <td>0.19</td>\n",
       "      <td>1.80</td>\n",
       "      <td>0.082</td>\n",
       "      <td>15.0</td>\n",
       "      <td>34.0</td>\n",
       "      <td>0.99655</td>\n",
       "      <td>3.49</td>\n",
       "      <td>0.68</td>\n",
       "      <td>10.5</td>\n",
       "    </tr>\n",
       "    <tr>\n",
       "      <th>60</th>\n",
       "      <td>8.8</td>\n",
       "      <td>0.40</td>\n",
       "      <td>0.40</td>\n",
       "      <td>2.20</td>\n",
       "      <td>0.079</td>\n",
       "      <td>19.0</td>\n",
       "      <td>52.0</td>\n",
       "      <td>0.99800</td>\n",
       "      <td>3.44</td>\n",
       "      <td>0.64</td>\n",
       "      <td>9.2</td>\n",
       "    </tr>\n",
       "  </tbody>\n",
       "</table>\n",
       "</div>"
      ],
      "text/plain": [
       "      fixed acidity  volatile acidity  citric acid  residual sugar  chlorides  \\\n",
       "441            11.9              0.40         0.65            2.15      0.068   \n",
       "227             9.0              0.82         0.14            2.60      0.089   \n",
       "1386            7.4              0.64         0.07            1.80      0.100   \n",
       "1245            7.4              0.55         0.19            1.80      0.082   \n",
       "60              8.8              0.40         0.40            2.20      0.079   \n",
       "\n",
       "      free sulfur dioxide  total sulfur dioxide  density    pH  sulphates  \\\n",
       "441                   7.0                  27.0  0.99880  3.06       0.68   \n",
       "227                   9.0                  23.0  0.99840  3.39       0.63   \n",
       "1386                  8.0                  23.0  0.99610  3.30       0.58   \n",
       "1245                 15.0                  34.0  0.99655  3.49       0.68   \n",
       "60                   19.0                  52.0  0.99800  3.44       0.64   \n",
       "\n",
       "      alcohol  \n",
       "441      11.3  \n",
       "227       9.8  \n",
       "1386      9.6  \n",
       "1245     10.5  \n",
       "60        9.2  "
      ]
     },
     "execution_count": 16,
     "metadata": {},
     "output_type": "execute_result"
    }
   ],
   "source": [
    "x_train.head()"
   ]
  },
  {
   "cell_type": "code",
   "execution_count": 17,
   "metadata": {},
   "outputs": [
    {
     "data": {
      "text/plain": [
       "441     6\n",
       "227     5\n",
       "1386    5\n",
       "1245    5\n",
       "60      5\n",
       "Name: quality, dtype: int64"
      ]
     },
     "execution_count": 17,
     "metadata": {},
     "output_type": "execute_result"
    }
   ],
   "source": [
    "y_train.head()"
   ]
  },
  {
   "cell_type": "code",
   "execution_count": 18,
   "metadata": {},
   "outputs": [
    {
     "data": {
      "text/html": [
       "<div>\n",
       "<style scoped>\n",
       "    .dataframe tbody tr th:only-of-type {\n",
       "        vertical-align: middle;\n",
       "    }\n",
       "\n",
       "    .dataframe tbody tr th {\n",
       "        vertical-align: top;\n",
       "    }\n",
       "\n",
       "    .dataframe thead th {\n",
       "        text-align: right;\n",
       "    }\n",
       "</style>\n",
       "<table border=\"1\" class=\"dataframe\">\n",
       "  <thead>\n",
       "    <tr style=\"text-align: right;\">\n",
       "      <th></th>\n",
       "      <th>fixed acidity</th>\n",
       "      <th>volatile acidity</th>\n",
       "      <th>citric acid</th>\n",
       "      <th>residual sugar</th>\n",
       "      <th>chlorides</th>\n",
       "      <th>free sulfur dioxide</th>\n",
       "      <th>total sulfur dioxide</th>\n",
       "      <th>density</th>\n",
       "      <th>pH</th>\n",
       "      <th>sulphates</th>\n",
       "      <th>alcohol</th>\n",
       "    </tr>\n",
       "  </thead>\n",
       "  <tbody>\n",
       "    <tr>\n",
       "      <th>351</th>\n",
       "      <td>9.1</td>\n",
       "      <td>0.795</td>\n",
       "      <td>0.00</td>\n",
       "      <td>2.6</td>\n",
       "      <td>0.096</td>\n",
       "      <td>11.0</td>\n",
       "      <td>26.0</td>\n",
       "      <td>0.99940</td>\n",
       "      <td>3.35</td>\n",
       "      <td>0.83</td>\n",
       "      <td>9.4</td>\n",
       "    </tr>\n",
       "    <tr>\n",
       "      <th>415</th>\n",
       "      <td>8.6</td>\n",
       "      <td>0.725</td>\n",
       "      <td>0.24</td>\n",
       "      <td>6.6</td>\n",
       "      <td>0.117</td>\n",
       "      <td>31.0</td>\n",
       "      <td>134.0</td>\n",
       "      <td>1.00140</td>\n",
       "      <td>3.32</td>\n",
       "      <td>1.07</td>\n",
       "      <td>9.3</td>\n",
       "    </tr>\n",
       "    <tr>\n",
       "      <th>564</th>\n",
       "      <td>13.0</td>\n",
       "      <td>0.470</td>\n",
       "      <td>0.49</td>\n",
       "      <td>4.3</td>\n",
       "      <td>0.085</td>\n",
       "      <td>6.0</td>\n",
       "      <td>47.0</td>\n",
       "      <td>1.00210</td>\n",
       "      <td>3.30</td>\n",
       "      <td>0.68</td>\n",
       "      <td>12.7</td>\n",
       "    </tr>\n",
       "    <tr>\n",
       "      <th>1124</th>\n",
       "      <td>6.5</td>\n",
       "      <td>0.580</td>\n",
       "      <td>0.00</td>\n",
       "      <td>2.2</td>\n",
       "      <td>0.096</td>\n",
       "      <td>3.0</td>\n",
       "      <td>13.0</td>\n",
       "      <td>0.99557</td>\n",
       "      <td>3.62</td>\n",
       "      <td>0.62</td>\n",
       "      <td>11.5</td>\n",
       "    </tr>\n",
       "    <tr>\n",
       "      <th>147</th>\n",
       "      <td>7.6</td>\n",
       "      <td>0.490</td>\n",
       "      <td>0.26</td>\n",
       "      <td>1.6</td>\n",
       "      <td>0.236</td>\n",
       "      <td>10.0</td>\n",
       "      <td>88.0</td>\n",
       "      <td>0.99680</td>\n",
       "      <td>3.11</td>\n",
       "      <td>0.80</td>\n",
       "      <td>9.3</td>\n",
       "    </tr>\n",
       "  </tbody>\n",
       "</table>\n",
       "</div>"
      ],
      "text/plain": [
       "      fixed acidity  volatile acidity  citric acid  residual sugar  chlorides  \\\n",
       "351             9.1             0.795         0.00             2.6      0.096   \n",
       "415             8.6             0.725         0.24             6.6      0.117   \n",
       "564            13.0             0.470         0.49             4.3      0.085   \n",
       "1124            6.5             0.580         0.00             2.2      0.096   \n",
       "147             7.6             0.490         0.26             1.6      0.236   \n",
       "\n",
       "      free sulfur dioxide  total sulfur dioxide  density    pH  sulphates  \\\n",
       "351                  11.0                  26.0  0.99940  3.35       0.83   \n",
       "415                  31.0                 134.0  1.00140  3.32       1.07   \n",
       "564                   6.0                  47.0  1.00210  3.30       0.68   \n",
       "1124                  3.0                  13.0  0.99557  3.62       0.62   \n",
       "147                  10.0                  88.0  0.99680  3.11       0.80   \n",
       "\n",
       "      alcohol  \n",
       "351       9.4  \n",
       "415       9.3  \n",
       "564      12.7  \n",
       "1124     11.5  \n",
       "147       9.3  "
      ]
     },
     "execution_count": 18,
     "metadata": {},
     "output_type": "execute_result"
    }
   ],
   "source": [
    "x_test.tail()"
   ]
  },
  {
   "cell_type": "code",
   "execution_count": 19,
   "metadata": {},
   "outputs": [
    {
     "data": {
      "text/plain": [
       "351     6\n",
       "415     5\n",
       "564     6\n",
       "1124    4\n",
       "147     5\n",
       "Name: quality, dtype: int64"
      ]
     },
     "execution_count": 19,
     "metadata": {},
     "output_type": "execute_result"
    }
   ],
   "source": [
    "y_test.tail()"
   ]
  },
  {
   "cell_type": "markdown",
   "metadata": {},
   "source": [
    "### Model Developement\n",
    "- import the package\n",
    "- save the package\n",
    "- apply fit transform\n",
    "- from sklearn.< model_name > import < Model class >"
   ]
  },
  {
   "cell_type": "code",
   "execution_count": 20,
   "metadata": {},
   "outputs": [],
   "source": [
    "from sklearn.linear_model import LinearRegression"
   ]
  },
  {
   "cell_type": "code",
   "execution_count": 22,
   "metadata": {},
   "outputs": [
    {
     "data": {
      "text/html": [
       "<style>#sk-container-id-1 {color: black;}#sk-container-id-1 pre{padding: 0;}#sk-container-id-1 div.sk-toggleable {background-color: white;}#sk-container-id-1 label.sk-toggleable__label {cursor: pointer;display: block;width: 100%;margin-bottom: 0;padding: 0.3em;box-sizing: border-box;text-align: center;}#sk-container-id-1 label.sk-toggleable__label-arrow:before {content: \"▸\";float: left;margin-right: 0.25em;color: #696969;}#sk-container-id-1 label.sk-toggleable__label-arrow:hover:before {color: black;}#sk-container-id-1 div.sk-estimator:hover label.sk-toggleable__label-arrow:before {color: black;}#sk-container-id-1 div.sk-toggleable__content {max-height: 0;max-width: 0;overflow: hidden;text-align: left;background-color: #f0f8ff;}#sk-container-id-1 div.sk-toggleable__content pre {margin: 0.2em;color: black;border-radius: 0.25em;background-color: #f0f8ff;}#sk-container-id-1 input.sk-toggleable__control:checked~div.sk-toggleable__content {max-height: 200px;max-width: 100%;overflow: auto;}#sk-container-id-1 input.sk-toggleable__control:checked~label.sk-toggleable__label-arrow:before {content: \"▾\";}#sk-container-id-1 div.sk-estimator input.sk-toggleable__control:checked~label.sk-toggleable__label {background-color: #d4ebff;}#sk-container-id-1 div.sk-label input.sk-toggleable__control:checked~label.sk-toggleable__label {background-color: #d4ebff;}#sk-container-id-1 input.sk-hidden--visually {border: 0;clip: rect(1px 1px 1px 1px);clip: rect(1px, 1px, 1px, 1px);height: 1px;margin: -1px;overflow: hidden;padding: 0;position: absolute;width: 1px;}#sk-container-id-1 div.sk-estimator {font-family: monospace;background-color: #f0f8ff;border: 1px dotted black;border-radius: 0.25em;box-sizing: border-box;margin-bottom: 0.5em;}#sk-container-id-1 div.sk-estimator:hover {background-color: #d4ebff;}#sk-container-id-1 div.sk-parallel-item::after {content: \"\";width: 100%;border-bottom: 1px solid gray;flex-grow: 1;}#sk-container-id-1 div.sk-label:hover label.sk-toggleable__label {background-color: #d4ebff;}#sk-container-id-1 div.sk-serial::before {content: \"\";position: absolute;border-left: 1px solid gray;box-sizing: border-box;top: 0;bottom: 0;left: 50%;z-index: 0;}#sk-container-id-1 div.sk-serial {display: flex;flex-direction: column;align-items: center;background-color: white;padding-right: 0.2em;padding-left: 0.2em;position: relative;}#sk-container-id-1 div.sk-item {position: relative;z-index: 1;}#sk-container-id-1 div.sk-parallel {display: flex;align-items: stretch;justify-content: center;background-color: white;position: relative;}#sk-container-id-1 div.sk-item::before, #sk-container-id-1 div.sk-parallel-item::before {content: \"\";position: absolute;border-left: 1px solid gray;box-sizing: border-box;top: 0;bottom: 0;left: 50%;z-index: -1;}#sk-container-id-1 div.sk-parallel-item {display: flex;flex-direction: column;z-index: 1;position: relative;background-color: white;}#sk-container-id-1 div.sk-parallel-item:first-child::after {align-self: flex-end;width: 50%;}#sk-container-id-1 div.sk-parallel-item:last-child::after {align-self: flex-start;width: 50%;}#sk-container-id-1 div.sk-parallel-item:only-child::after {width: 0;}#sk-container-id-1 div.sk-dashed-wrapped {border: 1px dashed gray;margin: 0 0.4em 0.5em 0.4em;box-sizing: border-box;padding-bottom: 0.4em;background-color: white;}#sk-container-id-1 div.sk-label label {font-family: monospace;font-weight: bold;display: inline-block;line-height: 1.2em;}#sk-container-id-1 div.sk-label-container {text-align: center;}#sk-container-id-1 div.sk-container {/* jupyter's `normalize.less` sets `[hidden] { display: none; }` but bootstrap.min.css set `[hidden] { display: none !important; }` so we also need the `!important` here to be able to override the default hidden behavior on the sphinx rendered scikit-learn.org. See: https://github.com/scikit-learn/scikit-learn/issues/21755 */display: inline-block !important;position: relative;}#sk-container-id-1 div.sk-text-repr-fallback {display: none;}</style><div id=\"sk-container-id-1\" class=\"sk-top-container\"><div class=\"sk-text-repr-fallback\"><pre>LinearRegression()</pre><b>In a Jupyter environment, please rerun this cell to show the HTML representation or trust the notebook. <br />On GitHub, the HTML representation is unable to render, please try loading this page with nbviewer.org.</b></div><div class=\"sk-container\" hidden><div class=\"sk-item\"><div class=\"sk-estimator sk-toggleable\"><input class=\"sk-toggleable__control sk-hidden--visually\" id=\"sk-estimator-id-1\" type=\"checkbox\" checked><label for=\"sk-estimator-id-1\" class=\"sk-toggleable__label sk-toggleable__label-arrow\">LinearRegression</label><div class=\"sk-toggleable__content\"><pre>LinearRegression()</pre></div></div></div></div></div>"
      ],
      "text/plain": [
       "LinearRegression()"
      ]
     },
     "execution_count": 22,
     "metadata": {},
     "output_type": "execute_result"
    }
   ],
   "source": [
    "LR = LinearRegression() # create object of Linear Regression Class\n",
    "LR.fit(x_train,y_train) # with the object name call the fit Method on Data"
   ]
  },
  {
   "cell_type": "markdown",
   "metadata": {},
   "source": [
    "### Model Predictions\n",
    "- Model Prediction happens on x_test"
   ]
  },
  {
   "cell_type": "code",
   "execution_count": 23,
   "metadata": {},
   "outputs": [],
   "source": [
    "y_prediction = LR.predict(x_test)"
   ]
  },
  {
   "cell_type": "code",
   "execution_count": 24,
   "metadata": {},
   "outputs": [
    {
     "data": {
      "text/plain": [
       "array([5.18402693, 5.35222632, 5.59491103, 5.52091961, 6.34175415,\n",
       "       5.39173054, 5.4386121 , 5.95987316, 5.47004148, 6.91005691,\n",
       "       4.98509136, 5.23277066, 5.69063919, 5.52790309, 5.51816101,\n",
       "       5.25774342, 4.97138685, 5.12531479, 6.16831487, 5.17480772,\n",
       "       5.11570282, 5.84314362, 5.18881658, 5.47252159, 5.7234016 ,\n",
       "       6.30684795, 5.29979062, 5.56538456, 6.00395044, 5.51753047,\n",
       "       4.75589372, 6.22649885, 5.24955921, 5.61323762, 5.54866083,\n",
       "       5.4907831 , 6.35361446, 5.23982145, 5.561088  , 5.81104267,\n",
       "       5.21412309, 6.08767487, 5.71655198, 5.34443848, 5.65810399,\n",
       "       5.02362366, 4.94708499, 5.80532814, 6.37676041, 5.54270371,\n",
       "       4.92835023, 5.73605681, 6.61798021, 6.15855747, 5.3704761 ,\n",
       "       5.11932029, 6.22074911, 5.2262822 , 6.44385318, 5.26198348,\n",
       "       5.28301604, 5.12118822, 5.12443471, 5.59218111, 5.02408579,\n",
       "       6.1394565 , 5.71787898, 6.31942795, 5.27013911, 6.0846879 ,\n",
       "       5.72948584, 5.53327202, 5.25038298, 6.17460327, 5.56538456,\n",
       "       5.32083864, 6.0150401 , 6.43530813, 4.88814887, 5.04913954,\n",
       "       5.68729866, 5.57896455, 5.7290186 , 5.97612524, 5.36898168,\n",
       "       5.02880372, 6.12712446, 5.31278196, 5.98479919, 6.13194433,\n",
       "       6.51189266, 5.41283432, 6.05002097, 5.0137043 , 5.46517764,\n",
       "       5.90374559, 5.30178062, 6.6341725 , 6.55082539, 6.0150401 ,\n",
       "       5.39782793, 5.49065123, 5.00327726, 5.55240601, 5.56966691,\n",
       "       5.31776897, 5.8785315 , 5.16223316, 5.42433364, 5.50048598,\n",
       "       6.36084316, 5.56366246, 6.20650152, 5.33506802, 5.55268727,\n",
       "       5.65470064, 5.38775256, 5.88472934, 6.79479485, 5.22782945,\n",
       "       5.95305554, 6.00736039, 5.60945827, 6.32139675, 6.04958854,\n",
       "       5.08971314, 5.24655894, 6.46316326, 6.26310018, 6.20577219,\n",
       "       5.30871293, 5.06889943, 5.87371277, 5.04742047, 5.29421699,\n",
       "       6.33394821, 5.86535105, 5.44319332, 5.41377041, 5.55953192,\n",
       "       5.92200919, 4.90131241, 5.42674997, 5.17617378, 5.75249678,\n",
       "       5.73817797, 5.20373637, 6.21836803, 6.14855266, 5.38058809,\n",
       "       5.47800612, 5.76410437, 6.55219996, 6.67759536, 6.01314068,\n",
       "       5.82095648, 5.7008064 , 5.6372558 , 6.53315447, 5.58878886,\n",
       "       6.39210152, 5.79143598, 6.00258743, 5.36003016, 5.78468889,\n",
       "       6.11196626, 5.35037059, 4.26057299, 5.76791222, 5.93493452,\n",
       "       4.91915794, 5.72793247, 4.98863426, 5.73442024, 6.54892053,\n",
       "       5.99519265, 5.32064824, 5.5417675 , 5.75760708, 4.99679769,\n",
       "       6.00322766, 5.22622448, 5.81451724, 6.55850657, 5.26574422,\n",
       "       5.14661707, 6.47572385, 6.66312736, 5.82315529, 6.20626549,\n",
       "       6.01180722, 5.5084863 , 4.76066998, 6.41669333, 5.33756863,\n",
       "       4.80308078, 5.37155263, 6.9354863 , 5.31029439, 5.0480916 ,\n",
       "       5.85891607, 5.89886295, 5.74584066, 5.01770049, 6.60247899,\n",
       "       5.57766701, 5.8545049 , 5.11620488, 5.05950153, 4.8547598 ,\n",
       "       5.67796929, 5.02413353, 5.61492682, 5.08946876, 5.90855691,\n",
       "       6.66104943, 5.34975935, 5.36444569, 5.34261961, 5.61719826,\n",
       "       5.58848586, 5.89060018, 4.91678293, 5.39826875, 5.78675148,\n",
       "       4.98881432, 5.50889257, 6.13549554, 5.58819852, 5.99411749,\n",
       "       6.31666165, 5.50318331, 5.71787898, 5.0510233 , 5.44834178,\n",
       "       5.30067944, 6.40801641, 5.76406936, 5.79597235, 6.33739864,\n",
       "       5.26793641, 5.09437997, 6.34545057, 5.26134981, 5.23889138,\n",
       "       4.96522989, 4.94576152, 5.76101187, 6.44246558, 6.2376922 ,\n",
       "       5.64193325, 5.72848848, 6.19479981, 5.02413353, 5.84825118,\n",
       "       5.48096597, 5.32537219, 5.19429238, 5.80581404, 5.40012258,\n",
       "       5.40404058, 5.04857237, 6.12756557, 6.3227982 , 5.90458709,\n",
       "       6.06247903, 6.05103932, 5.90143817, 5.35740672, 5.3704761 ,\n",
       "       5.08845724, 5.28767367, 5.42170404, 5.37003359, 5.6390435 ,\n",
       "       5.7296821 , 6.07227189, 4.96325159, 5.56339633, 5.33250366,\n",
       "       6.12791952, 5.76158439, 5.86698002, 5.39748052, 5.28465633,\n",
       "       5.75837267, 5.8149593 , 5.04968   , 5.32844916, 5.75393581,\n",
       "       6.40127499, 5.9373478 , 4.96300949, 5.84909362, 5.70593835,\n",
       "       5.61992295, 5.18050416, 5.35265055, 4.98881432, 5.3791698 ,\n",
       "       5.94624924, 6.53523473, 5.91201571, 5.12493362, 6.52934475,\n",
       "       6.3308775 , 5.73186785, 4.97265088, 5.64601463, 5.15505816,\n",
       "       5.39108249, 5.11050691, 5.73657613, 5.55826824, 6.03342611,\n",
       "       5.22024243, 5.14645374, 6.27657951, 5.77733102, 5.12131274])"
      ]
     },
     "execution_count": 24,
     "metadata": {},
     "output_type": "execute_result"
    }
   ],
   "source": [
    "y_prediction"
   ]
  },
  {
   "cell_type": "markdown",
   "metadata": {},
   "source": [
    "### Model Evaluation Metrix\n",
    "- from sklearn.metrics import r2_score, mean_squared_error"
   ]
  },
  {
   "cell_type": "code",
   "execution_count": 25,
   "metadata": {},
   "outputs": [],
   "source": [
    "from sklearn.metrics import r2_score, mean_squared_error"
   ]
  },
  {
   "cell_type": "code",
   "execution_count": 26,
   "metadata": {},
   "outputs": [],
   "source": [
    "R2 = r2_score(y_test,y_prediction)\n",
    "MSE =mean_squared_error(y_test, y_prediction)\n",
    "# MSE 1/2\n",
    "RMSE = np.sqrt(MSE)\n",
    "\n"
   ]
  },
  {
   "cell_type": "code",
   "execution_count": null,
   "metadata": {},
   "outputs": [],
   "source": []
  }
 ],
 "metadata": {
  "kernelspec": {
   "display_name": "base",
   "language": "python",
   "name": "python3"
  },
  "language_info": {
   "codemirror_mode": {
    "name": "ipython",
    "version": 3
   },
   "file_extension": ".py",
   "mimetype": "text/x-python",
   "name": "python",
   "nbconvert_exporter": "python",
   "pygments_lexer": "ipython3",
   "version": "3.11.5"
  }
 },
 "nbformat": 4,
 "nbformat_minor": 2
}
