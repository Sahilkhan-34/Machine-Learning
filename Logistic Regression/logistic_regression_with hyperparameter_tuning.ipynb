{
 "cells": [
  {
   "cell_type": "markdown",
   "metadata": {},
   "source": [
    "### Regularization\n",
    "****\n",
    "\n",
    "- in regression eq the cost function(J) = sub i = to n  (y_actual - y_prediction)**2\n",
    "- if the model is overfitted the cost function or total error is 0\n",
    "- \n",
    "- by Rregularzation technique avoides the overfitting by modifying the cost function eq\n",
    "\n",
    "- Ridge regression : L2 power :2\n",
    "- Now the cost function becomes\n",
    "- cost function = 1/N * submation (y_actual - y_prediction) **2 + (slop) **2 \n",
    "-  assumne that the regression equation : b0+b1*x1\n",
    "- cost fun = "
   ]
  },
  {
   "cell_type": "code",
   "execution_count": null,
   "metadata": {},
   "outputs": [],
   "source": []
  }
 ],
 "metadata": {
  "language_info": {
   "name": "python"
  }
 },
 "nbformat": 4,
 "nbformat_minor": 2
}
